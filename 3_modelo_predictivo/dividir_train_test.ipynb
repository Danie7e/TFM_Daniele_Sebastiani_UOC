{
  "nbformat": 4,
  "nbformat_minor": 0,
  "metadata": {
    "colab": {
      "provenance": []
    },
    "kernelspec": {
      "name": "python3",
      "display_name": "Python 3"
    },
    "language_info": {
      "name": "python"
    }
  },
  "cells": [
    {
      "cell_type": "code",
      "source": [
        "from google.colab import drive\n",
        "drive.mount('/content/drive')"
      ],
      "metadata": {
        "colab": {
          "base_uri": "https://localhost:8080/"
        },
        "id": "CvdjULrk_34U",
        "outputId": "e64c1226-7556-42c7-c39b-ac3dc6202920"
      },
      "execution_count": 2,
      "outputs": [
        {
          "output_type": "stream",
          "name": "stdout",
          "text": [
            "Mounted at /content/drive\n"
          ]
        }
      ]
    },
    {
      "cell_type": "code",
      "source": [
        "#@title Importar dataframe comparación\n",
        "import os\n",
        "import pandas as pd\n",
        "\n",
        "\n",
        "input_folder = \"/content/drive/MyDrive/TFM/T3/Archivos\"\n",
        "\n",
        "df_misma_conformacion_output = os.path.join(input_folder, \"df_misma_conformacion_lig.csv\")\n",
        "df_diff_conformacion_output = os.path.join(input_folder, \"df_diff_conformacion_lig.csv\")\n",
        "\n",
        "df_misma_conformacion_lig = pd.read_csv(df_misma_conformacion_output, sep =',')\n",
        "df_diff_conformacion_lig = pd.read_csv(df_diff_conformacion_output, sep =',')"
      ],
      "metadata": {
        "id": "RprUgPa4_319"
      },
      "execution_count": 3,
      "outputs": []
    },
    {
      "cell_type": "code",
      "source": [
        "#@title Unir dataframe comparación\n",
        "\n",
        "df_unido = pd.concat([df_diff_conformacion_lig,df_misma_conformacion_lig])\n",
        "df_unido.shape[0]"
      ],
      "metadata": {
        "colab": {
          "base_uri": "https://localhost:8080/"
        },
        "id": "2JrMvUud_3zG",
        "outputId": "f55e21a8-8f7b-4168-e17d-ffba82dbac47"
      },
      "execution_count": 4,
      "outputs": [
        {
          "output_type": "execute_result",
          "data": {
            "text/plain": [
              "12195215"
            ]
          },
          "metadata": {},
          "execution_count": 4
        }
      ]
    },
    {
      "cell_type": "code",
      "source": [
        "#@title Abrir los dataframes\n",
        "\n",
        "import os\n",
        "import pandas as pd\n",
        "\n",
        "input_folder = \"/content/drive/MyDrive/TFM/T3/Red_Neuronal/intento2\"\n",
        "input_file_df_final = os.path.join(input_folder, \"df_FINAL_tot.csv\")\n",
        "df_harm = pd.read_csv(input_file_df_final, sep = ',')\n",
        "print(df_harm.shape[0],df_harm.columns)"
      ],
      "metadata": {
        "colab": {
          "base_uri": "https://localhost:8080/"
        },
        "id": "shLtFBVf_3wj",
        "outputId": "a90a19e7-9f5b-48bd-837e-e3f5042a188b"
      },
      "execution_count": 5,
      "outputs": [
        {
          "output_type": "stream",
          "name": "stdout",
          "text": [
            "70378 Index(['PDB_entry_id', 'Classification', 'Organism', 'Uniprot_id', 'Ligand_id',\n",
            "       'Ligand_InChi', 'Experimental_method', 'Resolution',\n",
            "       'Adding_Classification', 'Affinity', 'Coordenadas', 'Ligand_smiles',\n",
            "       'Mol_Weight', 'n_atoms', 'Nombre', 'Ligand_Class', 'Pfam_Names',\n",
            "       'SUPFAM_Names', 'intepro_class'],\n",
            "      dtype='object')\n"
          ]
        }
      ]
    },
    {
      "cell_type": "code",
      "source": [
        "instancia_tot = df_harm['Nombre'].tolist()"
      ],
      "metadata": {
        "id": "84UQZslj_3uD"
      },
      "execution_count": 6,
      "outputs": []
    },
    {
      "cell_type": "code",
      "source": [
        "print(df_unido.shape[0])\n",
        "\n",
        "df_unido = df_unido[df_unido['lig1'].isin(instancia_tot)]\n",
        "df_unido = df_unido[df_unido['lig2'].isin(instancia_tot)]\n",
        "\n",
        "print(df_unido.shape[0])"
      ],
      "metadata": {
        "colab": {
          "base_uri": "https://localhost:8080/"
        },
        "id": "uwzxjTmK_3rT",
        "outputId": "77680cca-b152-408b-a34b-2e30c6f4c2b1"
      },
      "execution_count": 7,
      "outputs": [
        {
          "output_type": "stream",
          "name": "stdout",
          "text": [
            "12195215\n",
            "12195065\n"
          ]
        }
      ]
    },
    {
      "cell_type": "code",
      "source": [
        "#@title Clasificar ligandos según similitud de conformación\n",
        "\n",
        "threshold = 0.6\n",
        "\n",
        "# agrupamos por ligando y recogemos la serie de similitudes\n",
        "grp = df_unido.groupby('ligand')['sim']\n",
        "\n",
        "solo_misma_lig = [lig for lig, sims in grp if (sims >  threshold).all()]\n",
        "solo_diff_lig  = [lig for lig, sims in grp if (sims <=  threshold).all()]\n",
        "\n",
        "# los demás\n",
        "all_ligs = df_unido['ligand'].unique()\n",
        "variable_lig = [lig for lig in all_ligs\n",
        "                if lig not in solo_misma_lig + solo_diff_lig]\n",
        "\n",
        "print(\"solo_misma:\", solo_misma_lig)\n",
        "print(\"solo_diff: \", solo_diff_lig)\n",
        "print(\"variable:  \", variable_lig)"
      ],
      "metadata": {
        "colab": {
          "base_uri": "https://localhost:8080/"
        },
        "id": "XHAveB33_3oz",
        "outputId": "4e867634-57b6-4684-dc1a-bcb93b1a9c36"
      },
      "execution_count": 8,
      "outputs": [
        {
          "output_type": "stream",
          "name": "stdout",
          "text": [
            "solo_misma: ['010', '02A', '03M', '03V', '041', '07L', '08J', '0HK', '0HN', '0IM', '0L1', '0L9', '0PY', '0R0', '0RE', '0S6', '0SX', '0UE', '0V5', '0WK', '0X3', '0Y0', '10L', '115', '11H', '120', '123', '12D', '12Q', '132', '135', '13X', '144', '145', '146', '147', '152', '15E', '171', '173', '174', '1AB', '1AC', '1BN', '1CA', '1CY', '1DA', '1DZ', '1F1', '1FF', '1FL', '1GC', '1GH', '1HN', '1JJ', '1K0', '1KA', '1KP', '1LQ', '1MZ', '1NP', '1P8', '1PR', '1QQ', '1SQ', '1SU', '1TI', '1UN', '1XM', '1Y6', '210', '211', '21G', '22L', '22U', '23D', '23U', '241', '26D', '27H', '27J', '27L', '27M', '27N', '29L', '29N', '29T', '2AD', '2AF', '2AL', '2AM', '2AN', '2AP', '2AQ', '2AS', '2BG', '2C0', '2CH', '2CL', '2CQ', '2D0', '2EC', '2EH', '2GP', '2HA', '2HC', '2HE', '2IM', '2JJ', '2KT', '2L1', '2LX', '2LY', '2MP', '2MR', '2MZ', '2NU', '2OH', '2OP', '2PG', '2Q2', '2RH', '2SX', '2UP', '2ZM', '308', '323', '32U', '34Z', '36J', '36X', '37T', '38T', '3A9', '3AB', '3AD', '3AM', '3BZ', '3C4', '3C5', '3CH', '3DS', '3EB', '3EP', '3F8', '3GR', '3HA', '3HB', '3HL', '3HP', '3HR', '3IB', '3ID', '3IL', '3JD', '3JF', '3LQ', '3LX', '3M0', '3M5', '3MG', '3MI', '3NM', '3NT', '3NY', '3OH', '3PF', '3PP', '3PY', '3SL', '3SY', '3TR', '3UZ', '3WL', '3XH', '3YT', '3Z7', '40E', '41K', '42C', '44V', '453', '45L', '45Y', '463', '46L', '47U', '47V', '482', '486', '489', '4AD', '4AP', '4AQ', '4CH', '4CS', '4CT', '4DS', '4EU', '4F1', '4FL', '4FS', '4FT', '4HA', '4HC', '4HP', '4IK', '4IP', '4J8', '4JM', '4JO', '4JQ', '4LS', '4MA', '4MB', '4ME', '4MN', '4MV', '4MZ', '4NB', '4NC', '4NP', '4NZ', '4O7', '4OL', '4P0', '4PW', '4QY', '4SO', '4SP', '4SV', '4TG', '4VD', '4WG', '4WL', '4Y5', '4YS', '4ZV', '51V', '51X', '52F', '52L', '53C', '54F', '54G', '54T', '54Y', '570', '57D', '5AO', '5BS', '5CD', '5CR', '5CU', '5F8', '5G1', '5H1', '5H5', '5HN', '5IV', '5JC', '5JL', '5LC', '5MK', '5MY', '5NI', '5NK', '5NU', '5OB', '5OF', '5OO', '5RG', '5RN', '5SD', '5SH', '5SW', '5U6', '5V5', '5VL', '5WX', '5ZE', '60P', '60Q', '61M', '620', '64K', '64X', '655', '657', '67B', '67I', '68T', '696', '69G', '69O', '6AI', '6CM', '6CS', '6DB', '6FW', '6FZ', '6GY', '6JP', '6L0', '6LH', '6LR', '6NI', '6NT', '6OT', '6P3', '6PC', '6Q5', '6QL', '6R2', '6RQ', '6SO', '6T3', '6U6', '6VL', '73B', '73K', '76Y', '77X', '799', '7DV', '7EY', '7HE', '7HP', '7L2', '7L9', '7LD', '7MA', '7MU', '7N1', '7OW', '7RI', '7TS', '7WA', '7Y3', '7YY', '7ZC', '7ZV', '803', '818', '827', '82V', '860', '89W', '8BT', '8CG', '8DH', '8EL', '8H8', '8HC', '8HG', '8K2', '8L6', '8M2', '8NE', '8PF', '8PR', '8QW', '8RH', '8SW', '8X3', '8YH', '8YJ', '9D2', '9DA', '9DG', '9FH', '9GF', '9JE', '9KS', '9MG', '9O9', '9OI', '9ON', '9PG', '9QN', '9RB', '9SF', '9ST', '9TF', '9TY', '9UE', '9UO', '9XY', 'A0O', 'A1B', 'A1O', 'A3B', 'A3G', 'A6R', 'A6Z', 'A7N', 'A80', 'A82', 'A8S', 'AA', 'AA5', 'AAE', 'AAP', 'ABA', 'ABH', 'ABN', 'ABV', 'AC6', 'ACA', 'ACK', 'AD9', 'ADA', 'ADE', 'ADM', 'ADZ', 'AEF', 'AES', 'AEV', 'AFP', 'AGI', 'AGP', 'AH0', 'AHD', 'AHR', 'AIN', 'AJ2', 'AJR', 'AKB', 'ALE', 'ALL', 'ALO', 'ALQ', 'AMG', 'AMH', 'AML', 'AMQ', 'AMR', 'AMT', 'AMU', 'ANC', 'AND', 'ANL', 'ANN', 'AOA', 'AOM', 'AOQ', 'AOT', 'AOX', 'APG', 'APO', 'AQG', 'AQO', 'AR3', 'ARA', 'ARB', 'AS4', 'ASD', 'ASO', 'AUF', 'AVI', 'AVJ', 'AWD', 'AX7', 'AXG', 'AXS', 'AYR', 'AYV', 'AZA', 'AZG', 'AZN', 'AZZ', 'B1A', 'B1J', 'B1T', 'B21', 'B40', 'B55', 'BAE', 'BAI', 'BAL', 'BAQ', 'BCN', 'BCZ', 'BDF', 'BDP', 'BDR', 'BE2', 'BEA', 'BEN', 'BEO', 'BEP', 'BET', 'BG6', 'BGI', 'BGP', 'BGQ', 'BHA', 'BHC', 'BHF', 'BHO', 'BIH', 'BIT', 'BIV', 'BL1', 'BLG', 'BLV', 'BMD', 'BML', 'BMS', 'BMZ', 'BNL', 'BNT', 'BNZ', 'BP4', 'BQ1', 'BT5', 'BTM', 'BTQ', 'BU1', 'BU2', 'BU3', 'BU4', 'BU9', 'BUA', 'BUB', 'BUD', 'BVD', 'BVF', 'BX3', 'BYZ', 'BZ2', 'BZE', 'BZI', 'BZJ', 'BZQ', 'C21', 'C2B', 'C2N', 'C3D', 'C5B', 'C5E', 'C6P', 'C6V', 'C87', 'CAG', 'CAM', 'CAQ', 'CAR', 'CAU', 'CBJ', 'CBP', 'CBW', 'CDI', 'CDT', 'CEL', 'CFA', 'CFB', 'CFF', 'CHC', 'CHI', 'CHX', 'CIY', 'CK4', 'CKI', 'CL6', 'CLW', 'CMG', 'CMU', 'CNI', 'CNL', 'COC', 'COI', 'COM', 'COT', 'COU', 'CP', 'CP6', 'CPB', 'CQG', 'CR9', 'CRN', 'CRS', 'CSS', 'CTC', 'CTI', 'CTS', 'CTY', 'CUE', 'CVI', 'CWE', 'CWS', 'CXF', 'CXL', 'CYH', 'CYT', 'CYZ', 'CZH', 'D0Q', 'D1D', 'D4V', 'D95', 'DAB', 'DAH', 'DAL', 'DAN', 'DAS', 'DBB', 'DBH', 'DBJ', 'DBS', 'DC', 'DCL', 'DCS', 'DCY', 'DCZ', 'DD8', 'DDS', 'DE5', 'DEB', 'DEE', 'DES', 'DEW', 'DEX', 'DFL', 'DGL', 'DGN', 'DGY', 'DHB', 'DHC', 'DHI', 'DHK', 'DHT', 'DHY', 'DIH', 'DIN', 'DLU', 'DLZ', 'DM5', 'DMD', 'DMG', 'DMI', 'DMQ', 'DNF', 'DNN', 'DNQ', 'DO3', 'DOB', 'DOG', 'DOR', 'DPN', 'DPS', 'DQH', 'DQM', 'DQN', 'DQY', 'DS9', 'DSD', 'DSN', 'DT5', 'DTB', 'DTD', 'DTH', 'DTX', 'DTY', 'DUC', 'DX5', 'DXE', 'DXL', 'DXT', 'DYD', 'E4H', 'E4P', 'E5E', 'E5Q', 'E5X', 'E7P', 'E9Q', 'EAE', 'EAM', 'EAX', 'EB4', 'ECL', 'EEE', 'EF2', 'EFO', 'EFZ', 'EHM', 'ELQ', 'EMO', 'EMU', 'EN6', 'ENK', 'ENO', 'EPC', 'EPS', 'EQN', 'EQP', 'EQU', 'ERD', 'ERM', 'ES1', 'ES3', 'ES4', 'ESA', 'ESI', 'ESL', 'EST', 'ET', 'ETX', 'EUI', 'EVD', 'EVE', 'EVH', 'EVM', 'EYK', 'EZ5', 'EZE', 'F05', 'F06', 'F0G', 'F0K', 'F1A', 'F1P', 'F1X', 'F43', 'F4K', 'F63', 'F98', 'FA1', 'FB2', 'FBB', 'FC6', 'FC7', 'FCA', 'FCB', 'FCE', 'FCN', 'FCO', 'FCR', 'FDP', 'FER', 'FFP', 'FFQ', 'FHC', 'FIC', 'FIV', 'FJF', 'FK1', 'FLR', 'FLU', 'FLV', 'FMB', 'FO1', 'FOA', 'FOM', 'FOT', 'FSC', 'FSE', 'FT1', 'FTC', 'FUC', 'FUL', 'FVX', 'FWD', 'FWK', 'FWZ', 'FYB', 'G1P', 'G39', 'G3D', 'G4C', 'G5A', 'G6Q', 'G93', 'G9J', 'G9V', 'GA2', 'GA3', 'GA4', 'GAA', 'GAS', 'GAV', 'GBL', 'GCS', 'GCU', 'GDE', 'GDM', 'GDQ', 'GDV', 'GEE', 'GEN', 'GEO', 'GFH', 'GGL', 'GKR', 'GLA', 'GLC', 'GLO', 'GLS', 'GMC', 'GNG', 'GOJ', 'GOQ', 'GOV', 'GP1', 'GPJ', 'GPS', 'GPX', 'GQJ', 'GSB', 'GSM', 'GT4', 'GTF', 'GTQ', 'GTR', 'GUA', 'GUN', 'GV1', 'GV4', 'GVG', 'GVH', 'GVV', 'GW5', 'GW6', 'GWS', 'GWV', 'GX4', 'GXE', 'GXL', 'GYP', 'GZL', 'H01', 'H04', 'H0D', 'H1B', 'H35', 'H3R', 'H3W', 'H48', 'H4B', 'H4N', 'H5J', 'H70', 'H8F', 'H97', 'H9Y', 'HAI', 'HAM', 'HAR', 'HBA', 'HBD', 'HBR', 'HBS', 'HBX', 'HC4', 'HCA', 'HCC', 'HCI', 'HCS', 'HCY', 'HCZ', 'HDA', 'HDD', 'HE2', 'HEW', 'HFA', 'HFG', 'HFT', 'HGA', 'HGQ', 'HH8', 'HHA', 'HHH', 'HHN', 'HHQ', 'HHT', 'HIO', 'HIU', 'HLT', 'HM6', 'HMD', 'HMH', 'HMU', 'HNI', 'HNN', 'HNO', 'HNQ', 'HNV', 'HNW', 'HOW', 'HPA', 'HPP', 'HPS', 'HPV', 'HQE', 'HR5', 'HRE', 'HRM', 'HRZ', 'HSA', 'HSE', 'HSL', 'HSO', 'HV2', 'HVK', 'HX2', 'HY3', 'HYN', 'HYP', 'I2E', 'I3A', 'I3C', 'I3S', 'I46', 'I4P', 'I6G', 'I7B', 'I7T', 'IAC', 'IC1', 'ICB', 'ICO', 'ICT', 'ID8', 'IDM', 'IEJ', 'IFM', 'IGP', 'IKT', 'IKX', 'ILO', 'IM4', 'IMU', 'IMV', 'IN5', 'IND', 'ING', 'INR', 'INS', 'IO9', 'IOS', 'IP1', 'IP2', 'IPB', 'IPD', 'IPH', 'IPL', 'IQP', 'IRN', 'IRU', 'ISA', 'ISC', 'ISN', 'ISQ', 'ISZ', 'ITF', 'ITN', 'ITP', 'IU5', 'IUR', 'IVA', 'IWD', 'IXM', 'IYR', 'IZP', 'J01', 'J60', 'J89', 'JAH', 'JAW', 'JBR', 'JE6', 'JFJ', 'JFN', 'JFS', 'JGA', 'JGD', 'JGG', 'JGP', 'JGY', 'JH1', 'JHL', 'JHP', 'JJ7', 'JKE', 'JKG', 'JLN', 'JMM', 'JNZ', 'JO4', 'JOV', 'JPP', 'JPZ', 'JQ9', 'JTH', 'JTN', 'JUG', 'JZ0', 'JZ3', 'JZR', 'K0D', 'K0G', 'K0J', 'K0V', 'K1A', 'K1G', 'K1P', 'K1S', 'K24', 'K2B', 'K2G', 'K2M', 'K2P', 'K2S', 'K32', 'K34', 'K3A', 'K3J', 'K3Y', 'K3Z', 'K4R', 'K5V', 'K6U', 'K7L', 'K7N', 'K7Q', 'K7V', 'K8W', 'K92', 'KAB', 'KAI', 'KB8', 'KBU', 'KC2', 'KCC', 'KDH', 'KDJ', 'KDM', 'KDN', 'KDO', 'KF8', 'KFN', 'KGM', 'KGN', 'KH2', 'KHF', 'KIV', 'KLQ', 'KLT', 'KMP', 'KN1', 'KN3', 'KO2', 'KOU', 'KT0', 'KWB', 'KXX', 'L1T', 'L2K', 'L3D', 'L46', 'L5W', 'L60', 'LAB', 'LAZ', 'LCS', 'LDP', 'LDR', 'LEA', 'LF0', 'LF5', 'LF6', 'LFC', 'LFO', 'LFR', 'LFX', 'LG2', 'LG4', 'LGA', 'LGC', 'LGT', 'LHR', 'LIP', 'LJR', 'LKU', 'LKY', 'LL0', 'LLH', 'LLP', 'LMR', 'LNR', 'LOC', 'LPU', 'LQ3', 'LQD', 'LQP', 'LQQ', 'LQV', 'LRF', 'LSA', 'LSS', 'LTV', 'LU2', 'LUY', 'LV4', 'LVD', 'LVY', 'LW8', 'LWA', 'LX1', 'LXC', 'LY2', 'LY5', 'LYN', 'LZ1', 'LZE', 'LZU', 'M1A', 'M1P', 'M2M', 'M6D', 'M6H', 'M6P', 'M9A', 'MAE', 'MAK', 'MB3', 'MB5', 'MBG', 'MBN', 'MBT', 'MBW', 'MCF', 'MCT', 'MDN', 'MED', 'MEV', 'MEW', 'MF3', 'MFU', 'MG7', 'MGO', 'MGR', 'MH0', 'MHA', 'MIC', 'MKS', 'MKU', 'MLA', 'MLK', 'MLQ', 'MMA', 'MML', 'MN1', 'MNB', 'MNP', 'MOF', 'MOK', 'MP5', 'MPB', 'MPH', 'MRI', 'MRY', 'MRZ', 'MSL', 'MSR', 'MTH', 'MTL', 'MTM', 'MUC', 'MUK', 'MXD', 'MY6', 'MYC', 'MYI', 'N', 'N1E', 'N1N', 'N2P', 'N6H', 'N6M', 'N7P', 'N7S', 'N8G', 'N9J', 'NAK', 'NBE', 'NBN', 'NBZ', 'NC3', 'NCA', 'NCD', 'NCT', 'NDF', 'NDR', 'NDS', 'NEC', 'NEQ', 'NES', 'NEU', 'NFA', 'NFL', 'NFU', 'NG1', 'NGA', 'NGE', 'NGS', 'NGV', 'NGY', 'NIO', 'NK', 'NLA', 'NM2', 'NM7', 'NNR', 'NOG', 'NOJ', 'NOY', 'NPL', 'NPO', 'NPS', 'NPY', 'NT7', 'NTA', 'NTM', 'NTN', 'NTV', 'NTZ', 'NU4', 'NUA', 'NUT', 'NVA', 'NVI', 'NVP', 'NVU', 'NVY', 'NWG', 'NWY', 'NX7', 'NXA', 'NYV', 'NZ1', 'NZ5', 'NZA', 'NZD', 'NZO', 'O0M', 'O0P', 'O1G', 'O1M', 'O23', 'O3D', 'O3G', 'O4B', 'O6O', 'OAA', 'OAS', 'OBT', 'OC9', 'OCH', 'ODV', 'OEM', 'OHB', 'OHP', 'OKL', 'OMR', 'ONM', 'OOG', 'OPE', 'OR8', 'ORD', 'ORO', 'OS2', 'OSB', 'OTR', 'OVA', 'OVM', 'OX8', 'OXD', 'OXE', 'OXM', 'P1A', 'P1T', 'P2L', 'P32', 'P4A', 'P4P', 'P5A', 'P5O', 'P6U', 'P9P', 'PA1', 'PA5', 'PAB', 'PAC', 'PAE', 'PAF', 'PAH', 'PAV', 'PBE', 'PBQ', 'PBZ', 'PCA', 'PCD', 'PCI', 'PCP', 'PCQ', 'PCR', 'PCT', 'PCX', 'PD2', 'PDA', 'PDC', 'PDD', 'PDN', 'PEA', 'PEL', 'PFL', 'PGA', 'PHB', 'PHN', 'PHT', 'PHU', 'PIF', 'PIM', 'PIV', 'PIY', 'PIZ', 'PK4', 'PL0', 'PLA', 'PLB', 'PLO', 'PLR', 'PLT', 'PM6', 'PMB', 'PML', 'PMM', 'PMN', 'PMP', 'PMV', 'PNA', 'PO6', 'POA', 'PP1', 'PP3', 'PPF', 'PQ0', 'PQB', 'PRE', 'PRF', 'PRH', 'PRI', 'PRL', 'PRZ', 'PTD', 'PTE', 'PTL', 'PUR', 'PX9', 'PXM', 'PXN', 'PXP', 'PXY', 'PY6', 'PYC', 'PYE', 'PYJ', 'PYV', 'PYZ', 'PZA', 'PZE', 'Q3C', 'Q3V', 'Q49', 'Q4K', 'Q4L', 'Q6O', 'Q6T', 'Q7L', 'Q7X', 'QBC', 'QCG', 'QCP', 'QDK', 'QI9', 'QIC', 'QJ1', 'QKZ', 'QL5', 'QMS', 'QNB', 'QQ4', 'QSO', 'QUE', 'QUS', 'QVR', 'QX4', 'R18', 'R2A', 'R30', 'R8V', 'RAM', 'RAP', 'RB0', 'RB5', 'RB8', 'RBT', 'RBV', 'RCO', 'RDC', 'RED', 'REG', 'RFP', 'RHN', 'RIB', 'RIO', 'RIP', 'RIS', 'RJW', 'RM4', 'RMN', 'RNB', 'RNS', 'ROR', 'RP5', 'RSF', 'RSG', 'RTO', 'RUT', 'RUY', 'RV4', 'RVP', 'RWS', 'RWV', 'RX7', 'RXO', 'RXS', 'RXT', 'RY4', 'RYD', 'RYM', 'RYP', 'RZG', 'RZJ', 'RZS', 'S0H', 'S0I', 'S0V', 'S2S', 'S3V', 'S5B', 'S5J', 'S7A', 'S7D', 'S7G', 'S7J', 'S7S', 'S7V', 'S8G', 'S9S', 'SAC', 'SAI', 'SAL', 'SAN', 'SAR', 'SAT', 'SAU', 'SAV', 'SBR', 'SCG', 'SDN', 'SEC', 'SES', 'SGM', 'SGN', 'SGP', 'SGV', 'SHA', 'SHV', 'SI5', 'SIT', 'SKD', 'SKM', 'SLU', 'SLX', 'SMN', 'SNE', 'SNL', 'SOE', 'SOL', 'SP1', 'SR1', 'SRL', 'SRT', 'SRY', 'SSN', 'ST0', 'STR', 'STU', 'SU9', 'SUV', 'SWF', 'SXX', 'SY9', 'SYM', 'SYQ', 'SYX', 'SZ4', 'SZB', 'SZE', 'SZY', 'T0O', 'T0Y', 'T27', 'T3A', 'T3P', 'T4B', 'T5V', 'T5Y', 'T63', 'T6C', 'T6J', 'T7L', 'T7U', 'T83', 'T9S', 'TA1', 'TA6', 'TAC', 'TAR', 'TAU', 'TB1', 'TB6', 'TB9', 'TBP', 'TBS', 'TBY', 'TCI', 'TCL', 'TCR', 'TCW', 'TDC', 'TDK', 'TDM', 'TDR', 'TEK', 'TEO', 'TEP', 'TES', 'TF4', 'TFA', 'TFX', 'TH4', 'THA', 'THD', 'THE', 'THP', 'TIH', 'TIZ', 'TJL', 'TLF', 'TLZ', 'TMC', 'TMG', 'TNF', 'TNK', 'TO1', 'TOF', 'TOP', 'TP5', 'TP7', 'TPA', 'TPO', 'TPV', 'TQC', 'TRC', 'TSA', 'TSU', 'TSV', 'TTN', 'TTT', 'TU6', 'TV9', 'TYC', 'TYF', 'TYL', 'TYZ', 'TZL', 'U05', 'U0P', 'U0S', 'U2R', 'U30', 'U4T', 'U6V', 'U7J', 'U8O', 'U9S', 'UA2', 'UB7', 'UC1', 'UCN', 'UEG', 'UI4', 'UIB', 'UIS', 'UJK', 'UJQ', 'UN1', 'UNA', 'UNU', 'UPP', 'UQJ', 'UQM', 'UQS', 'UR1', 'UR4', 'UR7', 'URA', 'URC', 'URF', 'URI', 'URN', 'URO', 'URP', 'US7', 'UU1', 'UUG', 'UUJ', 'UUM', 'UUP', 'UUS', 'UUV', 'UUY', 'UV7', 'UVA', 'UVC', 'UVG', 'UVJ', 'UVS', 'UWS', 'UWY', 'UX1', 'UXD', 'UXG', 'V1L', 'V55', 'VCW', 'VDM', 'VGL', 'VIS', 'VIV', 'VJJ', 'VK3', 'VLB', 'VNL', 'VOH', 'VRT', 'VVG', 'VVJ', 'VVP', 'VW4', 'VW7', 'VWA', 'VWG', 'VWX', 'VXQ', 'VXX', 'VZ6', 'VZP', 'VZS', 'VZY', 'W0G', 'W0M', 'W0S', 'W0Y', 'W1D', 'W1P', 'W2M', 'W2X', 'W3G', 'W3S', 'W4A', 'W6P', 'WCE', 'WFI', 'WGM', 'WGP', 'WH1', 'WHD', 'WHP', 'WHV', 'WHY', 'WJ4', 'WJ7', 'WJA', 'WJD', 'WKG', 'WKS', 'WKY', 'WLJ', 'WMH', 'WN4', 'WNP', 'WNY', 'WO1', 'WO7', 'WOY', 'WZV', 'X0S', 'X0V', 'X1J', 'X2X', 'X3J', 'X4V', 'X6X', 'XAN', 'XB7', 'XDH', 'XDI', 'XDK', 'XGH', 'XGM', 'XHD', 'XI7', 'XIY', 'XJJ', 'XJM', 'XJV', 'XK7', 'XLS', 'XM0', 'XP6', 'XUH', 'XUL', 'XV6', 'XXH', 'XXX', 'XY4', 'XYA', 'XYD', 'XYH', 'XYL', 'XYP', 'XYS', 'XZ8', 'Y00', 'Y3P', 'Y70', 'YC8', 'YCP', 'YDU', 'YEB', 'YEG', 'YEK', 'YER', 'YFN', 'YFR', 'YG0', 'YG5', 'YG9', 'YI6', 'YM2', 'YMZ', 'YNK', 'YOF', 'YOM', 'YSV', 'YTX', 'YTZ', 'YUT', 'YVR', 'YXB', 'YXK', 'YYI', 'YYY', 'YZK', 'Z0I', 'Z26', 'Z2F', 'Z2Z', 'Z3H', 'Z3P', 'Z5C', 'Z80', 'Z99', 'Z9I', 'ZA9', 'ZCW', 'ZER', 'ZIP', 'ZK1', 'ZNH', 'ZOL', 'ZP2', 'ZQA', 'ZQD', 'ZST', 'ZTP', 'ZTQ', 'ZUG', 'ZWY', 'ZZA', 'ZZT', 'ZZU']\n",
            "solo_diff:  ['1QW', '2J3', '2NV', '2WA', '336', '33O', '3FF', '3H9', '3HO', '3IP', '3OT', '4RG', '5NG', '67C', '6NH', '6UB', '7PG', '7SA', '8C2', '9HO', 'A70', 'AE4', 'AQP', 'CD4', 'CIQ', 'CIS', 'CPQ', 'DX9', 'EPB', 'EPD', 'EW8', 'FO9', 'FT6', 'HXD', 'I7Y', 'IEP', 'JG5', 'L2P', 'N0E', 'N5P', 'NER', 'NW4', 'OBN', 'ODT', 'P42', 'P4K', 'PE3', 'PIB', 'PKZ', 'PLH', 'PLX', 'PNU', 'PQE', 'Q6B', 'Q7G', 'R4L', 'SQL', 'T0S', 'T9K', 'TE4', 'TGL', 'TS5', 'UIP', 'UIR', 'UP3', 'UQ5', 'V0L', 'WCS', 'WM7', 'X90', 'XXJ', 'XXL', 'Y1N', 'Y79']\n",
            "variable:   ['1SY', 'EVP', '2Q5', '1XJ', 'DA2', '28E', 'MFK', '27K', 'SRE', 'PX4', 'GBJ', '2KH', 'ALY', '2OD', '25L', '2TA', '5HM', '2OW', 'GCP', 'AMP', 'SAS', '3PG', 'GTX', 'HED', 'FAR', 'TFP', 'GSP', 'FBP', 'ZMR', 'GDP', 'GNH', '5GP', 'PUT', 'U0E', 'NOS', 'UPG', 'MGD', 'IMP', 'PAL', 'ANP', 'TAD', 'ACD', '13P', 'SAH', 'PAP', 'ATR', 'GNP', 'FMP', 'IOP', 'AKG', 'BCL', 'BPH', 'LDA', 'PH2', 'NOV', 'AP5', 'CB3', 'OCT', 'RTL', 'SFG', 'TCH', 'A3P', 'BOG', 'AGS', 'AP2', 'HSM', 'HOP', 'MTX', 'UMP', 'AZM', 'PC', 'PLM', 'DTT', 'PGH', 'DCM', 'COD', 'DG2', 'ACO', 'IMH', 'PXG', 'NAX', 'DUR', 'PCG', 'PLS', 'MYR', 'DAR', 'G6P', 'GCO', 'UDP', 'C8E', '35G', 'ACV', 'INN', 'FK5', 'AP1', 'SPD', 'PC1', 'DTP', 'IHP', 'PT1', '2PE', 'I3P', 'CAA', 'BLA', 'PPY', 'ATF', 'LPC', 'ADN', 'ERG', 'OES', 'BAB', 'GAR', 'TSN', 'SHH', 'G16', 'PPG', 'G3H', 'W11', 'REA', 'CNC', 'FOL', 'DZF', 'CLQ', 'MTA', 'NAR', 'STL', 'HEX', 'TAT', 'DAD', 'CLM', 'MLC', 'PIN', 'F6P', 'COH', 'CTP', 'TTP', 'TYD', 'CMC', 'CMX', 'CMP', 'TMP', 'PG5', 'PG6', 'DDQ', 'B3P', 'PRP', 'AIR', 'SOR', 'ACP', 'VDX', 'U5P', 'AS1', 'HBI', 'DGP', 'FFO', 'PLG', 'SLB', 'FOF', 'FOH', 'OLA', 'UDX', 'UGA', 'HRG', 'PGD', 'RDF', 'MHF', 'HMG', '6PG', 'AAG', 'DUD', 'BCB', 'BPB', 'NS5', 'SNP', 'DDF', 'BZM', '1PG', 'SPN', 'DCA', 'THM', 'DXC', 'UVW', 'DKA', 'DAO', 'STE', 'API', 'ATM', 'DND', 'CHD', 'UMA', '2CP', 'CO8', 'BNG', 'HAS', 'PLC', 'M7G', '9CR', 'ADQ', 'IBP', 'RAL', 'LAR', 'T44', 'MYS', 'BLM', 'CPS', 'LMU', 'DUT', 'MPO', 'SMA', '3HC', '3AT', 'SPO', 'APC', 'PAM', '2FP', 'G3P', 'HXA', 'CDP', 'MTE', 'LNL', 'RCL', 'BRL', 'DFV', 'NDG', 'FDA', 'UD1', 'FPP', 'F6R', '16G', 'A5P', 'PNN', 'BB2', 'EPH', 'TRH', 'DAT', 'TPS', 'ADX', 'P6G', 'APR', 'RQ3', 'D5M', 'GTB', '3GP', 'C5P', 'CMK', 'NLG', 'GDU', 'CHT', 'BES', 'UTP', 'D12', 'NMN', 'SDS', 'LAE', 'A2P', 'PNS', 'NAJ', 'OCA', 'OGA', 'LMS', 'CIR', 'DCP', 'NHE', 'SHT', 'CBO', 'LUM', 'LHY', 'LPP', 'GER', 'DGT', 'ELA', 'A12', 'ORN', 'PP9', 'SIM', 'FHP', 'RIT', 'D16', 'DM2', '128', 'BNI', 'HEZ', 'STI', 'VIB', 'MYA', 'CDM', 'GTA', 'MGP', 'PEM', 'PGU', 'ZEN', 'SOG', 'VDY', 'F42', 'BCR', 'CLA', 'LHG', 'LMG', '137', 'R5P', 'OKA', 'EGT', '140', 'DEQ', 'BER', 'RHQ', 'UD2', 'CDC', 'ILA', 'MRC', 'F09', 'SPH', 'UMQ', 'HTL', 'TDX', 'DAU', 'CE1', 'HQO', 'NPI', 'SCA', 'FON', 'OMP', 'HTO', 'KAN', 'DLY', '16A', 'VIT', 'IPT', 'ILP', 'RG1', 'NCN', 'SEP', 'BGL', 'DHF', 'DET', 'LYC', 'DLP', 'CPL', 'G4P', 'MUR', 'U', 'XMP', 'PTY', 'CLR', 'OAD', '3PE', 'THG', 'AMZ', 'MOA', '2SA', 'HXC', 'GLP', 'FMC', 'DOL', 'T5A', '5HU', 'AG2', 'GTG', 'SIA', 'CXS', 'U3P', '6FA', 'ASE', 'IMI', 'AOI', '5CA', 'A5A', 'GET', 'EDT', '4HY', 'DIF', 'AIC', 'DTV', 'GRG', 'UFP', 'DTU', 'EBS', 'VTQ', 'RET', 'P33', 'IK2', 'EPU', 'TZD', 'ME2', '2FA', 'DGD', 'PID', '444', 'MTP', 'PTR', '3PH', '5RP', 'NSC', 'AC2', 'AGA', 'FUA', 'TAM', 'G24', 'PE4', 'C2F', 'LMT', 'TDA', 'HDF', 'B7G', 'MAP', 'CBD', 'NCC', 'P3G', '1PS', 'PNT', 'DUP', '8BR', 'DST', 'IPR', 'IPE', '5UD', 'RUB', 'PG2', 'C3S', 'GP2', 'IMN', 'FLF', '3D1', 'CEI', 'DGI', 'OHT', 'SPK', 'F89', 'TON', 'MA4', 'PAU', '869', 'CNA', 'LVA', 'PCW', '017', '12P', '1TB', '1SM', '1MM', 'OIN', '80M', '1TF', '8QY', 'MW9', 'IXO', 'WHL', 'OJC', 'D21', 'QGL', 'SY4', 'UHL', 'RAY', 'DU0', 'PEX', 'Y72', 'Y6U', 'KDL', 'FI7', 'C0N', 'JL3', 'ZNI', 'PFS', 'DTR', 'DMX', 'N8E', 'NPR', 'DCC', 'GPP', 'DMA', 'UFG', 'CTN', 'RRC', 'U2F', 'CXE', 'KDG', 'KMT', 'PNG', '5FA', 'C2E', 'C', 'G2P', 'C14', 'LAN', 'XPE', 'PE5', '16D', 'THH', 'OTP', '8DG', 'FPS', '3IO', 'P34', '1VU', 'SPM', 'NLQ', '5AD', 'S6P', 'F15', 'T3', 'SVR', 'C0R', 'TDI', 'UND', 'CIE', 'GDS', 'DR9', 'SUO', 'SUG', 'P6L', 'A2R', 'PEF', 'D9G', 'GSF', '1AL', 'LFA', '198', 'FUN', 'GST', 'PE8', 'XMM', 'HC3', 'HSX', 'VCA', 'AHN', 'CH5', 'TSS', 'HP6', 'GCH', 'TUD', 'CHO', 'NMY', 'P4C', 'MC3', 'DMU', 'CM5', 'RES', 'AR6', 'HTG', 'CHL', 'NEX', 'XAT', 'P1Z', 'AE3', 'DCT', '5ID', 'GDD', 'B4P', 'TH2', 'ECA', 'F6F', 'D10', 'PG0', 'ETE', 'DU', 'PUY', 'ITT', 'PEV', '16C', 'LP5', 'SQD', 'B29', 'TGG', 'G5P', 'VX6', '1GP', 'MNR', 'ZEA', 'MIX', 'SOP', 'CGQ', 'VD3', '1N1', 'C2R', 'TRD', 'P15', 'H8H', 'ACH', 'PC7', 'FUD', '3CM', 'TRT', 'I22', '6NA', 'FNR', 'TWN', 'PNM', 'ERY', 'MGT', 'P4G', 'TPW', 'M25', 'PA6', 'MNH', 'A1R', 'DP6', 'GN1', 'ABU', 'TXD', 'BM3', 'G3A', 'SIB', '7PE', 'R1T', 'EIC', 'DSM', '5BU', '5IU', 'SRO', 'OYA', 'U20', '9CS', 'CS2', 'LOP', 'TDZ', 'TAG', 'ML1', 'KYN', '243', 'T25', 'R78', 'CAT', 'PL3', 'OHN', 'ECN', 'NA7', 'V25', 'C15', 'EV1', 'ST9', 'CVM', 'HQD', 'MPG', 'DNO', 'MIY', 'DPV', 'P1B', 'DIA', '2CV', 'Y01', '5FW', 'MHI', 'SM8', 'MIV', 'B49', '2HG', 'ZM3', 'WSH', 'S1P', 'PCF', 'BMX', '4PT', 'DDR', 'PYL', 'BSU', 'PAZ', 'PTG', 'R16', 'GGS', 'GSU', 'SKE', 'TAK', 'DD9', 'DG3', 'GH3', 'CH1', '0JO', 'B7N', '6PL', 'AN2', 'QEI', 'FPF', 'YAM', '2BA', 'D3T', 'SX2', 'FDF', 'SP5', 'LPX', 'OLC', 'FEG', 'BIG', 'EAH', 'ZMA', 'BCO', 'DCR', '4OA', 'HCD', '3NG', 'JN3', 'QRP', 'JQ1', '3CX', '5SP', '0LI', 'RLT', 'KKK', 'A3C', 'TLO', 'LUT', 'F90', 'BYC', '11A', '1DO', 'UKA', 'ROA', 'HL6', 'HL0', '0A1', 'TOE', 'AG7', 'SUZ', 'DSZ', 'F2A', 'SFI', 'ONH', 'LBV', 'DZ4', 'EPZ', 'KNA', 'H6P', 'BSO', 'TCE', 'I7P', 'I8P', 'RTZ', '0JC', 'GGG', 'T3Y', 'HY0', 'CLT', '08D', 'GGB', '08Y', '0BU', 'ZAN', 'V3L', 'CHW', 'SQS', 'CYC', '3PT', 'PBU', 'YGP', '8NA', 'DN4', '78M', '78N', 'ISJ', 'K0I', '30Z', 'LTB', 'GFB', 'AOV', 'DZA', '8K6', 'HD2', 'WY1', 'PGT', 'PIO', 'JDC', '0KX', 'XG4', 'OLB', '0N8', '0OE', 'QAP', '0O2', 'AW2', '0TF', '0TX', 'EEM', 'LYA', '0WD', '4GA', '0XR', 'QCT', '0XE', 'PIT', 'SFY', '1FZ', '1M3', '1LT', '1N7', '1RY', '1PW', '1PZ', 'PX2', '1QK', 'CE3', '3VV', 'CUR', '37X', 'BFQ', '3RL', 'MN9', 'IVM', '3VL', '45D', '29S', 'P06', '45N', 'MT6', '483', 'GBM', '4K4', '4LU', '4LR', '32M', 'GUO', 'POG', '6FX', '4UO', '4UR', '2LO', '4WZ', '7E8', 'BMF', 'EP1', '54W', 'WCA', '97M', '97N', '5A3', '5J8', '5J5', 'JAA', '5RW', '5UF', '5VG', '5W2', 'NMM', '60G', '5X8', '64Z', '6KT', '6OU', 'RPI', 'JEF', '6AK', '3FX', '6CJ', '6EU', '6OE', 'I74', '6MB', '6NR', '6SU', '6VQ', '6ZV', '6T2', '6YU', 'FEC', 'EPA', '9SZ', '7MT', 'ZHA', '4PS', '8YB', 'RU4', 'HWH', 'K3D', 'RWP', 'GWA', 'N08', 'EJQ', 'K0Y', 'S6V', 'JFM', 'STV', 'NZ4', 'O3M', 'HGE', 'LPZ', 'T1J', 'U0V', 'UWD', 'UWV', 'UXA', 'LJA', 'JG4', 'JHJ', 'VWV', 'VWY', 'O2A', 'B0Y', 'WLY', 'WMS', 'VZM', 'JO1', 'NVD', 'WNM', 'O3J', 'ONQ', 'NZJ', 'W0J', 'W1A', 'JFP', 'O0J', 'LU8', 'NUY', 'I8A', 'I8G', 'NUM', '79C', 'EQ3', 'ECH', '8OY', '8N4', 'IBI', '93J', '4BW', 'BBJ', '7UC', '8UX', '9SC', 'PEE', 'L6T', 'P2E', 'PA8', '9F2', 'POV', 'PGV', 'EWM', 'Q6F', 'FTJ', 'EDK', 'OS3', 'OS5', 'OS6', 'A3R', 'EVB', 'EZZ', 'FB8', 'OPV', 'FWQ', 'AO6', '2TM', 'LMN', 'KN9', 'LLL', 'KFV', 'XP4', '9SL', 'MJ7', 'N84', 'N8A', 'NQD', 'LBN', 'J1W', 'J4Q', 'JNT', 'ZLK', 'LO5', 'GVY', 'PGW', 'CZF', 'QMG', 'QY1', 'R6S', 'U77', 'OK8', 'NKP', 'Q5B', 'CDL', 'CRT', 'TK9', 'R75', 'RVK', '8Q1', 'T3B', 'T9Q', 'O1J', 'U35', 'F5U', 'FNO', 'HUF', 'HUR', '1XK', '1UI', '4I1', 'YX6', 'LXA', 'WZY', 'TE0', 'AWU', 'WBV', 'AV0', '0NI', '4R7', '5IK']\n"
          ]
        }
      ]
    },
    {
      "cell_type": "markdown",
      "source": [
        "Para separar los ligandos y dividir el dataset en train y test, seleccionamos:\n",
        "\n",
        "- **train**:\n",
        "  - todos los ligandos con misma conformación\n",
        "  - 70% de los ligandos con conformación variable\n",
        "  - 70% de los ligandos con solo conformación disimilares\n",
        "\n",
        "- **test**:\n",
        "  - 30% de los ligandos con conformación variable\n",
        "  - 30% de los ligandos con solo conformación disimilares"
      ],
      "metadata": {
        "id": "ywFGJClHaxzy"
      }
    },
    {
      "cell_type": "code",
      "execution_count": 9,
      "metadata": {
        "colab": {
          "base_uri": "https://localhost:8080/"
        },
        "id": "_Gg199Ba_r17",
        "outputId": "a66934da-ced9-4432-ce40-cf6397f92495"
      },
      "outputs": [
        {
          "output_type": "stream",
          "name": "stdout",
          "text": [
            "693\n",
            "51\n",
            "1807\n",
            "2551\n"
          ]
        }
      ],
      "source": [
        "#@title Separación de los ligandos\n",
        "\n",
        "import random\n",
        "\n",
        "random.seed(42)\n",
        "\n",
        "lista_70_variables = random.sample(variable_lig, int(len(variable_lig) * 0.7))\n",
        "print(len(lista_70_variables))\n",
        "\n",
        "lista_70_solo_diff = random.sample(solo_diff_lig, int(len(solo_diff_lig) * 0.7))\n",
        "print(len(lista_70_solo_diff))\n",
        "\n",
        "print(len(solo_misma_lig))\n",
        "\n",
        "train_lig = solo_misma_lig + lista_70_solo_diff + lista_70_variables\n",
        "print(len(train_lig))"
      ]
    },
    {
      "cell_type": "code",
      "source": [
        "#@title Identificar ligandos del train y del test sets\n",
        "\n",
        "set_30_variable = set(variable_lig) - set(lista_70_variables)\n",
        "lista_30_variable = list(set_30_variable)\n",
        "print(len(lista_30_variable))\n",
        "\n",
        "set_30_solo_diff = set(solo_diff_lig) - set(lista_70_solo_diff)\n",
        "lista_30_solo_diff = list(set_30_solo_diff)\n",
        "print(len(lista_30_solo_diff))\n",
        "\n",
        "test_lig = lista_30_variable + lista_30_solo_diff\n",
        "print(len(test_lig))"
      ],
      "metadata": {
        "colab": {
          "base_uri": "https://localhost:8080/"
        },
        "id": "ZBZ5Vgmq_0Kk",
        "outputId": "a11147ee-35d8-4b73-d526-6e05b6abf68a"
      },
      "execution_count": 10,
      "outputs": [
        {
          "output_type": "stream",
          "name": "stdout",
          "text": [
            "297\n",
            "23\n",
            "320\n"
          ]
        }
      ]
    },
    {
      "cell_type": "code",
      "source": [
        "#@title Identificar instancias (positivas) de train y test set\n",
        "\n",
        "df_harm_train = df_harm[df_harm['Ligand_id'].isin(train_lig)]\n",
        "train_instancias = df_harm_train['Nombre'].tolist()\n",
        "print(len(train_instancias))\n",
        "\n",
        "df_harm_test = df_harm[df_harm['Ligand_id'].isin(test_lig)]\n",
        "test_instancias = df_harm_test['Nombre'].tolist()\n",
        "print(len(test_instancias))"
      ],
      "metadata": {
        "colab": {
          "base_uri": "https://localhost:8080/"
        },
        "id": "KfKwUBzc_1uL",
        "outputId": "7144d025-e960-4078-ef2c-b788c48cfa0f"
      },
      "execution_count": 11,
      "outputs": [
        {
          "output_type": "stream",
          "name": "stdout",
          "text": [
            "57310\n",
            "13068\n"
          ]
        }
      ]
    },
    {
      "cell_type": "code",
      "source": [
        "with open(\"/content/drive/MyDrive/TFM/T3/Red_Neuronal/intento_3/instancias_test_intento_13.txt\", \"w\", encoding= \"utf-8\") as f:\n",
        "  for line in test_instancias:\n",
        "    f.write(line + \"/n\")\n",
        "\n",
        "with open(\"/content/drive/MyDrive/TFM/T3/Red_Neuronal/intento_3/instancias_train_intento_13.txt\", \"w\", encoding= \"utf-8\") as f:\n",
        "  for line in train_instancias:\n",
        "    f.write(line + \"/n\")"
      ],
      "metadata": {
        "id": "LytZqtZvc2iB"
      },
      "execution_count": 12,
      "outputs": []
    }
  ]
}