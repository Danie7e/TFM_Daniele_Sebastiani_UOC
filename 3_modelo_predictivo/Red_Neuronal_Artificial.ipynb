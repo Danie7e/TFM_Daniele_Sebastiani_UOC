{
  "nbformat": 4,
  "nbformat_minor": 0,
  "metadata": {
    "colab": {
      "provenance": []
    },
    "kernelspec": {
      "name": "python3",
      "display_name": "Python 3"
    },
    "language_info": {
      "name": "python"
    }
  },
  "cells": [
    {
      "cell_type": "code",
      "source": [
        "from google.colab import drive\n",
        "drive.mount('/content/drive')"
      ],
      "metadata": {
        "colab": {
          "base_uri": "https://localhost:8080/"
        },
        "id": "_2lkQycbADFC",
        "outputId": "496d3444-42bb-4035-90e7-9fe5d07af3c1"
      },
      "execution_count": 1,
      "outputs": [
        {
          "output_type": "stream",
          "name": "stdout",
          "text": [
            "Mounted at /content/drive\n"
          ]
        }
      ]
    },
    {
      "cell_type": "code",
      "source": [
        "#@title Abrir los dataframes\n",
        "\n",
        "import os\n",
        "import pandas as pd\n",
        "\n",
        "input_folder = \"/content/drive/MyDrive/TFM/T3/Red_Neuronal/intento2\"\n",
        "input_file_df_final = os.path.join(input_folder, \"df_FINAL_tot.csv\")\n",
        "df_harm = pd.read_csv(input_file_df_final, sep = ',')\n",
        "print(df_harm.shape[0],df_harm.columns)"
      ],
      "metadata": {
        "colab": {
          "base_uri": "https://localhost:8080/"
        },
        "id": "vktNNZNyAC4Y",
        "outputId": "da875696-8e68-4a04-cb62-c5900a8fa71b"
      },
      "execution_count": 2,
      "outputs": [
        {
          "output_type": "stream",
          "name": "stdout",
          "text": [
            "70378 Index(['PDB_entry_id', 'Classification', 'Organism', 'Uniprot_id', 'Ligand_id',\n",
            "       'Ligand_InChi', 'Experimental_method', 'Resolution',\n",
            "       'Adding_Classification', 'Affinity', 'Coordenadas', 'Ligand_smiles',\n",
            "       'Mol_Weight', 'n_atoms', 'Nombre', 'Ligand_Class', 'Pfam_Names',\n",
            "       'SUPFAM_Names', 'intepro_class'],\n",
            "      dtype='object')\n"
          ]
        }
      ]
    },
    {
      "cell_type": "code",
      "source": [
        "input_neg_dec = os.path.join(input_folder, \"decoys_full.csv\")\n",
        "df_neg_dec = pd.read_csv(input_neg_dec, sep = ',')\n",
        "print(df_neg_dec.shape[0],df_neg_dec.columns)"
      ],
      "metadata": {
        "colab": {
          "base_uri": "https://localhost:8080/"
        },
        "id": "ji3G1Y-bAC16",
        "outputId": "2120f32d-37e5-40ec-c0fd-036f3076ae42"
      },
      "execution_count": 3,
      "outputs": [
        {
          "output_type": "stream",
          "name": "stdout",
          "text": [
            "70378 Index(['instancia', 'Ligand_smiles', 'smiles_neg', 'tanimoto', 'usrr_sim',\n",
            "       'USR_neg_1', 'USR_neg_2', 'USR_neg_3', 'USR_neg_4', 'USR_neg_5',\n",
            "       'USR_neg_6', 'USR_neg_7', 'USR_neg_8', 'USR_neg_9', 'USR_neg_10',\n",
            "       'USR_neg_11', 'USR_neg_12'],\n",
            "      dtype='object')\n"
          ]
        }
      ]
    },
    {
      "cell_type": "code",
      "source": [
        "df_total.shape[0]"
      ],
      "metadata": {
        "colab": {
          "base_uri": "https://localhost:8080/"
        },
        "id": "jQE-dcqc_Yvp",
        "outputId": "cf7f70d7-3aad-4183-d985-8db845125e0f"
      },
      "execution_count": null,
      "outputs": [
        {
          "output_type": "execute_result",
          "data": {
            "text/plain": [
              "140756"
            ]
          },
          "metadata": {},
          "execution_count": 7
        }
      ]
    },
    {
      "cell_type": "code",
      "source": [
        "#@title Abrir los dataframes\n",
        "\n",
        "import os\n",
        "import pandas as pd\n",
        "\n",
        "input_folder = \"/content/drive/MyDrive/TFM/T3/Archivos\"\n",
        "\n",
        "# Dataframe Final (positivos)\n",
        "\n",
        "input_file_df_final = os.path.join(input_folder, \"df_FINAL_tot.csv\")\n",
        "df_final_positive = pd.read_csv(input_file_df_final, sep = ',')\n",
        "\n",
        "# Dataframe decoys negativos\n",
        "\n",
        "input_file_decoys_negativos = os.path.join(input_folder, \"decoys_full.csv\")\n",
        "df_decoys_negativos = pd.read_csv(input_file_decoys_negativos, sep = ',')\n",
        "df_decoys_negativos = df_decoys_negativos.dropna()\n",
        "\n",
        "# Embedding ligandos positivos y negativos\n",
        "\n",
        "input_file_emb_ligandos = \"/content/drive/MyDrive/TFM/T3/Archivos/df_embeddings_ligandos_instancia_preentrenado.csv\"\n",
        "df_emb_ligandos = pd.read_csv(input_file_emb_ligandos, sep = ',')\n",
        "\n",
        "# Embedding de las proteínas\n",
        "\n",
        "input_file_emb_proteinas = os.path.join(input_folder, \"embeddings_proteinas_ESM2.csv\")\n",
        "df_emb_proteinas = pd.read_csv(input_file_emb_proteinas, sep = ',')\n",
        "\n",
        "# USR sitios\n",
        "df_usr_sitio = pd.read_csv(\"/content/drive/MyDrive/TFM/T3/Archivos/df_usr_sitio.csv\", sep=',')\n",
        "\n",
        "# USR ligandos\n",
        "input_file_df_ligand_smiles_USR = os.path.join(input_folder, \"df_ligand_smiles_USR.csv\")\n",
        "df_ligand_smiles_USR = pd.read_csv(input_file_df_ligand_smiles_USR, sep = ',')\n",
        "df_ligand_smiles_USR.shape[0]"
      ],
      "metadata": {
        "colab": {
          "base_uri": "https://localhost:8080/"
        },
        "id": "vvV6BD2mE9Wx",
        "outputId": "800201c8-fdbd-4e7a-94c9-9c8449ef1e00"
      },
      "execution_count": 4,
      "outputs": [
        {
          "output_type": "execute_result",
          "data": {
            "text/plain": [
              "70378"
            ]
          },
          "metadata": {},
          "execution_count": 4
        }
      ]
    },
    {
      "cell_type": "code",
      "source": [
        "df_pos = df_final_positive[['Nombre','PDB_entry_id','Ligand_smiles']]\n",
        "df_pos = df_pos.rename(columns={'Nombre':'instancia'})"
      ],
      "metadata": {
        "id": "XBHSC9BnFSOg"
      },
      "execution_count": 5,
      "outputs": []
    },
    {
      "cell_type": "code",
      "source": [
        "import pandas as pd\n",
        "\n",
        "\n",
        "# Función auxiliar para extraer \"PDBID_CHAIN\" de la instancia\n",
        "def extract_pdb_chain(inst):\n",
        "    pdb, _, chain, *_ = inst.split('_')\n",
        "    return f\"{pdb}_{chain}\"\n",
        "\n",
        "# 1) Preparar positivos\n",
        "df_pos2 = df_pos.copy()\n",
        "df_pos2['instancia'] = df_pos2['instancia'] + '_positive'\n",
        "df_pos2['Label']     = 1\n",
        "df_pos2['PDB_chain'] = df_pos2['instancia'].apply(extract_pdb_chain)\n",
        "\n",
        "# 2) Preparar negativos\n",
        "df_neg2 = df_decoys_negativos.copy()\n",
        "df_neg2['instancia'] = df_neg2['instancia'] + '_negative'\n",
        "df_neg2['Label']     = 0\n",
        "# renombrar USR_neg_i → USR_i_ligando\n",
        "df_neg2 = df_neg2.rename(columns={f'USR_neg_{i}': f'USR_{i}_ligando' for i in range(1, 13)})\n",
        "df_neg2['PDB_chain'] = df_neg2['instancia'].apply(extract_pdb_chain)\n",
        "\n",
        "# 3) USR del ligando (positivos)\n",
        "df_usr_lig_pos = df_ligand_smiles_USR.copy()\n",
        "df_usr_lig_pos['instancia'] = df_usr_lig_pos['instancia'] + '_positive'\n",
        "df_usr_lig_pos = df_usr_lig_pos.rename(columns={f'USR_{i}': f'USR_{i}_ligando' for i in range(1, 13)})\n",
        "\n",
        "# 4) USR del sitio (base, sin suffix aún)\n",
        "df_usr_site = df_usr_sitio.copy()\n",
        "df_usr_site = df_usr_site.rename(columns={\n",
        "    'instacia': 'instancia',\n",
        "    **{f'USR_{i}': f'USR_{i}_sitio' for i in range(1, 13)}\n",
        "})\n",
        "\n",
        "# 5) Construir DataFrames base para concatenar\n",
        "lig_cols   = [f'USR_{i}_ligando' for i in range(1, 13)]\n",
        "base_cols  = ['instancia', 'PDB_chain', 'Ligand_smiles', 'Label'] + lig_cols\n",
        "\n",
        "# Positivos: merge con USR ligando\n",
        "df_pos_base = (\n",
        "    df_pos2[['instancia', 'PDB_chain', 'Ligand_smiles', 'Label']]\n",
        "    .merge(\n",
        "        df_usr_lig_pos[['instancia', 'Ligand_smiles'] + lig_cols],\n",
        "        on=['instancia', 'Ligand_smiles'],\n",
        "        how='left'\n",
        "    )\n",
        ")\n",
        "\n",
        "# Negativos: ya tienen columnas USR_ligando\n",
        "df_neg_base = df_neg2[base_cols]\n",
        "\n",
        "# Concatenar positivos y negativos\n",
        "df_main = pd.concat([df_pos_base, df_neg_base], ignore_index=True)\n",
        "\n",
        "# 6) Añadir embeddings del ligando\n",
        "df_emb_lig = df_emb_ligandos.copy()\n",
        "df_emb_lig = df_emb_lig.rename(columns={str(i): f'emb_lig_{i}' for i in range(128)})\n",
        "df_main = df_main.merge(\n",
        "    df_emb_lig[['instancia'] + [f'emb_lig_{i}' for i in range(128)]],\n",
        "    on='instancia', how='left'\n",
        ")\n",
        "\n",
        "# 7) Añadir embeddings de la proteína\n",
        "df_emb_prot = df_emb_proteinas.copy()\n",
        "df_emb_prot = df_emb_prot.rename(columns={\n",
        "    'Unnamed: 0': 'PDB_entry_id',\n",
        "    **{str(i): f'emb_prot_{i}' for i in range(320)}\n",
        "})\n",
        "df_emb_prot['PDB_chain'] = (\n",
        "    df_emb_prot['PDB_entry_id'].str[:4].str.upper() + '_' +\n",
        "    df_emb_prot['PDB_entry_id'].str[5:6]\n",
        ")\n",
        "df_emb_prot = df_emb_prot.drop(columns=['PDB_entry_id'])\n",
        "df_main = df_main.merge(df_emb_prot, on='PDB_chain', how='left')\n",
        "\n",
        "# 8) Añadir USR del sitio usando el nombre base de instancia\n",
        "# Creamos columna auxiliar 'inst_base' sin sufijo\n",
        "df_main['inst_base'] = (\n",
        "    df_main['instancia']\n",
        "        .str.replace('_positive', '', regex=False)\n",
        "        .str.replace('_negative', '', regex=False)\n",
        ")\n",
        "# Para df_usr_site también\n",
        "df_usr_site['inst_base'] = df_usr_site['instancia']\n",
        "\n",
        "usr_site_cols = [f'USR_{i}_sitio' for i in range(1, 13)]\n",
        "df_main = df_main.merge(\n",
        "    df_usr_site[['inst_base'] + usr_site_cols],\n",
        "    on='inst_base', how='left'\n",
        ")\n",
        "df_main = df_main.drop(columns=['inst_base'])\n",
        "\n",
        "# 9) Limpiar sufijos _x/_y y eliminar duplicados\n",
        "df_main.columns = (\n",
        "    df_main.columns\n",
        "        .str.replace(r'_x$', '', regex=True)\n",
        "        .str.replace(r'_y$', '', regex=True)\n",
        ")\n",
        "df_main = df_main.loc[:, ~df_main.columns.duplicated()]\n",
        "\n",
        "# 10) Filtrar columnas finales esperadas\n",
        "final_cols = (\n",
        "    ['instancia', 'Label'] +\n",
        "    [f'emb_lig_{i}' for i in range(128)] +\n",
        "    [f'emb_prot_{i}' for i in range(320)] +\n",
        "    lig_cols +\n",
        "    usr_site_cols\n",
        ")\n",
        "df_main = df_main[[c for c in final_cols if c in df_main.columns]]\n",
        "\n",
        "# 11) Verificación final\n",
        "print(f\"df_main final: {df_main.shape[0]} filas × {df_main.shape[1]} columnas\")\n",
        "print(\"NaNs en USR_sitio tras merge:\",\n",
        "      df_main[usr_site_cols].isna().sum())\n"
      ],
      "metadata": {
        "colab": {
          "base_uri": "https://localhost:8080/"
        },
        "id": "4l758YnVFZx4",
        "outputId": "1244b547-4258-433c-a413-a741ce7114ca"
      },
      "execution_count": 6,
      "outputs": [
        {
          "output_type": "stream",
          "name": "stdout",
          "text": [
            "df_main final: 140606 filas × 474 columnas\n",
            "NaNs en USR_sitio tras merge: USR_1_sitio     28\n",
            "USR_2_sitio     28\n",
            "USR_3_sitio     28\n",
            "USR_4_sitio     28\n",
            "USR_5_sitio     28\n",
            "USR_6_sitio     28\n",
            "USR_7_sitio     28\n",
            "USR_8_sitio     28\n",
            "USR_9_sitio     28\n",
            "USR_10_sitio    28\n",
            "USR_11_sitio    28\n",
            "USR_12_sitio    28\n",
            "dtype: int64\n"
          ]
        }
      ]
    },
    {
      "cell_type": "code",
      "source": [
        "df_main = df_main.dropna()"
      ],
      "metadata": {
        "id": "-VVwRf77FdDA"
      },
      "execution_count": 7,
      "outputs": []
    },
    {
      "cell_type": "code",
      "source": [
        "df_main.shape"
      ],
      "metadata": {
        "colab": {
          "base_uri": "https://localhost:8080/"
        },
        "id": "6mhnhCnSFeaQ",
        "outputId": "7573c1ba-ff18-45cf-fd65-b24de10edda1"
      },
      "execution_count": 8,
      "outputs": [
        {
          "output_type": "execute_result",
          "data": {
            "text/plain": [
              "(140348, 474)"
            ]
          },
          "metadata": {},
          "execution_count": 8
        }
      ]
    },
    {
      "cell_type": "code",
      "source": [
        "df_main.to_csv(\"/content/drive/MyDrive/TFM/T3/Archivos/df_tot_pos_neg_usr_emb_prot_liga_preentrenado.csv\")"
      ],
      "metadata": {
        "id": "JSEq9rfGFf44"
      },
      "execution_count": 9,
      "outputs": []
    },
    {
      "cell_type": "code",
      "source": [
        "with open(\"/content/drive/MyDrive/TFM/T3/Red_Neuronal/intento_3/instancias_test_intento_13.txt\", \"r\", encoding= \"utf-8\") as f:\n",
        "  test_instancias = f.read().split(\"/n\")"
      ],
      "metadata": {
        "id": "sj1Np-nbQXJX"
      },
      "execution_count": 27,
      "outputs": []
    },
    {
      "cell_type": "code",
      "source": [
        "\n",
        "with open(\"/content/drive/MyDrive/TFM/T3/Red_Neuronal/intento_3/instancias_train_intento_13.txt\", \"r\", encoding= \"utf-8\") as f:\n",
        "  train_instancias = f.read().split(\"/n\")"
      ],
      "metadata": {
        "id": "fn5d0pIdQXCc"
      },
      "execution_count": 28,
      "outputs": []
    },
    {
      "cell_type": "code",
      "source": [
        "train_instances = [i for i in train_instancias if i]\n",
        "test_instances = [i for i in test_instancias if i]"
      ],
      "metadata": {
        "id": "eh0uH-ijQtSe"
      },
      "execution_count": 29,
      "outputs": []
    },
    {
      "cell_type": "code",
      "source": [
        "train_instances_pos = [f\"{i}_positive\" for i in train_instances]\n",
        "train_instances_neg = [f\"{i}_negative\" for i in train_instances]\n",
        "test_instances_pos = [f\"{i}_positive\" for i in test_instances]\n",
        "test_instances_neg = [f\"{i}_negative\" for i in test_instances]"
      ],
      "metadata": {
        "id": "HXeGWyX0FljA"
      },
      "execution_count": 30,
      "outputs": []
    },
    {
      "cell_type": "code",
      "source": [
        "all_train = train_instances_pos + train_instances_neg\n",
        "all_test  = test_instances_pos  + test_instances_neg"
      ],
      "metadata": {
        "id": "_aTPIygjFnaY"
      },
      "execution_count": 31,
      "outputs": []
    },
    {
      "cell_type": "code",
      "source": [
        "print(len(all_train))\n",
        "print(len(all_test))"
      ],
      "metadata": {
        "colab": {
          "base_uri": "https://localhost:8080/"
        },
        "id": "ZxLj-VfPFpGR",
        "outputId": "7926d518-4bdf-4f32-9693-5de7bfba59ec"
      },
      "execution_count": 32,
      "outputs": [
        {
          "output_type": "stream",
          "name": "stdout",
          "text": [
            "114620\n",
            "26136\n"
          ]
        }
      ]
    },
    {
      "cell_type": "code",
      "source": [
        "df_train = df_main[df_main['instancia'].isin(all_train)]\n",
        "print(df_train.shape[0])"
      ],
      "metadata": {
        "colab": {
          "base_uri": "https://localhost:8080/"
        },
        "id": "URfhPju8Fsjw",
        "outputId": "a28c03da-bc5d-4af7-b1dc-d06e4a9c6097"
      },
      "execution_count": 33,
      "outputs": [
        {
          "output_type": "stream",
          "name": "stdout",
          "text": [
            "114296\n"
          ]
        }
      ]
    },
    {
      "cell_type": "code",
      "source": [
        "df_test = df_main[df_main['instancia'].isin(all_test)]\n",
        "print(df_test.shape[0])"
      ],
      "metadata": {
        "colab": {
          "base_uri": "https://localhost:8080/"
        },
        "id": "gIE45_JlFuNp",
        "outputId": "118987d2-9dc5-450a-a801-5dbcb128a16b"
      },
      "execution_count": 34,
      "outputs": [
        {
          "output_type": "stream",
          "name": "stdout",
          "text": [
            "26052\n"
          ]
        }
      ]
    },
    {
      "cell_type": "code",
      "source": [
        "df_train.to_csv(\"/content/drive/MyDrive/TFM/T3/Red_Neuronal/dataframe_completo/df_train_preentrenado.csv\", sep=',', index = False)\n",
        "df_test.to_csv(\"/content/drive/MyDrive/TFM/T3/Red_Neuronal/dataframe_completo/df_test_preentrenado.csv\", sep=',', index = False)"
      ],
      "metadata": {
        "id": "n2HlVGHrFvhw"
      },
      "execution_count": null,
      "outputs": []
    },
    {
      "cell_type": "markdown",
      "source": [
        "red ann"
      ],
      "metadata": {
        "id": "PAILikL-GWU4"
      }
    },
    {
      "cell_type": "code",
      "source": [
        "df_train.shape"
      ],
      "metadata": {
        "colab": {
          "base_uri": "https://localhost:8080/"
        },
        "id": "In8JWmAWGX_o",
        "outputId": "082817fc-8bcf-4140-8146-c26a768a391b"
      },
      "execution_count": 35,
      "outputs": [
        {
          "output_type": "execute_result",
          "data": {
            "text/plain": [
              "(114296, 474)"
            ]
          },
          "metadata": {},
          "execution_count": 35
        }
      ]
    },
    {
      "cell_type": "code",
      "source": [
        "df_test.shape"
      ],
      "metadata": {
        "colab": {
          "base_uri": "https://localhost:8080/"
        },
        "id": "QjSCl23uGZ40",
        "outputId": "b308eae8-a614-4690-a2ec-9eecfe1cdc2c"
      },
      "execution_count": 36,
      "outputs": [
        {
          "output_type": "execute_result",
          "data": {
            "text/plain": [
              "(26052, 474)"
            ]
          },
          "metadata": {},
          "execution_count": 36
        }
      ]
    },
    {
      "cell_type": "code",
      "source": [
        "from tensorflow.keras.models import Sequential\n",
        "from tensorflow.keras.layers import Dense, Dropout\n",
        "from tensorflow.keras.optimizers import Adam\n",
        "\n",
        "model = Sequential([\n",
        "    Dense(512, activation='relu', input_shape=(472,)),  # capa 1\n",
        "    Dropout(0.3),\n",
        "    Dense(256, activation='relu'),                      # capa 2\n",
        "    Dropout(0.3),\n",
        "    Dense(128, activation='relu'),                      # capa 3\n",
        "    Dense(1, activation='sigmoid')                      # salida binaria\n",
        "])\n",
        "\n",
        "\n",
        "\n",
        "model.compile(\n",
        "    optimizer=Adam(learning_rate=1e-3),\n",
        "    loss='binary_crossentropy',\n",
        "    metrics=['accuracy'])\n",
        "model.summary()"
      ],
      "metadata": {
        "colab": {
          "base_uri": "https://localhost:8080/",
          "height": 321
        },
        "id": "TS3mm420Gbmi",
        "outputId": "a4a425cf-c41d-4bcd-aa2f-77b92201bc47"
      },
      "execution_count": 38,
      "outputs": [
        {
          "output_type": "display_data",
          "data": {
            "text/plain": [
              "\u001b[1mModel: \"sequential_2\"\u001b[0m\n"
            ],
            "text/html": [
              "<pre style=\"white-space:pre;overflow-x:auto;line-height:normal;font-family:Menlo,'DejaVu Sans Mono',consolas,'Courier New',monospace\"><span style=\"font-weight: bold\">Model: \"sequential_2\"</span>\n",
              "</pre>\n"
            ]
          },
          "metadata": {}
        },
        {
          "output_type": "display_data",
          "data": {
            "text/plain": [
              "┏━━━━━━━━━━━━━━━━━━━━━━━━━━━━━━━━━┳━━━━━━━━━━━━━━━━━━━━━━━━┳━━━━━━━━━━━━━━━┓\n",
              "┃\u001b[1m \u001b[0m\u001b[1mLayer (type)                   \u001b[0m\u001b[1m \u001b[0m┃\u001b[1m \u001b[0m\u001b[1mOutput Shape          \u001b[0m\u001b[1m \u001b[0m┃\u001b[1m \u001b[0m\u001b[1m      Param #\u001b[0m\u001b[1m \u001b[0m┃\n",
              "┡━━━━━━━━━━━━━━━━━━━━━━━━━━━━━━━━━╇━━━━━━━━━━━━━━━━━━━━━━━━╇━━━━━━━━━━━━━━━┩\n",
              "│ dense_8 (\u001b[38;5;33mDense\u001b[0m)                 │ (\u001b[38;5;45mNone\u001b[0m, \u001b[38;5;34m512\u001b[0m)            │       \u001b[38;5;34m242,176\u001b[0m │\n",
              "├─────────────────────────────────┼────────────────────────┼───────────────┤\n",
              "│ dropout_4 (\u001b[38;5;33mDropout\u001b[0m)             │ (\u001b[38;5;45mNone\u001b[0m, \u001b[38;5;34m512\u001b[0m)            │             \u001b[38;5;34m0\u001b[0m │\n",
              "├─────────────────────────────────┼────────────────────────┼───────────────┤\n",
              "│ dense_9 (\u001b[38;5;33mDense\u001b[0m)                 │ (\u001b[38;5;45mNone\u001b[0m, \u001b[38;5;34m256\u001b[0m)            │       \u001b[38;5;34m131,328\u001b[0m │\n",
              "├─────────────────────────────────┼────────────────────────┼───────────────┤\n",
              "│ dropout_5 (\u001b[38;5;33mDropout\u001b[0m)             │ (\u001b[38;5;45mNone\u001b[0m, \u001b[38;5;34m256\u001b[0m)            │             \u001b[38;5;34m0\u001b[0m │\n",
              "├─────────────────────────────────┼────────────────────────┼───────────────┤\n",
              "│ dense_10 (\u001b[38;5;33mDense\u001b[0m)                │ (\u001b[38;5;45mNone\u001b[0m, \u001b[38;5;34m128\u001b[0m)            │        \u001b[38;5;34m32,896\u001b[0m │\n",
              "├─────────────────────────────────┼────────────────────────┼───────────────┤\n",
              "│ dense_11 (\u001b[38;5;33mDense\u001b[0m)                │ (\u001b[38;5;45mNone\u001b[0m, \u001b[38;5;34m1\u001b[0m)              │           \u001b[38;5;34m129\u001b[0m │\n",
              "└─────────────────────────────────┴────────────────────────┴───────────────┘\n"
            ],
            "text/html": [
              "<pre style=\"white-space:pre;overflow-x:auto;line-height:normal;font-family:Menlo,'DejaVu Sans Mono',consolas,'Courier New',monospace\">┏━━━━━━━━━━━━━━━━━━━━━━━━━━━━━━━━━┳━━━━━━━━━━━━━━━━━━━━━━━━┳━━━━━━━━━━━━━━━┓\n",
              "┃<span style=\"font-weight: bold\"> Layer (type)                    </span>┃<span style=\"font-weight: bold\"> Output Shape           </span>┃<span style=\"font-weight: bold\">       Param # </span>┃\n",
              "┡━━━━━━━━━━━━━━━━━━━━━━━━━━━━━━━━━╇━━━━━━━━━━━━━━━━━━━━━━━━╇━━━━━━━━━━━━━━━┩\n",
              "│ dense_8 (<span style=\"color: #0087ff; text-decoration-color: #0087ff\">Dense</span>)                 │ (<span style=\"color: #00d7ff; text-decoration-color: #00d7ff\">None</span>, <span style=\"color: #00af00; text-decoration-color: #00af00\">512</span>)            │       <span style=\"color: #00af00; text-decoration-color: #00af00\">242,176</span> │\n",
              "├─────────────────────────────────┼────────────────────────┼───────────────┤\n",
              "│ dropout_4 (<span style=\"color: #0087ff; text-decoration-color: #0087ff\">Dropout</span>)             │ (<span style=\"color: #00d7ff; text-decoration-color: #00d7ff\">None</span>, <span style=\"color: #00af00; text-decoration-color: #00af00\">512</span>)            │             <span style=\"color: #00af00; text-decoration-color: #00af00\">0</span> │\n",
              "├─────────────────────────────────┼────────────────────────┼───────────────┤\n",
              "│ dense_9 (<span style=\"color: #0087ff; text-decoration-color: #0087ff\">Dense</span>)                 │ (<span style=\"color: #00d7ff; text-decoration-color: #00d7ff\">None</span>, <span style=\"color: #00af00; text-decoration-color: #00af00\">256</span>)            │       <span style=\"color: #00af00; text-decoration-color: #00af00\">131,328</span> │\n",
              "├─────────────────────────────────┼────────────────────────┼───────────────┤\n",
              "│ dropout_5 (<span style=\"color: #0087ff; text-decoration-color: #0087ff\">Dropout</span>)             │ (<span style=\"color: #00d7ff; text-decoration-color: #00d7ff\">None</span>, <span style=\"color: #00af00; text-decoration-color: #00af00\">256</span>)            │             <span style=\"color: #00af00; text-decoration-color: #00af00\">0</span> │\n",
              "├─────────────────────────────────┼────────────────────────┼───────────────┤\n",
              "│ dense_10 (<span style=\"color: #0087ff; text-decoration-color: #0087ff\">Dense</span>)                │ (<span style=\"color: #00d7ff; text-decoration-color: #00d7ff\">None</span>, <span style=\"color: #00af00; text-decoration-color: #00af00\">128</span>)            │        <span style=\"color: #00af00; text-decoration-color: #00af00\">32,896</span> │\n",
              "├─────────────────────────────────┼────────────────────────┼───────────────┤\n",
              "│ dense_11 (<span style=\"color: #0087ff; text-decoration-color: #0087ff\">Dense</span>)                │ (<span style=\"color: #00d7ff; text-decoration-color: #00d7ff\">None</span>, <span style=\"color: #00af00; text-decoration-color: #00af00\">1</span>)              │           <span style=\"color: #00af00; text-decoration-color: #00af00\">129</span> │\n",
              "└─────────────────────────────────┴────────────────────────┴───────────────┘\n",
              "</pre>\n"
            ]
          },
          "metadata": {}
        },
        {
          "output_type": "display_data",
          "data": {
            "text/plain": [
              "\u001b[1m Total params: \u001b[0m\u001b[38;5;34m406,529\u001b[0m (1.55 MB)\n"
            ],
            "text/html": [
              "<pre style=\"white-space:pre;overflow-x:auto;line-height:normal;font-family:Menlo,'DejaVu Sans Mono',consolas,'Courier New',monospace\"><span style=\"font-weight: bold\"> Total params: </span><span style=\"color: #00af00; text-decoration-color: #00af00\">406,529</span> (1.55 MB)\n",
              "</pre>\n"
            ]
          },
          "metadata": {}
        },
        {
          "output_type": "display_data",
          "data": {
            "text/plain": [
              "\u001b[1m Trainable params: \u001b[0m\u001b[38;5;34m406,529\u001b[0m (1.55 MB)\n"
            ],
            "text/html": [
              "<pre style=\"white-space:pre;overflow-x:auto;line-height:normal;font-family:Menlo,'DejaVu Sans Mono',consolas,'Courier New',monospace\"><span style=\"font-weight: bold\"> Trainable params: </span><span style=\"color: #00af00; text-decoration-color: #00af00\">406,529</span> (1.55 MB)\n",
              "</pre>\n"
            ]
          },
          "metadata": {}
        },
        {
          "output_type": "display_data",
          "data": {
            "text/plain": [
              "\u001b[1m Non-trainable params: \u001b[0m\u001b[38;5;34m0\u001b[0m (0.00 B)\n"
            ],
            "text/html": [
              "<pre style=\"white-space:pre;overflow-x:auto;line-height:normal;font-family:Menlo,'DejaVu Sans Mono',consolas,'Courier New',monospace\"><span style=\"font-weight: bold\"> Non-trainable params: </span><span style=\"color: #00af00; text-decoration-color: #00af00\">0</span> (0.00 B)\n",
              "</pre>\n"
            ]
          },
          "metadata": {}
        }
      ]
    },
    {
      "cell_type": "code",
      "source": [
        "from sklearn.model_selection import train_test_split\n",
        "\n",
        "# Separar features y etiquetas\n",
        "X = df_train.drop(columns=['instancia', 'Label']).values\n",
        "y = df_train['Label'].values\n",
        "\n",
        "# División 80/20 entrenamiento / validación\n",
        "X_train, X_val, y_train, y_val = train_test_split(X, y, test_size=0.2, random_state=42)"
      ],
      "metadata": {
        "id": "n4xdGcoCGdaK"
      },
      "execution_count": 39,
      "outputs": []
    },
    {
      "cell_type": "code",
      "source": [
        "history = model.fit(X_train, y_train,\n",
        "          epochs=30,\n",
        "          batch_size=256,\n",
        "          validation_data=(X_val, y_val),\n",
        "          shuffle=True)"
      ],
      "metadata": {
        "colab": {
          "base_uri": "https://localhost:8080/"
        },
        "id": "JxM48qm5Gfyw",
        "outputId": "b617a157-f056-41b6-9d5e-7928adbc3f8e"
      },
      "execution_count": 40,
      "outputs": [
        {
          "output_type": "stream",
          "name": "stdout",
          "text": [
            "Epoch 1/30\n",
            "\u001b[1m358/358\u001b[0m \u001b[32m━━━━━━━━━━━━━━━━━━━━\u001b[0m\u001b[37m\u001b[0m \u001b[1m11s\u001b[0m 27ms/step - accuracy: 0.7776 - loss: 0.4828 - val_accuracy: 0.9316 - val_loss: 0.1661\n",
            "Epoch 2/30\n",
            "\u001b[1m358/358\u001b[0m \u001b[32m━━━━━━━━━━━━━━━━━━━━\u001b[0m\u001b[37m\u001b[0m \u001b[1m9s\u001b[0m 23ms/step - accuracy: 0.9478 - loss: 0.1418 - val_accuracy: 0.9648 - val_loss: 0.0975\n",
            "Epoch 3/30\n",
            "\u001b[1m358/358\u001b[0m \u001b[32m━━━━━━━━━━━━━━━━━━━━\u001b[0m\u001b[37m\u001b[0m \u001b[1m9s\u001b[0m 21ms/step - accuracy: 0.9594 - loss: 0.1116 - val_accuracy: 0.9650 - val_loss: 0.0958\n",
            "Epoch 4/30\n",
            "\u001b[1m358/358\u001b[0m \u001b[32m━━━━━━━━━━━━━━━━━━━━\u001b[0m\u001b[37m\u001b[0m \u001b[1m9s\u001b[0m 26ms/step - accuracy: 0.9646 - loss: 0.0965 - val_accuracy: 0.9745 - val_loss: 0.0719\n",
            "Epoch 5/30\n",
            "\u001b[1m358/358\u001b[0m \u001b[32m━━━━━━━━━━━━━━━━━━━━\u001b[0m\u001b[37m\u001b[0m \u001b[1m9s\u001b[0m 24ms/step - accuracy: 0.9691 - loss: 0.0871 - val_accuracy: 0.9765 - val_loss: 0.0658\n",
            "Epoch 6/30\n",
            "\u001b[1m358/358\u001b[0m \u001b[32m━━━━━━━━━━━━━━━━━━━━\u001b[0m\u001b[37m\u001b[0m \u001b[1m10s\u001b[0m 23ms/step - accuracy: 0.9710 - loss: 0.0784 - val_accuracy: 0.9787 - val_loss: 0.0675\n",
            "Epoch 7/30\n",
            "\u001b[1m358/358\u001b[0m \u001b[32m━━━━━━━━━━━━━━━━━━━━\u001b[0m\u001b[37m\u001b[0m \u001b[1m9s\u001b[0m 26ms/step - accuracy: 0.9736 - loss: 0.0741 - val_accuracy: 0.9758 - val_loss: 0.0693\n",
            "Epoch 8/30\n",
            "\u001b[1m358/358\u001b[0m \u001b[32m━━━━━━━━━━━━━━━━━━━━\u001b[0m\u001b[37m\u001b[0m \u001b[1m8s\u001b[0m 24ms/step - accuracy: 0.9730 - loss: 0.0755 - val_accuracy: 0.9793 - val_loss: 0.0613\n",
            "Epoch 9/30\n",
            "\u001b[1m358/358\u001b[0m \u001b[32m━━━━━━━━━━━━━━━━━━━━\u001b[0m\u001b[37m\u001b[0m \u001b[1m9s\u001b[0m 21ms/step - accuracy: 0.9745 - loss: 0.0703 - val_accuracy: 0.9808 - val_loss: 0.0538\n",
            "Epoch 10/30\n",
            "\u001b[1m358/358\u001b[0m \u001b[32m━━━━━━━━━━━━━━━━━━━━\u001b[0m\u001b[37m\u001b[0m \u001b[1m9s\u001b[0m 26ms/step - accuracy: 0.9766 - loss: 0.0654 - val_accuracy: 0.9808 - val_loss: 0.0517\n",
            "Epoch 11/30\n",
            "\u001b[1m358/358\u001b[0m \u001b[32m━━━━━━━━━━━━━━━━━━━━\u001b[0m\u001b[37m\u001b[0m \u001b[1m7s\u001b[0m 21ms/step - accuracy: 0.9773 - loss: 0.0642 - val_accuracy: 0.9817 - val_loss: 0.0524\n",
            "Epoch 12/30\n",
            "\u001b[1m358/358\u001b[0m \u001b[32m━━━━━━━━━━━━━━━━━━━━\u001b[0m\u001b[37m\u001b[0m \u001b[1m10s\u001b[0m 21ms/step - accuracy: 0.9784 - loss: 0.0619 - val_accuracy: 0.9863 - val_loss: 0.0430\n",
            "Epoch 13/30\n",
            "\u001b[1m358/358\u001b[0m \u001b[32m━━━━━━━━━━━━━━━━━━━━\u001b[0m\u001b[37m\u001b[0m \u001b[1m12s\u001b[0m 25ms/step - accuracy: 0.9795 - loss: 0.0581 - val_accuracy: 0.9857 - val_loss: 0.0438\n",
            "Epoch 14/30\n",
            "\u001b[1m358/358\u001b[0m \u001b[32m━━━━━━━━━━━━━━━━━━━━\u001b[0m\u001b[37m\u001b[0m \u001b[1m10s\u001b[0m 26ms/step - accuracy: 0.9801 - loss: 0.0573 - val_accuracy: 0.9859 - val_loss: 0.0431\n",
            "Epoch 15/30\n",
            "\u001b[1m358/358\u001b[0m \u001b[32m━━━━━━━━━━━━━━━━━━━━\u001b[0m\u001b[37m\u001b[0m \u001b[1m8s\u001b[0m 21ms/step - accuracy: 0.9818 - loss: 0.0524 - val_accuracy: 0.9852 - val_loss: 0.0439\n",
            "Epoch 16/30\n",
            "\u001b[1m358/358\u001b[0m \u001b[32m━━━━━━━━━━━━━━━━━━━━\u001b[0m\u001b[37m\u001b[0m \u001b[1m9s\u001b[0m 26ms/step - accuracy: 0.9816 - loss: 0.0526 - val_accuracy: 0.9867 - val_loss: 0.0385\n",
            "Epoch 17/30\n",
            "\u001b[1m358/358\u001b[0m \u001b[32m━━━━━━━━━━━━━━━━━━━━\u001b[0m\u001b[37m\u001b[0m \u001b[1m10s\u001b[0m 25ms/step - accuracy: 0.9805 - loss: 0.0550 - val_accuracy: 0.9844 - val_loss: 0.0444\n",
            "Epoch 18/30\n",
            "\u001b[1m358/358\u001b[0m \u001b[32m━━━━━━━━━━━━━━━━━━━━\u001b[0m\u001b[37m\u001b[0m \u001b[1m9s\u001b[0m 21ms/step - accuracy: 0.9821 - loss: 0.0518 - val_accuracy: 0.9868 - val_loss: 0.0385\n",
            "Epoch 19/30\n",
            "\u001b[1m358/358\u001b[0m \u001b[32m━━━━━━━━━━━━━━━━━━━━\u001b[0m\u001b[37m\u001b[0m \u001b[1m9s\u001b[0m 26ms/step - accuracy: 0.9811 - loss: 0.0534 - val_accuracy: 0.9851 - val_loss: 0.0420\n",
            "Epoch 20/30\n",
            "\u001b[1m358/358\u001b[0m \u001b[32m━━━━━━━━━━━━━━━━━━━━\u001b[0m\u001b[37m\u001b[0m \u001b[1m9s\u001b[0m 23ms/step - accuracy: 0.9835 - loss: 0.0479 - val_accuracy: 0.9847 - val_loss: 0.0443\n",
            "Epoch 21/30\n",
            "\u001b[1m358/358\u001b[0m \u001b[32m━━━━━━━━━━━━━━━━━━━━\u001b[0m\u001b[37m\u001b[0m \u001b[1m9s\u001b[0m 24ms/step - accuracy: 0.9850 - loss: 0.0434 - val_accuracy: 0.9874 - val_loss: 0.0363\n",
            "Epoch 22/30\n",
            "\u001b[1m358/358\u001b[0m \u001b[32m━━━━━━━━━━━━━━━━━━━━\u001b[0m\u001b[37m\u001b[0m \u001b[1m11s\u001b[0m 26ms/step - accuracy: 0.9845 - loss: 0.0446 - val_accuracy: 0.9867 - val_loss: 0.0380\n",
            "Epoch 23/30\n",
            "\u001b[1m358/358\u001b[0m \u001b[32m━━━━━━━━━━━━━━━━━━━━\u001b[0m\u001b[37m\u001b[0m \u001b[1m7s\u001b[0m 21ms/step - accuracy: 0.9850 - loss: 0.0443 - val_accuracy: 0.9860 - val_loss: 0.0371\n",
            "Epoch 24/30\n",
            "\u001b[1m358/358\u001b[0m \u001b[32m━━━━━━━━━━━━━━━━━━━━\u001b[0m\u001b[37m\u001b[0m \u001b[1m10s\u001b[0m 21ms/step - accuracy: 0.9835 - loss: 0.0489 - val_accuracy: 0.9887 - val_loss: 0.0330\n",
            "Epoch 25/30\n",
            "\u001b[1m358/358\u001b[0m \u001b[32m━━━━━━━━━━━━━━━━━━━━\u001b[0m\u001b[37m\u001b[0m \u001b[1m9s\u001b[0m 26ms/step - accuracy: 0.9843 - loss: 0.0432 - val_accuracy: 0.9878 - val_loss: 0.0354\n",
            "Epoch 26/30\n",
            "\u001b[1m358/358\u001b[0m \u001b[32m━━━━━━━━━━━━━━━━━━━━\u001b[0m\u001b[37m\u001b[0m \u001b[1m7s\u001b[0m 21ms/step - accuracy: 0.9856 - loss: 0.0404 - val_accuracy: 0.9902 - val_loss: 0.0301\n",
            "Epoch 27/30\n",
            "\u001b[1m358/358\u001b[0m \u001b[32m━━━━━━━━━━━━━━━━━━━━\u001b[0m\u001b[37m\u001b[0m \u001b[1m10s\u001b[0m 21ms/step - accuracy: 0.9854 - loss: 0.0432 - val_accuracy: 0.9892 - val_loss: 0.0313\n",
            "Epoch 28/30\n",
            "\u001b[1m358/358\u001b[0m \u001b[32m━━━━━━━━━━━━━━━━━━━━\u001b[0m\u001b[37m\u001b[0m \u001b[1m12s\u001b[0m 26ms/step - accuracy: 0.9851 - loss: 0.0429 - val_accuracy: 0.9875 - val_loss: 0.0363\n",
            "Epoch 29/30\n",
            "\u001b[1m358/358\u001b[0m \u001b[32m━━━━━━━━━━━━━━━━━━━━\u001b[0m\u001b[37m\u001b[0m \u001b[1m11s\u001b[0m 29ms/step - accuracy: 0.9859 - loss: 0.0396 - val_accuracy: 0.9883 - val_loss: 0.0366\n",
            "Epoch 30/30\n",
            "\u001b[1m358/358\u001b[0m \u001b[32m━━━━━━━━━━━━━━━━━━━━\u001b[0m\u001b[37m\u001b[0m \u001b[1m10s\u001b[0m 27ms/step - accuracy: 0.9865 - loss: 0.0381 - val_accuracy: 0.9884 - val_loss: 0.0343\n"
          ]
        }
      ]
    },
    {
      "cell_type": "code",
      "source": [
        "import matplotlib.pyplot as plt\n",
        "\n",
        "plt.figure(figsize=(8, 5))\n",
        "plt.plot(history.history['loss'], label='Entrenamiento')\n",
        "plt.plot(history.history['val_loss'], label='Validación')\n",
        "\n",
        "plt.title('Evolución de la pérdida durante el entrenamiento')\n",
        "plt.xlabel('Época')\n",
        "plt.ylabel('Pérdida (Loss)')\n",
        "plt.legend()\n",
        "plt.tight_layout()\n",
        "plt.show()\n"
      ],
      "metadata": {
        "colab": {
          "base_uri": "https://localhost:8080/",
          "height": 507
        },
        "id": "5ak2-f0V9XA2",
        "outputId": "d5df381e-c654-448e-a63a-5799df07ef52"
      },
      "execution_count": 41,
      "outputs": [
        {
          "output_type": "display_data",
          "data": {
            "text/plain": [
              "<Figure size 800x500 with 1 Axes>"
            ],
            "image/png": "[encoded data removed]"
          },
          "metadata": {}
        }
      ]
    },
    {
      "cell_type": "code",
      "source": [
        "import matplotlib.pyplot as plt\n",
        "\n",
        "plt.figure(figsize=(8, 5))\n",
        "plt.plot(history.history['accuracy'], label='Entrenamiento')\n",
        "plt.plot(history.history['val_accuracy'], label='Validación')\n",
        "\n",
        "plt.title('Precisión del modelo durante el entrenamiento')\n",
        "plt.xlabel('Época')\n",
        "plt.ylabel('Precisión')\n",
        "plt.legend(loc='lower right')\n",
        "plt.tight_layout()\n",
        "plt.show()\n"
      ],
      "metadata": {
        "colab": {
          "base_uri": "https://localhost:8080/",
          "height": 507
        },
        "id": "-Bw5a8gKGjQA",
        "outputId": "08209414-97b8-4fed-9b8d-3cd8b0340643"
      },
      "execution_count": 42,
      "outputs": [
        {
          "output_type": "display_data",
          "data": {
            "text/plain": [
              "<Figure size 800x500 with 1 Axes>"
            ],
            "image/png": "[encoded data removed]"
          },
          "metadata": {}
        }
      ]
    },
    {
      "cell_type": "code",
      "source": [
        "# Separar features y etiquetas\n",
        "X_test = df_test.drop(columns=['instancia', 'Label']).values\n",
        "y_test = df_test['Label'].values"
      ],
      "metadata": {
        "id": "U54GEovaGlIQ"
      },
      "execution_count": 43,
      "outputs": []
    },
    {
      "cell_type": "code",
      "source": [
        "from sklearn.metrics import (\n",
        "    accuracy_score, precision_score, recall_score,\n",
        "    f1_score, roc_auc_score, confusion_matrix,\n",
        "    RocCurveDisplay, ConfusionMatrixDisplay\n",
        ")\n",
        "import matplotlib.pyplot as plt\n",
        "import numpy as np\n",
        "\n",
        "# 1. Predecir probabilidades\n",
        "y_proba = model.predict(X_test).ravel()\n",
        "y_pred = (y_proba >= 0.5).astype(int)\n",
        "\n",
        "# 2. Métricas\n",
        "acc = accuracy_score(y_test, y_pred)\n",
        "prec = precision_score(y_test, y_pred)\n",
        "rec = recall_score(y_test, y_pred)\n",
        "f1 = f1_score(y_test, y_pred)\n",
        "roc = roc_auc_score(y_test, y_proba)\n",
        "\n",
        "print(f\"Accuracy:  {acc:.4f}\")\n",
        "print(f\"Precision: {prec:.4f}\")\n",
        "print(f\"Recall:    {rec:.4f}\")\n",
        "print(f\"F1-score:  {f1:.4f}\")\n",
        "print(f\"ROC-AUC:   {roc:.4f}\")\n",
        "\n",
        "# 3. Matriz de confusión\n",
        "cm = confusion_matrix(y_test, y_pred)\n",
        "disp = ConfusionMatrixDisplay(confusion_matrix=cm, display_labels=[0, 1])\n",
        "disp.plot(cmap='Blues')\n",
        "plt.title(\"Matriz de Confusión\")\n",
        "plt.show()\n",
        "\n",
        "# 4. Curva ROC\n",
        "RocCurveDisplay.from_predictions(y_test, y_proba)\n",
        "plt.title(\"Curva ROC\")\n",
        "plt.show()"
      ],
      "metadata": {
        "colab": {
          "base_uri": "https://localhost:8080/",
          "height": 1000
        },
        "id": "prRUWH0yGmzJ",
        "outputId": "e8aed92c-b284-4a7e-86c8-e7bfd62f94a1"
      },
      "execution_count": 44,
      "outputs": [
        {
          "output_type": "stream",
          "name": "stdout",
          "text": [
            "\u001b[1m815/815\u001b[0m \u001b[32m━━━━━━━━━━━━━━━━━━━━\u001b[0m\u001b[37m\u001b[0m \u001b[1m3s\u001b[0m 4ms/step\n",
            "Accuracy:  0.9604\n",
            "Precision: 0.9545\n",
            "Recall:    0.9670\n",
            "F1-score:  0.9607\n",
            "ROC-AUC:   0.9934\n"
          ]
        },
        {
          "output_type": "display_data",
          "data": {
            "text/plain": [
              "<Figure size 640x480 with 2 Axes>"
            ],
            "image/png": "[encoded data removed]"
          },
          "metadata": {}
        },
        {
          "output_type": "display_data",
          "data": {
            "text/plain": [
              "<Figure size 640x480 with 1 Axes>"
            ],
            "image/png": "[encoded data removed]"
          },
          "metadata": {}
        }
      ]
    },
    {
      "cell_type": "code",
      "source": [
        "model.save(\"/content/drive/MyDrive/TFM/T3/Red_Neuronal/modelo/modelo_union_prot_lig_preentrenado_7.h5\")"
      ],
      "metadata": {
        "colab": {
          "base_uri": "https://localhost:8080/"
        },
        "id": "7zIzUMq2Go7J",
        "outputId": "472cee0e-cdf3-4f1c-b0fd-a6088650a9ef"
      },
      "execution_count": null,
      "outputs": [
        {
          "output_type": "stream",
          "name": "stderr",
          "text": [
            "WARNING:absl:You are saving your model as an HDF5 file via `model.save()` or `keras.saving.save_model(model)`. This file format is considered legacy. We recommend using instead the native Keras format, e.g. `model.save('my_model.keras')` or `keras.saving.save_model(model, 'my_model.keras')`. \n"
          ]
        }
      ]
    },
    {
      "cell_type": "code",
      "source": [],
      "metadata": {
        "id": "fCmx8OUDWGc0"
      },
      "execution_count": null,
      "outputs": []
    }
  ]
}