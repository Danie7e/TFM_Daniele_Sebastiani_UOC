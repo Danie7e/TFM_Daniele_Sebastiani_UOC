{
  "cells": [
    {
      "cell_type": "code",
      "execution_count": null,
      "metadata": {
        "colab": {
          "base_uri": "https://localhost:8080/"
        },
        "id": "KE72a3cshrFO",
        "outputId": "9a70d721-bb55-4527-e999-01ff6c4d76b8"
      },
      "outputs": [
        {
          "name": "stdout",
          "output_type": "stream",
          "text": [
            "Mounted at /content/drive\n"
          ]
        }
      ],
      "source": [
        "from google.colab import drive\n",
        "drive.mount('/content/drive')"
      ]
    },
    {
      "cell_type": "code",
      "execution_count": null,
      "metadata": {
        "colab": {
          "base_uri": "https://localhost:8080/"
        },
        "collapsed": true,
        "id": "AKI5D4Dxhypb",
        "outputId": "09e36b7b-1bcf-4260-8afc-001bdfe633ec"
      },
      "outputs": [],
      "source": [
        "#@title Instalar librerías\n",
        "\n",
        "!pip install rdkit\n",
        "!pip install Biopython\n",
        "!pip install pandarallel\n",
        "!pip install py3Dmol"
      ]
    },
    {
      "cell_type": "code",
      "execution_count": null,
      "metadata": {
        "colab": {
          "base_uri": "https://localhost:8080/"
        },
        "id": "wBsoAiyvh4yq",
        "outputId": "1e8409a9-3189-4a59-b4de-9ccf4b35fb84"
      },
      "outputs": [
        {
          "name": "stdout",
          "output_type": "stream",
          "text": [
            "70378 Index(['level_0', 'index', 'PDB_entry_id', 'Classification', 'Organism',\n",
            "       'Uniprot_id', 'Ligand_id', 'Ligand_InChi', 'Experimental_method',\n",
            "       'Resolution', 'Adding_Classification', 'Affinity', 'Coordenadas',\n",
            "       'Ligand_smiles', 'Mol_Weight', 'n_atoms', 'Nombre', 'Classification_y',\n",
            "       'Count_general', 'Count_diff'],\n",
            "      dtype='object')\n"
          ]
        }
      ],
      "source": [
        "#@title Abrir el dataframe\n",
        "\n",
        "import os\n",
        "import pandas as pd\n",
        "\n",
        "input_folder = \"/content/drive/MyDrive/TFM/T2/Analisis_dataframe_final\"\n",
        "input_file = os.path.join(input_folder, \"df_filtro_binana_final.csv\")\n",
        "df_harm = pd.read_csv(input_file, sep = ',')\n",
        "print(df_harm.shape[0],df_harm.columns)"
      ]
    },
    {
      "cell_type": "code",
      "execution_count": null,
      "metadata": {
        "id": "wcod9R3OiCTi"
      },
      "outputs": [],
      "source": [
        "#@title comprobar output USR grupos ligandos\n",
        "\n",
        "list_output_USR_ligandos = os.listdir(\"/content/drive/MyDrive/TFM/T2/Ultrafast_Shape_Recognition/Output_USR\")"
      ]
    },
    {
      "cell_type": "code",
      "execution_count": null,
      "metadata": {
        "colab": {
          "base_uri": "https://localhost:8080/"
        },
        "id": "NxnDZzPUiaVD",
        "outputId": "ba18b041-d22c-416d-e2d7-26dfa4f707fb"
      },
      "outputs": [
        {
          "name": "stdout",
          "output_type": "stream",
          "text": [
            "2947\n"
          ]
        }
      ],
      "source": [
        "print(len(list_output_USR_ligandos))"
      ]
    },
    {
      "cell_type": "code",
      "execution_count": null,
      "metadata": {
        "id": "w__InS8_i7eC"
      },
      "outputs": [],
      "source": [
        "list_output_USR_ligandos_1 = [i.replace(\"USR_\",\"\").replace(\".csv\",\"\") for i in list_output_USR_ligandos]"
      ]
    },
    {
      "cell_type": "code",
      "execution_count": null,
      "metadata": {
        "colab": {
          "base_uri": "https://localhost:8080/"
        },
        "collapsed": true,
        "id": "DpRS37hajMpy",
        "outputId": "07a6aa84-a6e3-4ef7-c79c-d7e2e7642b33"
      },
      "outputs": [],
      "source": [
        "list_output_USR_ligandos_1"
      ]
    },
    {
      "cell_type": "code",
      "execution_count": null,
      "metadata": {
        "colab": {
          "base_uri": "https://localhost:8080/"
        },
        "id": "OIPbegnBitM6",
        "outputId": "a87dc057-df69-40e7-c8d8-cb0e154f543b"
      },
      "outputs": [
        {
          "name": "stdout",
          "output_type": "stream",
          "text": [
            "2871\n"
          ]
        }
      ],
      "source": [
        "ligandos_unicos_dataframe = list(set(df_harm['Ligand_id'].tolist()))\n",
        "print(len(ligandos_unicos_dataframe))"
      ]
    },
    {
      "cell_type": "code",
      "execution_count": null,
      "metadata": {
        "colab": {
          "base_uri": "https://localhost:8080/"
        },
        "id": "5P6GCxq_icHy",
        "outputId": "03f8a992-5a65-40d3-d33d-d900e0f5b67b"
      },
      "outputs": [
        {
          "name": "stdout",
          "output_type": "stream",
          "text": [
            "0\n"
          ]
        }
      ],
      "source": [
        "#@title identifiar faltas si hay\n",
        "\n",
        "falta_ligandos = []\n",
        "\n",
        "for ligando in ligandos_unicos_dataframe:\n",
        "  if ligando not in list_output_USR_ligandos_1:\n",
        "    falta_ligandos.append(ligando)\n",
        "\n",
        "print(len(falta_ligandos))"
      ]
    },
    {
      "cell_type": "code",
      "execution_count": null,
      "metadata": {
        "id": "FJlGSjhF0sFZ"
      },
      "outputs": [],
      "source": [
        "# Cargar el CSV\n",
        "data = pd.read_csv('/content/drive/MyDrive/TFM/T2/Ultrafast_Shape_Recognition/Output_USR/USR_ZUG.csv', sep =\",\")"
      ]
    },
    {
      "cell_type": "code",
      "execution_count": null,
      "metadata": {
        "colab": {
          "base_uri": "https://localhost:8080/",
          "height": 175
        },
        "id": "gZ6QuHNt0twA",
        "outputId": "adc4e591-5fe8-4de6-ad11-1cbeca2dda88"
      },
      "outputs": [
        {
          "data": {
            "application/vnd.google.colaboratory.intrinsic+json": {
              "summary": "{\n  \"name\": \"data\",\n  \"rows\": 4,\n  \"fields\": [\n    {\n      \"column\": \"conformation\",\n      \"properties\": {\n        \"dtype\": \"string\",\n        \"num_unique_values\": 4,\n        \"samples\": [\n          \"7HGJ_ZUG_B_103_ligando.pdb\",\n          \"7HZN_ZUG_A_208_ligando.pdb\",\n          \"7H3L_ZUG_A_201_ligando.pdb\"\n        ],\n        \"semantic_type\": \"\",\n        \"description\": \"\"\n      }\n    },\n    {\n      \"column\": \"USR_1\",\n      \"properties\": {\n        \"dtype\": \"number\",\n        \"std\": 0.0467397998676361,\n        \"min\": 2.60158,\n        \"max\": 2.69763,\n        \"num_unique_values\": 4,\n        \"samples\": [\n          2.60158,\n          2.69763,\n          2.60211\n        ],\n        \"semantic_type\": \"\",\n        \"description\": \"\"\n      }\n    },\n    {\n      \"column\": \"USR_2\",\n      \"properties\": {\n        \"dtype\": \"number\",\n        \"std\": 0.07224774708136811,\n        \"min\": 0.55241,\n        \"max\": 0.70572,\n        \"num_unique_values\": 4,\n        \"samples\": [\n          0.55241,\n          0.61508,\n          0.55344\n        ],\n        \"semantic_type\": \"\",\n        \"description\": \"\"\n      }\n    },\n    {\n      \"column\": \"USR_3\",\n      \"properties\": {\n        \"dtype\": \"number\",\n        \"std\": 0.11690799316841713,\n        \"min\": 1.40609,\n        \"max\": 1.68382,\n        \"num_unique_values\": 4,\n        \"samples\": [\n          1.68382,\n          1.60044,\n          1.58605\n        ],\n        \"semantic_type\": \"\",\n        \"description\": \"\"\n      }\n    },\n    {\n      \"column\": \"USR_4\",\n      \"properties\": {\n        \"dtype\": \"number\",\n        \"std\": 0.05706786741824749,\n        \"min\": 2.69778,\n        \"max\": 2.82472,\n        \"num_unique_values\": 4,\n        \"samples\": [\n          2.69778,\n          2.82472,\n          2.71058\n        ],\n        \"semantic_type\": \"\",\n        \"description\": \"\"\n      }\n    },\n    {\n      \"column\": \"USR_5\",\n      \"properties\": {\n        \"dtype\": \"number\",\n        \"std\": 0.10572430609845584,\n        \"min\": 0.96451,\n        \"max\": 1.17135,\n        \"num_unique_values\": 4,\n        \"samples\": [\n          0.96451,\n          1.17135,\n          1.00357\n        ],\n        \"semantic_type\": \"\",\n        \"description\": \"\"\n      }\n    },\n    {\n      \"column\": \"USR_6\",\n      \"properties\": {\n        \"dtype\": \"number\",\n        \"std\": 0.06535036393675753,\n        \"min\": 1.6002,\n        \"max\": 1.75775,\n        \"num_unique_values\": 4,\n        \"samples\": [\n          1.75775,\n          1.6002,\n          1.68454\n        ],\n        \"semantic_type\": \"\",\n        \"description\": \"\"\n      }\n    },\n    {\n      \"column\": \"USR_7\",\n      \"properties\": {\n        \"dtype\": \"number\",\n        \"std\": 0.08102538136287896,\n        \"min\": 4.65412,\n        \"max\": 4.82595,\n        \"num_unique_values\": 4,\n        \"samples\": [\n          4.65805,\n          4.82595,\n          4.65412\n        ],\n        \"semantic_type\": \"\",\n        \"description\": \"\"\n      }\n    },\n    {\n      \"column\": \"USR_8\",\n      \"properties\": {\n        \"dtype\": \"number\",\n        \"std\": 0.32366977513097117,\n        \"min\": 4.24226,\n        \"max\": 4.86704,\n        \"num_unique_values\": 4,\n        \"samples\": [\n          4.24226,\n          4.86704,\n          4.27332\n        ],\n        \"semantic_type\": \"\",\n        \"description\": \"\"\n      }\n    },\n    {\n      \"column\": \"USR_9\",\n      \"properties\": {\n        \"dtype\": \"number\",\n        \"std\": 0.027238797085529745,\n        \"min\": 1.35914,\n        \"max\": 1.42396,\n        \"num_unique_values\": 4,\n        \"samples\": [\n          1.40495,\n          1.35914,\n          1.39335\n        ],\n        \"semantic_type\": \"\",\n        \"description\": \"\"\n      }\n    },\n    {\n      \"column\": \"USR_10\",\n      \"properties\": {\n        \"dtype\": \"number\",\n        \"std\": 0.07136600375295428,\n        \"min\": 3.9097,\n        \"max\": 4.07293,\n        \"num_unique_values\": 4,\n        \"samples\": [\n          4.03841,\n          3.98175,\n          3.9097\n        ],\n        \"semantic_type\": \"\",\n        \"description\": \"\"\n      }\n    },\n    {\n      \"column\": \"USR_11\",\n      \"properties\": {\n        \"dtype\": \"number\",\n        \"std\": 0.3043425281241516,\n        \"min\": 3.49398,\n        \"max\": 4.19733,\n        \"num_unique_values\": 4,\n        \"samples\": [\n          3.86655,\n          4.05339,\n          3.49398\n        ],\n        \"semantic_type\": \"\",\n        \"description\": \"\"\n      }\n    },\n    {\n      \"column\": \"USR_12\",\n      \"properties\": {\n        \"dtype\": \"number\",\n        \"std\": 0.045431665443828935,\n        \"min\": 1.37996,\n        \"max\": 1.48828,\n        \"num_unique_values\": 4,\n        \"samples\": [\n          1.45409,\n          1.37996,\n          1.48828\n        ],\n        \"semantic_type\": \"\",\n        \"description\": \"\"\n      }\n    }\n  ]\n}",
              "type": "dataframe",
              "variable_name": "data"
            },
            "text/html": [
              "\n",
              "  <div id=\"df-2676fc38-0da3-4485-a411-986ff9d7f119\" class=\"colab-df-container\">\n",
              "    <div>\n",
              "<style scoped>\n",
              "    .dataframe tbody tr th:only-of-type {\n",
              "        vertical-align: middle;\n",
              "    }\n",
              "\n",
              "    .dataframe tbody tr th {\n",
              "        vertical-align: top;\n",
              "    }\n",
              "\n",
              "    .dataframe thead th {\n",
              "        text-align: right;\n",
              "    }\n",
              "</style>\n",
              "<table border=\"1\" class=\"dataframe\">\n",
              "  <thead>\n",
              "    <tr style=\"text-align: right;\">\n",
              "      <th></th>\n",
              "      <th>conformation</th>\n",
              "      <th>USR_1</th>\n",
              "      <th>USR_2</th>\n",
              "      <th>USR_3</th>\n",
              "      <th>USR_4</th>\n",
              "      <th>USR_5</th>\n",
              "      <th>USR_6</th>\n",
              "      <th>USR_7</th>\n",
              "      <th>USR_8</th>\n",
              "      <th>USR_9</th>\n",
              "      <th>USR_10</th>\n",
              "      <th>USR_11</th>\n",
              "      <th>USR_12</th>\n",
              "    </tr>\n",
              "  </thead>\n",
              "  <tbody>\n",
              "    <tr>\n",
              "      <th>0</th>\n",
              "      <td>7H3L_ZUG_A_201_ligando.pdb</td>\n",
              "      <td>2.60211</td>\n",
              "      <td>0.55344</td>\n",
              "      <td>1.58605</td>\n",
              "      <td>2.71058</td>\n",
              "      <td>1.00357</td>\n",
              "      <td>1.68454</td>\n",
              "      <td>4.65412</td>\n",
              "      <td>4.27332</td>\n",
              "      <td>1.39335</td>\n",
              "      <td>3.90970</td>\n",
              "      <td>3.49398</td>\n",
              "      <td>1.48828</td>\n",
              "    </tr>\n",
              "    <tr>\n",
              "      <th>1</th>\n",
              "      <td>7HGJ_ZUG_B_103_ligando.pdb</td>\n",
              "      <td>2.60158</td>\n",
              "      <td>0.55241</td>\n",
              "      <td>1.68382</td>\n",
              "      <td>2.69778</td>\n",
              "      <td>0.96451</td>\n",
              "      <td>1.75775</td>\n",
              "      <td>4.65805</td>\n",
              "      <td>4.24226</td>\n",
              "      <td>1.40495</td>\n",
              "      <td>4.03841</td>\n",
              "      <td>3.86655</td>\n",
              "      <td>1.45409</td>\n",
              "    </tr>\n",
              "    <tr>\n",
              "      <th>2</th>\n",
              "      <td>7HGJ_ZUG_C_102_ligando.pdb</td>\n",
              "      <td>2.60963</td>\n",
              "      <td>0.70572</td>\n",
              "      <td>1.40609</td>\n",
              "      <td>2.74285</td>\n",
              "      <td>1.15831</td>\n",
              "      <td>1.65831</td>\n",
              "      <td>4.68817</td>\n",
              "      <td>4.75830</td>\n",
              "      <td>1.42396</td>\n",
              "      <td>4.07293</td>\n",
              "      <td>4.19733</td>\n",
              "      <td>1.43186</td>\n",
              "    </tr>\n",
              "    <tr>\n",
              "      <th>3</th>\n",
              "      <td>7HZN_ZUG_A_208_ligando.pdb</td>\n",
              "      <td>2.69763</td>\n",
              "      <td>0.61508</td>\n",
              "      <td>1.60044</td>\n",
              "      <td>2.82472</td>\n",
              "      <td>1.17135</td>\n",
              "      <td>1.60020</td>\n",
              "      <td>4.82595</td>\n",
              "      <td>4.86704</td>\n",
              "      <td>1.35914</td>\n",
              "      <td>3.98175</td>\n",
              "      <td>4.05339</td>\n",
              "      <td>1.37996</td>\n",
              "    </tr>\n",
              "  </tbody>\n",
              "</table>\n",
              "</div>\n",
              "    <div class=\"colab-df-buttons\">\n",
              "\n",
              "  <div class=\"colab-df-container\">\n",
              "    <button class=\"colab-df-convert\" onclick=\"convertToInteractive('df-2676fc38-0da3-4485-a411-986ff9d7f119')\"\n",
              "            title=\"Convert this dataframe to an interactive table.\"\n",
              "            style=\"display:none;\">\n",
              "\n",
              "  <svg xmlns=\"http://www.w3.org/2000/svg\" height=\"24px\" viewBox=\"0 -960 960 960\">\n",
              "    <path d=\"M120-120v-720h720v720H120Zm60-500h600v-160H180v160Zm220 220h160v-160H400v160Zm0 220h160v-160H400v160ZM180-400h160v-160H180v160Zm440 0h160v-160H620v160ZM180-180h160v-160H180v160Zm440 0h160v-160H620v160Z\"/>\n",
              "  </svg>\n",
              "    </button>\n",
              "\n",
              "  <style>\n",
              "    .colab-df-container {\n",
              "      display:flex;\n",
              "      gap: 12px;\n",
              "    }\n",
              "\n",
              "    .colab-df-convert {\n",
              "      background-color: #E8F0FE;\n",
              "      border: none;\n",
              "      border-radius: 50%;\n",
              "      cursor: pointer;\n",
              "      display: none;\n",
              "      fill: #1967D2;\n",
              "      height: 32px;\n",
              "      padding: 0 0 0 0;\n",
              "      width: 32px;\n",
              "    }\n",
              "\n",
              "    .colab-df-convert:hover {\n",
              "      background-color: #E2EBFA;\n",
              "      box-shadow: 0px 1px 2px rgba(60, 64, 67, 0.3), 0px 1px 3px 1px rgba(60, 64, 67, 0.15);\n",
              "      fill: #174EA6;\n",
              "    }\n",
              "\n",
              "    .colab-df-buttons div {\n",
              "      margin-bottom: 4px;\n",
              "    }\n",
              "\n",
              "    [theme=dark] .colab-df-convert {\n",
              "      background-color: #3B4455;\n",
              "      fill: #D2E3FC;\n",
              "    }\n",
              "\n",
              "    [theme=dark] .colab-df-convert:hover {\n",
              "      background-color: #434B5C;\n",
              "      box-shadow: 0px 1px 3px 1px rgba(0, 0, 0, 0.15);\n",
              "      filter: drop-shadow(0px 1px 2px rgba(0, 0, 0, 0.3));\n",
              "      fill: #FFFFFF;\n",
              "    }\n",
              "  </style>\n",
              "\n",
              "    <script>\n",
              "      const buttonEl =\n",
              "        document.querySelector('#df-2676fc38-0da3-4485-a411-986ff9d7f119 button.colab-df-convert');\n",
              "      buttonEl.style.display =\n",
              "        google.colab.kernel.accessAllowed ? 'block' : 'none';\n",
              "\n",
              "      async function convertToInteractive(key) {\n",
              "        const element = document.querySelector('#df-2676fc38-0da3-4485-a411-986ff9d7f119');\n",
              "        const dataTable =\n",
              "          await google.colab.kernel.invokeFunction('convertToInteractive',\n",
              "                                                    [key], {});\n",
              "        if (!dataTable) return;\n",
              "\n",
              "        const docLinkHtml = 'Like what you see? Visit the ' +\n",
              "          '<a target=\"_blank\" href=https://colab.research.google.com/notebooks/data_table.ipynb>data table notebook</a>'\n",
              "          + ' to learn more about interactive tables.';\n",
              "        element.innerHTML = '';\n",
              "        dataTable['output_type'] = 'display_data';\n",
              "        await google.colab.output.renderOutput(dataTable, element);\n",
              "        const docLink = document.createElement('div');\n",
              "        docLink.innerHTML = docLinkHtml;\n",
              "        element.appendChild(docLink);\n",
              "      }\n",
              "    </script>\n",
              "  </div>\n",
              "\n",
              "\n",
              "<div id=\"df-e971ff93-f5d4-4e3e-be21-1ce1c0a4a439\">\n",
              "  <button class=\"colab-df-quickchart\" onclick=\"quickchart('df-e971ff93-f5d4-4e3e-be21-1ce1c0a4a439')\"\n",
              "            title=\"Suggest charts\"\n",
              "            style=\"display:none;\">\n",
              "\n",
              "<svg xmlns=\"http://www.w3.org/2000/svg\" height=\"24px\"viewBox=\"0 0 24 24\"\n",
              "     width=\"24px\">\n",
              "    <g>\n",
              "        <path d=\"M19 3H5c-1.1 0-2 .9-2 2v14c0 1.1.9 2 2 2h14c1.1 0 2-.9 2-2V5c0-1.1-.9-2-2-2zM9 17H7v-7h2v7zm4 0h-2V7h2v10zm4 0h-2v-4h2v4z\"/>\n",
              "    </g>\n",
              "</svg>\n",
              "  </button>\n",
              "\n",
              "<style>\n",
              "  .colab-df-quickchart {\n",
              "      --bg-color: #E8F0FE;\n",
              "      --fill-color: #1967D2;\n",
              "      --hover-bg-color: #E2EBFA;\n",
              "      --hover-fill-color: #174EA6;\n",
              "      --disabled-fill-color: #AAA;\n",
              "      --disabled-bg-color: #DDD;\n",
              "  }\n",
              "\n",
              "  [theme=dark] .colab-df-quickchart {\n",
              "      --bg-color: #3B4455;\n",
              "      --fill-color: #D2E3FC;\n",
              "      --hover-bg-color: #434B5C;\n",
              "      --hover-fill-color: #FFFFFF;\n",
              "      --disabled-bg-color: #3B4455;\n",
              "      --disabled-fill-color: #666;\n",
              "  }\n",
              "\n",
              "  .colab-df-quickchart {\n",
              "    background-color: var(--bg-color);\n",
              "    border: none;\n",
              "    border-radius: 50%;\n",
              "    cursor: pointer;\n",
              "    display: none;\n",
              "    fill: var(--fill-color);\n",
              "    height: 32px;\n",
              "    padding: 0;\n",
              "    width: 32px;\n",
              "  }\n",
              "\n",
              "  .colab-df-quickchart:hover {\n",
              "    background-color: var(--hover-bg-color);\n",
              "    box-shadow: 0 1px 2px rgba(60, 64, 67, 0.3), 0 1px 3px 1px rgba(60, 64, 67, 0.15);\n",
              "    fill: var(--button-hover-fill-color);\n",
              "  }\n",
              "\n",
              "  .colab-df-quickchart-complete:disabled,\n",
              "  .colab-df-quickchart-complete:disabled:hover {\n",
              "    background-color: var(--disabled-bg-color);\n",
              "    fill: var(--disabled-fill-color);\n",
              "    box-shadow: none;\n",
              "  }\n",
              "\n",
              "  .colab-df-spinner {\n",
              "    border: 2px solid var(--fill-color);\n",
              "    border-color: transparent;\n",
              "    border-bottom-color: var(--fill-color);\n",
              "    animation:\n",
              "      spin 1s steps(1) infinite;\n",
              "  }\n",
              "\n",
              "  @keyframes spin {\n",
              "    0% {\n",
              "      border-color: transparent;\n",
              "      border-bottom-color: var(--fill-color);\n",
              "      border-left-color: var(--fill-color);\n",
              "    }\n",
              "    20% {\n",
              "      border-color: transparent;\n",
              "      border-left-color: var(--fill-color);\n",
              "      border-top-color: var(--fill-color);\n",
              "    }\n",
              "    30% {\n",
              "      border-color: transparent;\n",
              "      border-left-color: var(--fill-color);\n",
              "      border-top-color: var(--fill-color);\n",
              "      border-right-color: var(--fill-color);\n",
              "    }\n",
              "    40% {\n",
              "      border-color: transparent;\n",
              "      border-right-color: var(--fill-color);\n",
              "      border-top-color: var(--fill-color);\n",
              "    }\n",
              "    60% {\n",
              "      border-color: transparent;\n",
              "      border-right-color: var(--fill-color);\n",
              "    }\n",
              "    80% {\n",
              "      border-color: transparent;\n",
              "      border-right-color: var(--fill-color);\n",
              "      border-bottom-color: var(--fill-color);\n",
              "    }\n",
              "    90% {\n",
              "      border-color: transparent;\n",
              "      border-bottom-color: var(--fill-color);\n",
              "    }\n",
              "  }\n",
              "</style>\n",
              "\n",
              "  <script>\n",
              "    async function quickchart(key) {\n",
              "      const quickchartButtonEl =\n",
              "        document.querySelector('#' + key + ' button');\n",
              "      quickchartButtonEl.disabled = true;  // To prevent multiple clicks.\n",
              "      quickchartButtonEl.classList.add('colab-df-spinner');\n",
              "      try {\n",
              "        const charts = await google.colab.kernel.invokeFunction(\n",
              "            'suggestCharts', [key], {});\n",
              "      } catch (error) {\n",
              "        console.error('Error during call to suggestCharts:', error);\n",
              "      }\n",
              "      quickchartButtonEl.classList.remove('colab-df-spinner');\n",
              "      quickchartButtonEl.classList.add('colab-df-quickchart-complete');\n",
              "    }\n",
              "    (() => {\n",
              "      let quickchartButtonEl =\n",
              "        document.querySelector('#df-e971ff93-f5d4-4e3e-be21-1ce1c0a4a439 button');\n",
              "      quickchartButtonEl.style.display =\n",
              "        google.colab.kernel.accessAllowed ? 'block' : 'none';\n",
              "    })();\n",
              "  </script>\n",
              "</div>\n",
              "\n",
              "  <div id=\"id_b8df5a46-58e5-4134-9a22-9de665911a82\">\n",
              "    <style>\n",
              "      .colab-df-generate {\n",
              "        background-color: #E8F0FE;\n",
              "        border: none;\n",
              "        border-radius: 50%;\n",
              "        cursor: pointer;\n",
              "        display: none;\n",
              "        fill: #1967D2;\n",
              "        height: 32px;\n",
              "        padding: 0 0 0 0;\n",
              "        width: 32px;\n",
              "      }\n",
              "\n",
              "      .colab-df-generate:hover {\n",
              "        background-color: #E2EBFA;\n",
              "        box-shadow: 0px 1px 2px rgba(60, 64, 67, 0.3), 0px 1px 3px 1px rgba(60, 64, 67, 0.15);\n",
              "        fill: #174EA6;\n",
              "      }\n",
              "\n",
              "      [theme=dark] .colab-df-generate {\n",
              "        background-color: #3B4455;\n",
              "        fill: #D2E3FC;\n",
              "      }\n",
              "\n",
              "      [theme=dark] .colab-df-generate:hover {\n",
              "        background-color: #434B5C;\n",
              "        box-shadow: 0px 1px 3px 1px rgba(0, 0, 0, 0.15);\n",
              "        filter: drop-shadow(0px 1px 2px rgba(0, 0, 0, 0.3));\n",
              "        fill: #FFFFFF;\n",
              "      }\n",
              "    </style>\n",
              "    <button class=\"colab-df-generate\" onclick=\"generateWithVariable('data')\"\n",
              "            title=\"Generate code using this dataframe.\"\n",
              "            style=\"display:none;\">\n",
              "\n",
              "  <svg xmlns=\"http://www.w3.org/2000/svg\" height=\"24px\"viewBox=\"0 0 24 24\"\n",
              "       width=\"24px\">\n",
              "    <path d=\"M7,19H8.4L18.45,9,17,7.55,7,17.6ZM5,21V16.75L18.45,3.32a2,2,0,0,1,2.83,0l1.4,1.43a1.91,1.91,0,0,1,.58,1.4,1.91,1.91,0,0,1-.58,1.4L9.25,21ZM18.45,9,17,7.55Zm-12,3A5.31,5.31,0,0,0,4.9,8.1,5.31,5.31,0,0,0,1,6.5,5.31,5.31,0,0,0,4.9,4.9,5.31,5.31,0,0,0,6.5,1,5.31,5.31,0,0,0,8.1,4.9,5.31,5.31,0,0,0,12,6.5,5.46,5.46,0,0,0,6.5,12Z\"/>\n",
              "  </svg>\n",
              "    </button>\n",
              "    <script>\n",
              "      (() => {\n",
              "      const buttonEl =\n",
              "        document.querySelector('#id_b8df5a46-58e5-4134-9a22-9de665911a82 button.colab-df-generate');\n",
              "      buttonEl.style.display =\n",
              "        google.colab.kernel.accessAllowed ? 'block' : 'none';\n",
              "\n",
              "      buttonEl.onclick = () => {\n",
              "        google.colab.notebook.generateWithVariable('data');\n",
              "      }\n",
              "      })();\n",
              "    </script>\n",
              "  </div>\n",
              "\n",
              "    </div>\n",
              "  </div>\n"
            ],
            "text/plain": [
              "                 conformation    USR_1    USR_2    USR_3    USR_4    USR_5  \\\n",
              "0  7H3L_ZUG_A_201_ligando.pdb  2.60211  0.55344  1.58605  2.71058  1.00357   \n",
              "1  7HGJ_ZUG_B_103_ligando.pdb  2.60158  0.55241  1.68382  2.69778  0.96451   \n",
              "2  7HGJ_ZUG_C_102_ligando.pdb  2.60963  0.70572  1.40609  2.74285  1.15831   \n",
              "3  7HZN_ZUG_A_208_ligando.pdb  2.69763  0.61508  1.60044  2.82472  1.17135   \n",
              "\n",
              "     USR_6    USR_7    USR_8    USR_9   USR_10   USR_11   USR_12  \n",
              "0  1.68454  4.65412  4.27332  1.39335  3.90970  3.49398  1.48828  \n",
              "1  1.75775  4.65805  4.24226  1.40495  4.03841  3.86655  1.45409  \n",
              "2  1.65831  4.68817  4.75830  1.42396  4.07293  4.19733  1.43186  \n",
              "3  1.60020  4.82595  4.86704  1.35914  3.98175  4.05339  1.37996  "
            ]
          },
          "execution_count": 6,
          "metadata": {},
          "output_type": "execute_result"
        }
      ],
      "source": [
        "data"
      ]
    },
    {
      "cell_type": "code",
      "execution_count": null,
      "metadata": {
        "colab": {
          "base_uri": "https://localhost:8080/"
        },
        "collapsed": true,
        "id": "IM1Ztc4Q9c8I",
        "outputId": "a9d0633b-f0c7-49ed-d26c-e7be48040614"
      },
      "outputs": [],
      "source": [
        "#@title Función matrix de similitud\n",
        "\n",
        "import os\n",
        "import pandas as pd\n",
        "import numpy as np\n",
        "\n",
        "input_folder = \"/content/drive/MyDrive/TFM/T2/Ultrafast_Shape_Recognition/Output_USR\"\n",
        "output_folder = \"/content/drive/MyDrive/TFM/T2/Ultrafast_Shape_Recognition/Similarity_Matrices\"\n",
        "\n",
        "os.makedirs(output_folder, exist_ok=True)\n",
        "\n",
        "for archivo in os.listdir(input_folder):\n",
        "    archivo_file = os.path.join(input_folder, archivo)\n",
        "    data = pd.read_csv(archivo_file, sep=\",\")\n",
        "\n",
        "    nombre_ligando = archivo.replace(\"USR_\",\"\").replace(\".csv\",\"\")\n",
        "\n",
        "    descriptor_cols = [col for col in data.columns if col.startswith('USR_')]\n",
        "\n",
        "    # Función de similitud USR\n",
        "    def usr_similarity(vec1, vec2):\n",
        "        return 1 / (1 + (np.sum(np.abs(vec1 - vec2)) / len(vec1)))\n",
        "\n",
        "    # Calcular la matriz de similitud para todas las conformaciones\n",
        "    descriptors = data[descriptor_cols].values\n",
        "    n = descriptors.shape[0]\n",
        "    sim_matrix = np.zeros((n, n))\n",
        "\n",
        "    for i in range(n):\n",
        "        for j in range(i, n):\n",
        "            sim = usr_similarity(descriptors[i], descriptors[j])\n",
        "            sim_matrix[i, j] = sim\n",
        "            sim_matrix[j, i] = sim\n",
        "\n",
        "\n",
        "    sim_df = pd.DataFrame(sim_matrix, index=data['conformation'], columns=data['conformation'])\n",
        "\n",
        "    output_file = os.path.join(output_folder, f\"sim_matrix_{nombre_ligando}.csv\")\n",
        "    sim_df.to_csv(output_file)\n",
        "\n",
        "    print(f\"Guardada matriz de similitud: {output_file}\")\n",
        "\n",
        "\n",
        "\n",
        "\n",
        "\n",
        "\n",
        "\n"
      ]
    },
    {
      "cell_type": "code",
      "execution_count": null,
      "metadata": {
        "colab": {
          "base_uri": "https://localhost:8080/"
        },
        "id": "Fm3P-WStUdZB",
        "outputId": "6cbdfac2-8fd0-4195-b7cd-d421c5094316"
      },
      "outputs": [
        {
          "name": "stdout",
          "output_type": "stream",
          "text": [
            "70378\n"
          ]
        }
      ],
      "source": [
        "lista_instancias = df_harm['Nombre'].tolist()\n",
        "print(len(lista_instancias))"
      ]
    },
    {
      "cell_type": "code",
      "execution_count": null,
      "metadata": {
        "colab": {
          "base_uri": "https://localhost:8080/"
        },
        "collapsed": true,
        "id": "2nxN4qalWh8Z",
        "outputId": "ba045c77-aec8-491e-e7b3-57a186e1c498"
      },
      "outputs": [],
      "source": [
        "lista_instancias"
      ]
    },
    {
      "cell_type": "code",
      "execution_count": null,
      "metadata": {
        "colab": {
          "base_uri": "https://localhost:8080/"
        },
        "collapsed": true,
        "id": "Rycl0rxmUX-J",
        "outputId": "3de3d6b2-cf98-4b39-9de6-3395cd61045b"
      },
      "outputs": [],
      "source": [
        "#@title Realizar matriz de similitud solo instancias\n",
        "\n",
        "import os\n",
        "import pandas as pd\n",
        "import numpy as np\n",
        "\n",
        "input_folder = \"/content/drive/MyDrive/TFM/T2/Ultrafast_Shape_Recognition/Output_USR\"\n",
        "output_folder = \"/content/drive/MyDrive/TFM/T2/Ultrafast_Shape_Recognition/Similarity_Matrices_solo_instancias\"\n",
        "\n",
        "os.makedirs(output_folder, exist_ok=True)\n",
        "\n",
        "for archivo in os.listdir(input_folder):\n",
        "    archivo_file = os.path.join(input_folder, archivo)\n",
        "    data = pd.read_csv(archivo_file, sep=\",\")\n",
        "\n",
        "\n",
        "    data['conformation_norm'] = data['conformation'].str.replace('_ligando.pdb', '', regex=False).str.strip().str.lower()\n",
        "    lista_instancias_norm = [x.strip().lower() for x in lista_instancias]\n",
        "\n",
        "\n",
        "    data_filtrada = data[data['conformation_norm'].isin(lista_instancias_norm)]\n",
        "\n",
        "    if data_filtrada.empty:\n",
        "        print(f\"No se encontraron conformaciones válidas en {archivo}, se omite.\")\n",
        "        continue\n",
        "\n",
        "    nombre_ligando = archivo.replace(\"USR_\",\"\").replace(\".csv\",\"\")\n",
        "\n",
        "    descriptor_cols = [col for col in data_filtrada.columns if col.startswith('USR_')]\n",
        "\n",
        "    # Función de similitud USR\n",
        "    def usr_similarity(vec1, vec2):\n",
        "        return 1 / (1 + (np.sum(np.abs(vec1 - vec2)) / len(vec1)))\n",
        "\n",
        "    # Calcular la matriz de similitud\n",
        "    descriptors = data_filtrada[descriptor_cols].values\n",
        "    n = descriptors.shape[0]\n",
        "    sim_matrix = np.zeros((n, n))\n",
        "\n",
        "    for i in range(n):\n",
        "        for j in range(i, n):\n",
        "            sim = usr_similarity(descriptors[i], descriptors[j])\n",
        "            sim_matrix[i, j] = sim\n",
        "            sim_matrix[j, i] = sim\n",
        "\n",
        "    sim_df = pd.DataFrame(sim_matrix, index=data_filtrada['conformation'], columns=data_filtrada['conformation'])\n",
        "\n",
        "    output_file = os.path.join(output_folder, f\"sim_matrix_{nombre_ligando}.csv\")\n",
        "    sim_df.to_csv(output_file)\n",
        "\n",
        "    print(f\"Guardada matriz de similitud: {output_file}\")\n",
        "\n"
      ]
    },
    {
      "cell_type": "code",
      "execution_count": null,
      "metadata": {
        "colab": {
          "base_uri": "https://localhost:8080/"
        },
        "collapsed": true,
        "id": "XG7ubjtdWMQZ",
        "outputId": "5e19b7fa-15eb-4617-91c0-d63835e5a521"
      },
      "outputs": [],
      "source": [
        "#lista_instancias"
      ]
    },
    {
      "cell_type": "code",
      "execution_count": null,
      "metadata": {
        "colab": {
          "base_uri": "https://localhost:8080/"
        },
        "id": "JMCckrIcBs2D",
        "outputId": "dd936d6f-3f8a-4f3e-e61f-3fb68a048cf9"
      },
      "outputs": [
        {
          "name": "stdout",
          "output_type": "stream",
          "text": [
            "Resumen guardado en: /content/drive/MyDrive/TFM/T2/Ultrafast_Shape_Recognition/similitud_resumen_solo_instancias.csv\n"
          ]
        }
      ],
      "source": [
        "#@title Crear el resumen de las similitudes\n",
        "\n",
        "import os\n",
        "import pandas as pd\n",
        "import numpy as np\n",
        "\n",
        "input_folder = \"/content/drive/MyDrive/TFM/T2/Ultrafast_Shape_Recognition/Similarity_Matrices_solo_instancias\"\n",
        "resultados = []\n",
        "\n",
        "for archivo in os.listdir(input_folder):\n",
        "    if archivo.endswith(\".csv\"):\n",
        "        archivo_file = os.path.join(input_folder, archivo)\n",
        "        df = pd.read_csv(archivo_file, index_col=0)\n",
        "\n",
        "        sim_matrix = df.values\n",
        "\n",
        "        if sim_matrix.shape[0] > 1:\n",
        "            off_diag = sim_matrix[~np.eye(sim_matrix.shape[0], dtype=bool)]\n",
        "            min_sim = np.min(off_diag)\n",
        "            mean_sim = np.mean(off_diag)\n",
        "        else:\n",
        "            min_sim = 1.0\n",
        "            mean_sim = 1.0\n",
        "\n",
        "        resultados.append({\n",
        "            'ligando': archivo.replace(\"sim_matrix_\", \"\"),\n",
        "            'min_sim': min_sim,\n",
        "            'mean_sim': mean_sim\n",
        "        })\n",
        "\n",
        "resultados_df = pd.DataFrame(resultados)\n",
        "\n",
        "output_file = \"/content/drive/MyDrive/TFM/T2/Ultrafast_Shape_Recognition/similitud_resumen_solo_instancias.csv\"\n",
        "resultados_df.to_csv(output_file, index=False)\n",
        "\n",
        "print(f\"Resumen guardado en: {output_file}\")\n"
      ]
    },
    {
      "cell_type": "code",
      "execution_count": null,
      "metadata": {
        "id": "PWRnWwD4FBIw"
      },
      "outputs": [],
      "source": [
        "df_resumen = pd.read_csv(\"/content/drive/MyDrive/TFM/T2/Ultrafast_Shape_Recognition/similitud_resumen_solo_instancias.csv\",sep = ',')"
      ]
    },
    {
      "cell_type": "code",
      "execution_count": null,
      "metadata": {
        "id": "CvNEpKvfFIB2"
      },
      "outputs": [],
      "source": [
        "df_resumen['ligando'] = df_resumen['ligando'].str.replace('.csv', '', regex=False)"
      ]
    },
    {
      "cell_type": "code",
      "execution_count": null,
      "metadata": {
        "colab": {
          "base_uri": "https://localhost:8080/",
          "height": 206
        },
        "id": "zF9t2uccFTRP",
        "outputId": "6c8722a5-a1d1-4a16-e370-dc845cdb6f73"
      },
      "outputs": [
        {
          "data": {
            "application/vnd.google.colaboratory.intrinsic+json": {
              "summary": "{\n  \"name\": \"df_resumen\",\n  \"rows\": 2871,\n  \"fields\": [\n    {\n      \"column\": \"ligando\",\n      \"properties\": {\n        \"dtype\": \"string\",\n        \"num_unique_values\": 2871,\n        \"samples\": [\n          \"N6H\",\n          \"BLV\",\n          \"ABU\"\n        ],\n        \"semantic_type\": \"\",\n        \"description\": \"\"\n      }\n    },\n    {\n      \"column\": \"min_sim\",\n      \"properties\": {\n        \"dtype\": \"number\",\n        \"std\": 0.241121085075718,\n        \"min\": 0.0032353837615668,\n        \"max\": 1.0,\n        \"num_unique_values\": 2869,\n        \"samples\": [\n          0.7584419327375773,\n          0.2234337295558137,\n          0.7724846130721135\n        ],\n        \"semantic_type\": \"\",\n        \"description\": \"\"\n      }\n    },\n    {\n      \"column\": \"mean_sim\",\n      \"properties\": {\n        \"dtype\": \"number\",\n        \"std\": 0.16872037109720048,\n        \"min\": 0.1317557919571653,\n        \"max\": 1.0,\n        \"num_unique_values\": 2871,\n        \"samples\": [\n          0.6639819662497967,\n          0.8300395405655431,\n          0.8362814109568817\n        ],\n        \"semantic_type\": \"\",\n        \"description\": \"\"\n      }\n    }\n  ]\n}",
              "type": "dataframe",
              "variable_name": "df_resumen"
            },
            "text/html": [
              "\n",
              "  <div id=\"df-9ed64c3e-56f8-44e2-a3ae-c3e8919602f9\" class=\"colab-df-container\">\n",
              "    <div>\n",
              "<style scoped>\n",
              "    .dataframe tbody tr th:only-of-type {\n",
              "        vertical-align: middle;\n",
              "    }\n",
              "\n",
              "    .dataframe tbody tr th {\n",
              "        vertical-align: top;\n",
              "    }\n",
              "\n",
              "    .dataframe thead th {\n",
              "        text-align: right;\n",
              "    }\n",
              "</style>\n",
              "<table border=\"1\" class=\"dataframe\">\n",
              "  <thead>\n",
              "    <tr style=\"text-align: right;\">\n",
              "      <th></th>\n",
              "      <th>ligando</th>\n",
              "      <th>min_sim</th>\n",
              "      <th>mean_sim</th>\n",
              "    </tr>\n",
              "  </thead>\n",
              "  <tbody>\n",
              "    <tr>\n",
              "      <th>0</th>\n",
              "      <td>BGP</td>\n",
              "      <td>0.813222</td>\n",
              "      <td>0.880186</td>\n",
              "    </tr>\n",
              "    <tr>\n",
              "      <th>1</th>\n",
              "      <td>2Q2</td>\n",
              "      <td>0.926891</td>\n",
              "      <td>0.926891</td>\n",
              "    </tr>\n",
              "    <tr>\n",
              "      <th>2</th>\n",
              "      <td>3VV</td>\n",
              "      <td>0.092402</td>\n",
              "      <td>0.287425</td>\n",
              "    </tr>\n",
              "    <tr>\n",
              "      <th>3</th>\n",
              "      <td>AVI</td>\n",
              "      <td>0.660516</td>\n",
              "      <td>0.872269</td>\n",
              "    </tr>\n",
              "    <tr>\n",
              "      <th>4</th>\n",
              "      <td>CUR</td>\n",
              "      <td>0.298726</td>\n",
              "      <td>0.481452</td>\n",
              "    </tr>\n",
              "  </tbody>\n",
              "</table>\n",
              "</div>\n",
              "    <div class=\"colab-df-buttons\">\n",
              "\n",
              "  <div class=\"colab-df-container\">\n",
              "    <button class=\"colab-df-convert\" onclick=\"convertToInteractive('df-9ed64c3e-56f8-44e2-a3ae-c3e8919602f9')\"\n",
              "            title=\"Convert this dataframe to an interactive table.\"\n",
              "            style=\"display:none;\">\n",
              "\n",
              "  <svg xmlns=\"http://www.w3.org/2000/svg\" height=\"24px\" viewBox=\"0 -960 960 960\">\n",
              "    <path d=\"M120-120v-720h720v720H120Zm60-500h600v-160H180v160Zm220 220h160v-160H400v160Zm0 220h160v-160H400v160ZM180-400h160v-160H180v160Zm440 0h160v-160H620v160ZM180-180h160v-160H180v160Zm440 0h160v-160H620v160Z\"/>\n",
              "  </svg>\n",
              "    </button>\n",
              "\n",
              "  <style>\n",
              "    .colab-df-container {\n",
              "      display:flex;\n",
              "      gap: 12px;\n",
              "    }\n",
              "\n",
              "    .colab-df-convert {\n",
              "      background-color: #E8F0FE;\n",
              "      border: none;\n",
              "      border-radius: 50%;\n",
              "      cursor: pointer;\n",
              "      display: none;\n",
              "      fill: #1967D2;\n",
              "      height: 32px;\n",
              "      padding: 0 0 0 0;\n",
              "      width: 32px;\n",
              "    }\n",
              "\n",
              "    .colab-df-convert:hover {\n",
              "      background-color: #E2EBFA;\n",
              "      box-shadow: 0px 1px 2px rgba(60, 64, 67, 0.3), 0px 1px 3px 1px rgba(60, 64, 67, 0.15);\n",
              "      fill: #174EA6;\n",
              "    }\n",
              "\n",
              "    .colab-df-buttons div {\n",
              "      margin-bottom: 4px;\n",
              "    }\n",
              "\n",
              "    [theme=dark] .colab-df-convert {\n",
              "      background-color: #3B4455;\n",
              "      fill: #D2E3FC;\n",
              "    }\n",
              "\n",
              "    [theme=dark] .colab-df-convert:hover {\n",
              "      background-color: #434B5C;\n",
              "      box-shadow: 0px 1px 3px 1px rgba(0, 0, 0, 0.15);\n",
              "      filter: drop-shadow(0px 1px 2px rgba(0, 0, 0, 0.3));\n",
              "      fill: #FFFFFF;\n",
              "    }\n",
              "  </style>\n",
              "\n",
              "    <script>\n",
              "      const buttonEl =\n",
              "        document.querySelector('#df-9ed64c3e-56f8-44e2-a3ae-c3e8919602f9 button.colab-df-convert');\n",
              "      buttonEl.style.display =\n",
              "        google.colab.kernel.accessAllowed ? 'block' : 'none';\n",
              "\n",
              "      async function convertToInteractive(key) {\n",
              "        const element = document.querySelector('#df-9ed64c3e-56f8-44e2-a3ae-c3e8919602f9');\n",
              "        const dataTable =\n",
              "          await google.colab.kernel.invokeFunction('convertToInteractive',\n",
              "                                                    [key], {});\n",
              "        if (!dataTable) return;\n",
              "\n",
              "        const docLinkHtml = 'Like what you see? Visit the ' +\n",
              "          '<a target=\"_blank\" href=https://colab.research.google.com/notebooks/data_table.ipynb>data table notebook</a>'\n",
              "          + ' to learn more about interactive tables.';\n",
              "        element.innerHTML = '';\n",
              "        dataTable['output_type'] = 'display_data';\n",
              "        await google.colab.output.renderOutput(dataTable, element);\n",
              "        const docLink = document.createElement('div');\n",
              "        docLink.innerHTML = docLinkHtml;\n",
              "        element.appendChild(docLink);\n",
              "      }\n",
              "    </script>\n",
              "  </div>\n",
              "\n",
              "\n",
              "    <div id=\"df-a703798f-a9c0-4f39-949f-5ddc93893cfa\">\n",
              "      <button class=\"colab-df-quickchart\" onclick=\"quickchart('df-a703798f-a9c0-4f39-949f-5ddc93893cfa')\"\n",
              "                title=\"Suggest charts\"\n",
              "                style=\"display:none;\">\n",
              "\n",
              "<svg xmlns=\"http://www.w3.org/2000/svg\" height=\"24px\"viewBox=\"0 0 24 24\"\n",
              "     width=\"24px\">\n",
              "    <g>\n",
              "        <path d=\"M19 3H5c-1.1 0-2 .9-2 2v14c0 1.1.9 2 2 2h14c1.1 0 2-.9 2-2V5c0-1.1-.9-2-2-2zM9 17H7v-7h2v7zm4 0h-2V7h2v10zm4 0h-2v-4h2v4z\"/>\n",
              "    </g>\n",
              "</svg>\n",
              "      </button>\n",
              "\n",
              "<style>\n",
              "  .colab-df-quickchart {\n",
              "      --bg-color: #E8F0FE;\n",
              "      --fill-color: #1967D2;\n",
              "      --hover-bg-color: #E2EBFA;\n",
              "      --hover-fill-color: #174EA6;\n",
              "      --disabled-fill-color: #AAA;\n",
              "      --disabled-bg-color: #DDD;\n",
              "  }\n",
              "\n",
              "  [theme=dark] .colab-df-quickchart {\n",
              "      --bg-color: #3B4455;\n",
              "      --fill-color: #D2E3FC;\n",
              "      --hover-bg-color: #434B5C;\n",
              "      --hover-fill-color: #FFFFFF;\n",
              "      --disabled-bg-color: #3B4455;\n",
              "      --disabled-fill-color: #666;\n",
              "  }\n",
              "\n",
              "  .colab-df-quickchart {\n",
              "    background-color: var(--bg-color);\n",
              "    border: none;\n",
              "    border-radius: 50%;\n",
              "    cursor: pointer;\n",
              "    display: none;\n",
              "    fill: var(--fill-color);\n",
              "    height: 32px;\n",
              "    padding: 0;\n",
              "    width: 32px;\n",
              "  }\n",
              "\n",
              "  .colab-df-quickchart:hover {\n",
              "    background-color: var(--hover-bg-color);\n",
              "    box-shadow: 0 1px 2px rgba(60, 64, 67, 0.3), 0 1px 3px 1px rgba(60, 64, 67, 0.15);\n",
              "    fill: var(--button-hover-fill-color);\n",
              "  }\n",
              "\n",
              "  .colab-df-quickchart-complete:disabled,\n",
              "  .colab-df-quickchart-complete:disabled:hover {\n",
              "    background-color: var(--disabled-bg-color);\n",
              "    fill: var(--disabled-fill-color);\n",
              "    box-shadow: none;\n",
              "  }\n",
              "\n",
              "  .colab-df-spinner {\n",
              "    border: 2px solid var(--fill-color);\n",
              "    border-color: transparent;\n",
              "    border-bottom-color: var(--fill-color);\n",
              "    animation:\n",
              "      spin 1s steps(1) infinite;\n",
              "  }\n",
              "\n",
              "  @keyframes spin {\n",
              "    0% {\n",
              "      border-color: transparent;\n",
              "      border-bottom-color: var(--fill-color);\n",
              "      border-left-color: var(--fill-color);\n",
              "    }\n",
              "    20% {\n",
              "      border-color: transparent;\n",
              "      border-left-color: var(--fill-color);\n",
              "      border-top-color: var(--fill-color);\n",
              "    }\n",
              "    30% {\n",
              "      border-color: transparent;\n",
              "      border-left-color: var(--fill-color);\n",
              "      border-top-color: var(--fill-color);\n",
              "      border-right-color: var(--fill-color);\n",
              "    }\n",
              "    40% {\n",
              "      border-color: transparent;\n",
              "      border-right-color: var(--fill-color);\n",
              "      border-top-color: var(--fill-color);\n",
              "    }\n",
              "    60% {\n",
              "      border-color: transparent;\n",
              "      border-right-color: var(--fill-color);\n",
              "    }\n",
              "    80% {\n",
              "      border-color: transparent;\n",
              "      border-right-color: var(--fill-color);\n",
              "      border-bottom-color: var(--fill-color);\n",
              "    }\n",
              "    90% {\n",
              "      border-color: transparent;\n",
              "      border-bottom-color: var(--fill-color);\n",
              "    }\n",
              "  }\n",
              "</style>\n",
              "\n",
              "      <script>\n",
              "        async function quickchart(key) {\n",
              "          const quickchartButtonEl =\n",
              "            document.querySelector('#' + key + ' button');\n",
              "          quickchartButtonEl.disabled = true;  // To prevent multiple clicks.\n",
              "          quickchartButtonEl.classList.add('colab-df-spinner');\n",
              "          try {\n",
              "            const charts = await google.colab.kernel.invokeFunction(\n",
              "                'suggestCharts', [key], {});\n",
              "          } catch (error) {\n",
              "            console.error('Error during call to suggestCharts:', error);\n",
              "          }\n",
              "          quickchartButtonEl.classList.remove('colab-df-spinner');\n",
              "          quickchartButtonEl.classList.add('colab-df-quickchart-complete');\n",
              "        }\n",
              "        (() => {\n",
              "          let quickchartButtonEl =\n",
              "            document.querySelector('#df-a703798f-a9c0-4f39-949f-5ddc93893cfa button');\n",
              "          quickchartButtonEl.style.display =\n",
              "            google.colab.kernel.accessAllowed ? 'block' : 'none';\n",
              "        })();\n",
              "      </script>\n",
              "    </div>\n",
              "\n",
              "    </div>\n",
              "  </div>\n"
            ],
            "text/plain": [
              "  ligando   min_sim  mean_sim\n",
              "0     BGP  0.813222  0.880186\n",
              "1     2Q2  0.926891  0.926891\n",
              "2     3VV  0.092402  0.287425\n",
              "3     AVI  0.660516  0.872269\n",
              "4     CUR  0.298726  0.481452"
            ]
          },
          "execution_count": 7,
          "metadata": {},
          "output_type": "execute_result"
        }
      ],
      "source": [
        "df_resumen.head()"
      ]
    },
    {
      "cell_type": "code",
      "execution_count": null,
      "metadata": {
        "colab": {
          "base_uri": "https://localhost:8080/"
        },
        "id": "YIXkVQ4pFf_R",
        "outputId": "21977138-b985-4ab0-889b-e8924a334b40"
      },
      "outputs": [
        {
          "data": {
            "text/plain": [
              "2871"
            ]
          },
          "execution_count": 28,
          "metadata": {},
          "output_type": "execute_result"
        }
      ],
      "source": [
        "df_resumen.shape[0]"
      ]
    },
    {
      "cell_type": "code",
      "execution_count": null,
      "metadata": {
        "id": "5q1aGS8dybb0"
      },
      "outputs": [],
      "source": [
        "import pandas as pd\n",
        "\n",
        "df_resumen = pd.read_csv(\"/content/drive/MyDrive/TFM/T2/Ultrafast_Shape_Recognition/similitud_resumen_df_solo_instancias.csv\",sep = ',')"
      ]
    },
    {
      "cell_type": "code",
      "execution_count": null,
      "metadata": {
        "colab": {
          "base_uri": "https://localhost:8080/"
        },
        "id": "MZyxxlrX0tiM",
        "outputId": "1f60ecaf-530a-4115-92cd-3c310f681e3a"
      },
      "outputs": [
        {
          "data": {
            "text/plain": [
              "2871"
            ]
          },
          "execution_count": 32,
          "metadata": {},
          "output_type": "execute_result"
        }
      ],
      "source": [
        "df_resumen.shape[0]"
      ]
    },
    {
      "cell_type": "code",
      "execution_count": null,
      "metadata": {
        "colab": {
          "base_uri": "https://localhost:8080/",
          "height": 1000
        },
        "id": "TWNqVZE2MIJC",
        "outputId": "4b009319-797b-46dd-b120-3f46e63a736d"
      },
      "outputs": [
        {
          "data": {
            "image/png": "[encoded data removed]",
            "text/plain": [
              "<Figure size 1200x600 with 1 Axes>"
            ]
          },
          "metadata": {},
          "output_type": "display_data"
        },
        {
          "data": {
            "image/png": "[encoded data removed]",
            "text/plain": [
              "<Figure size 800x400 with 1 Axes>"
            ]
          },
          "metadata": {},
          "output_type": "display_data"
        },
        {
          "data": {
            "image/png": "[encoded data removed]",
            "text/plain": [
              "<Figure size 800x400 with 1 Axes>"
            ]
          },
          "metadata": {},
          "output_type": "display_data"
        }
      ],
      "source": [
        "#@title Realizar histogramas del conjunto total\n",
        "\n",
        "import pandas as pd\n",
        "import matplotlib.pyplot as plt\n",
        "\n",
        "# Histograma conjunto\n",
        "plt.figure(figsize=(12, 6))\n",
        "plt.hist(df_resumen['min_sim'], bins=50, alpha=0.6, label='min_sim')\n",
        "plt.hist(df_resumen['mean_sim'], bins=50, alpha=0.6, label='mean_sim')\n",
        "plt.xlabel('Similarity Value')\n",
        "plt.ylabel('Frequency')\n",
        "plt.title('Histograma conjunto de min_sim y mean_sim (ligandos agrupación mismo ligando)')\n",
        "plt.legend()\n",
        "plt.grid(True)\n",
        "plt.show()\n",
        "\n",
        "# Histograma individual para min_sim\n",
        "plt.figure(figsize=(8, 4))\n",
        "plt.hist(df_resumen['min_sim'], bins=50, color='skyblue')\n",
        "plt.xlabel('min_sim')\n",
        "plt.ylabel('Frequency')\n",
        "plt.title('Histograma de min_sim (ligandos agrupación mismo ligando)')\n",
        "plt.grid(True)\n",
        "plt.show()\n",
        "\n",
        "# Histograma individual para mean_sim\n",
        "plt.figure(figsize=(8, 4))\n",
        "plt.hist(df_resumen['mean_sim'], bins=50, color='salmon')\n",
        "plt.xlabel('mean_sim')\n",
        "plt.ylabel('Frequency')\n",
        "plt.title('Histograma de mean_sim (ligandos agrupación mismo ligando)')\n",
        "plt.grid(True)\n",
        "plt.show()\n"
      ]
    },
    {
      "cell_type": "code",
      "execution_count": null,
      "metadata": {
        "colab": {
          "base_uri": "https://localhost:8080/",
          "height": 472
        },
        "id": "ocxug05aacz5",
        "outputId": "c4139f56-75f3-4772-f4f2-27cf3254e9c5"
      },
      "outputs": [
        {
          "data": {
            "image/png": "[encoded data removed]",
            "text/plain": [
              "<Figure size 640x480 with 1 Axes>"
            ]
          },
          "metadata": {},
          "output_type": "display_data"
        }
      ],
      "source": [
        "#@title Histograma del total\n",
        "\n",
        "import os\n",
        "import matplotlib.pyplot as plt\n",
        "import pandas as pd\n",
        "\n",
        "similitudes_totales = []\n",
        "\n",
        "carpeta_csv = \"/content/drive/MyDrive/TFM/T2/Ultrafast_Shape_Recognition/Similarity_Matrices_solo_instancias\"\n",
        "\n",
        "lista_instancias_norm = [x.strip().lower() for x in lista_instancias]\n",
        "\n",
        "for archivo in os.listdir(carpeta_csv):\n",
        "    if archivo.endswith(\".csv\"):\n",
        "        df = pd.read_csv(os.path.join(carpeta_csv, archivo))\n",
        "\n",
        "        if 'conformation' in df.columns:\n",
        "            df.index = df['conformation']\n",
        "            df = df.drop(columns=['conformation'])\n",
        "\n",
        "        df.index = df.index.str.replace('_ligando.pdb', '', regex=False).str.strip().str.lower()\n",
        "        df.columns = df.columns.str.replace('_ligando.pdb', '', regex=False).str.strip().str.lower()\n",
        "\n",
        "        # 3. Seleccionar solo filas y columnas que están en lista_instancias\n",
        "        instancias_validas = [x for x in df.index if x in lista_instancias_norm]\n",
        "        df_filtrado = df.loc[instancias_validas, instancias_validas]\n",
        "\n",
        "        if df_filtrado.empty:\n",
        "            print(f\"No hay datos válidos en {archivo} después del filtrado.\")\n",
        "            continue\n",
        "\n",
        "        for i in range(df_filtrado.shape[0]):\n",
        "            for j in range(i + 1, df_filtrado.shape[1]):\n",
        "                similitudes_totales.append(df_filtrado.iloc[i, j])\n",
        "\n",
        "# Crear el histograma\n",
        "plt.hist(similitudes_totales, bins=50, range=(0, 1), edgecolor='black')\n",
        "plt.title('Histograma de Similitudes (Todos los archivos)')\n",
        "plt.xlabel('Similitudes')\n",
        "plt.ylabel('Frecuencia')\n",
        "plt.show()\n",
        "\n"
      ]
    }
  ],
  "metadata": {
    "colab": {
      "provenance": []
    },
    "kernelspec": {
      "display_name": "Python 3",
      "name": "python3"
    },
    "language_info": {
      "name": "python"
    }
  },
  "nbformat": 4,
  "nbformat_minor": 0
}
