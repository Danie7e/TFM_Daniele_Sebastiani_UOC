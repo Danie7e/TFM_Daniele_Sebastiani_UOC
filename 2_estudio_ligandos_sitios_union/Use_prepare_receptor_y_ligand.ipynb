{
  "nbformat": 4,
  "nbformat_minor": 0,
  "metadata": {
    "colab": {
      "provenance": []
    },
    "kernelspec": {
      "name": "python3",
      "display_name": "Python 3"
    },
    "language_info": {
      "name": "python"
    }
  },
  "cells": [
    {
      "cell_type": "code",
      "execution_count": null,
      "metadata": {
        "id": "E6QF6qgVfAcy",
        "colab": {
          "base_uri": "https://localhost:8080/"
        },
        "outputId": "7f0e10bc-8f8f-4a3a-b688-fb2b3edfab6e"
      },
      "outputs": [
        {
          "output_type": "stream",
          "name": "stdout",
          "text": [
            "Mounted at /content/drive\n"
          ]
        }
      ],
      "source": [
        "from google.colab import drive\n",
        "drive.mount('/content/drive')"
      ]
    },
    {
      "cell_type": "code",
      "source": [
        "!git clone https://github.com/jaimergp/autodocktools-prepare-py3k.git\n"
      ],
      "metadata": {
        "colab": {
          "base_uri": "https://localhost:8080/"
        },
        "id": "jSFDfcnpfcTe",
        "outputId": "2cd3389e-26b4-4c6e-9c80-885170cbb2d1"
      },
      "execution_count": null,
      "outputs": [
        {
          "output_type": "stream",
          "name": "stdout",
          "text": [
            "Cloning into 'autodocktools-prepare-py3k'...\n",
            "remote: Enumerating objects: 468, done.\u001b[K\n",
            "remote: Total 468 (delta 0), reused 0 (delta 0), pack-reused 468 (from 1)\u001b[K\n",
            "Receiving objects: 100% (468/468), 1.45 MiB | 7.24 MiB/s, done.\n",
            "Resolving deltas: 100% (64/64), done.\n"
          ]
        }
      ]
    },
    {
      "cell_type": "code",
      "source": [
        "import os\n",
        "import subprocess\n",
        "\n",
        "#-------------------------------- RUTAS -----------------------------------------------#\n",
        "DRIVE_ROOT          = \"/content/drive/MyDrive/TFM/T2/TOT_ligandos_sitios/TOTAL/TOTAL_PDB\"\n",
        "REPO_ROOT           = \"/content/autodocktools-prepare-py3k\"\n",
        "ligand_list_file    = os.path.join(DRIVE_ROOT, \"lista_ligandos.txt\")\n",
        "INPUT_DIR           = os.path.join(DRIVE_ROOT, \"ligandos_pdb\")\n",
        "OUTPUT_DIR          = os.path.join(DRIVE_ROOT, \"ligandos_pdbqt\")\n",
        "SCRIPT              = os.path.join(REPO_ROOT,\n",
        "                                   \"AutoDockTools/Utilities24/prepare_ligand4.py\")\n",
        "#--------------------------------------------#\n",
        "\n",
        "os.makedirs(OUTPUT_DIR, exist_ok=True)\n",
        "\n",
        "env = os.environ.copy()\n",
        "env[\"PYTHONPATH\"] = REPO_ROOT\n",
        "\n",
        "with open(ligand_list_file, 'r') as f:\n",
        "    for line in f:\n",
        "        name = line.strip()\n",
        "        if not name:\n",
        "            continue\n",
        "\n",
        "        if not name.lower().endswith(\".pdb\"):\n",
        "            name += \".pdb\"\n",
        "        base = os.path.splitext(name)[0]\n",
        "        out_path = os.path.join(OUTPUT_DIR, f\"{base}.pdbqt\")\n",
        "\n",
        "\n",
        "        if os.path.exists(out_path):\n",
        "            #print(f\"{base}.pdbqt ya existe, se omite.\")\n",
        "            continue\n",
        "\n",
        "        print(f\"Convirtiendo {name} y añadiendo hidrógenos…\")\n",
        "        cmd = [\n",
        "            \"python3\", SCRIPT,\n",
        "            \"-l\", name,\n",
        "            \"-A\", \"hydrogens\",\n",
        "            \"-o\", out_path\n",
        "        ]\n",
        "\n",
        "        result = subprocess.run(\n",
        "            cmd,\n",
        "            cwd=INPUT_DIR,\n",
        "            env=env,\n",
        "            capture_output=True,\n",
        "            text=True\n",
        "        )\n",
        "        if result.returncode != 0:\n",
        "            print(f\"Error en {name}:\")\n",
        "            print(result.stderr.strip() or result.stdout.strip())\n",
        "        else:\n",
        "            print(f\"{base}.pdbqt generado correctamente.\")\n"
      ],
      "metadata": {
        "id": "dOoeuhtdBWxa"
      },
      "execution_count": null,
      "outputs": []
    },
    {
      "cell_type": "code",
      "source": [
        "import os, subprocess\n",
        "\n",
        "#----- Ajusta estas rutas a tu entorno -----#\n",
        "DRIVE_ROOT    = \"/content/drive/MyDrive/TFM/T2/TOT_ligandos_sitios/TOTAL/TOTAL_PDB\"\n",
        "REPO_ROOT     = \"/content/autodocktools-prepare-py3k\"\n",
        "receptor_list = os.path.join(DRIVE_ROOT, \"lista_receptores.txt\")\n",
        "INPUT_DIR     = os.path.join(DRIVE_ROOT, \"sitios_pdb\")\n",
        "OUTPUT_DIR    = os.path.join(DRIVE_ROOT, \"sitios_pdbqt\")\n",
        "SCRIPT        = os.path.join(REPO_ROOT, \"AutoDockTools/Utilities24/prepare_receptor4.py\")\n",
        "#-------------------------------------------#\n",
        "\n",
        "os.makedirs(OUTPUT_DIR, exist_ok=True)\n",
        "\n",
        "# Prepara entorno para que Python encuentre MolKit\n",
        "env = os.environ.copy()\n",
        "env[\"PYTHONPATH\"] = REPO_ROOT\n",
        "\n",
        "with open(receptor_list) as f:\n",
        "    for line in f:\n",
        "        name = line.strip()\n",
        "        if not name:\n",
        "            continue\n",
        "        if not name.endswith(\".pdb\"):\n",
        "            name += \".pdb\"\n",
        "        base = os.path.splitext(name)[0]\n",
        "        out_path = os.path.join(OUTPUT_DIR, f\"{base}.pdbqt\")\n",
        "\n",
        "        # Si ya existe, lo omitimos\n",
        "        if os.path.exists(out_path):\n",
        "            print(f\"{base}.pdbqt ya existe, se omite.\")\n",
        "            continue\n",
        "\n",
        "        print(f\"Convirtiendo {name} y añadiendo hidrógenos…\")\n",
        "        cmd = [\n",
        "            \"python3\", SCRIPT,\n",
        "            \"-r\", name,\n",
        "            \"-A\", \"hydrogens\",\n",
        "            \"-o\", out_path\n",
        "        ]\n",
        "\n",
        "        try:\n",
        "            # Ejecuta sin check=True para no lanzar excepción\n",
        "            result = subprocess.run(\n",
        "                cmd,\n",
        "                cwd=INPUT_DIR,\n",
        "                env=env,\n",
        "                capture_output=True,\n",
        "                text=True\n",
        "            )\n",
        "        except Exception as e:\n",
        "            print(f\"Excepción al invocar el script para {name}: {e}\")\n",
        "            # Continuamos con el siguiente receptor\n",
        "            continue\n",
        "\n",
        "        if result.returncode != 0:\n",
        "            # Reportamos el error pero no detenemos el bucle\n",
        "            print(f\"Error al procesar {name}:\")\n",
        "            #print(result.stderr.strip() or result.stdout.strip())\n",
        "        else:\n",
        "            print(f\"{base}.pdbqt creado con H correctamente.\")\n"
      ],
      "metadata": {
        "id": "KJGIq4LogZxW"
      },
      "execution_count": null,
      "outputs": []
    }
  ]
}