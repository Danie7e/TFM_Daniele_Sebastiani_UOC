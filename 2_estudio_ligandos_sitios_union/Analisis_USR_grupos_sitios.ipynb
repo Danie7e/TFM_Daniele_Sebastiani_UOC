{
  "cells": [
    {
      "cell_type": "code",
      "execution_count": null,
      "metadata": {
        "colab": {
          "base_uri": "https://localhost:8080/"
        },
        "id": "KE72a3cshrFO",
        "outputId": "ddb264be-8c67-4518-b3e1-efa60923b65f"
      },
      "outputs": [
        {
          "name": "stdout",
          "output_type": "stream",
          "text": [
            "Mounted at /content/drive\n"
          ]
        }
      ],
      "source": [
        "from google.colab import drive\n",
        "drive.mount('/content/drive')"
      ]
    },
    {
      "cell_type": "code",
      "execution_count": null,
      "metadata": {
        "colab": {
          "base_uri": "https://localhost:8080/"
        },
        "collapsed": true,
        "id": "AKI5D4Dxhypb",
        "outputId": "6436be27-8734-4344-9b6f-487ce2714c85"
      },
      "outputs": [],
      "source": [
        "#@title Instalar librerías\n",
        "\n",
        "!pip install rdkit\n",
        "!pip install Biopython\n",
        "!pip install pandarallel\n",
        "!pip install py3Dmol"
      ]
    },
    {
      "cell_type": "code",
      "execution_count": null,
      "metadata": {
        "colab": {
          "base_uri": "https://localhost:8080/"
        },
        "id": "wBsoAiyvh4yq",
        "outputId": "3ecb6947-bbad-4c4d-e694-93374230ed8b"
      },
      "outputs": [
        {
          "name": "stdout",
          "output_type": "stream",
          "text": [
            "70378 Index(['level_0', 'index', 'PDB_entry_id', 'Classification', 'Organism',\n",
            "       'Uniprot_id', 'Ligand_id', 'Ligand_InChi', 'Experimental_method',\n",
            "       'Resolution', 'Adding_Classification', 'Affinity', 'Coordenadas',\n",
            "       'Ligand_smiles', 'Mol_Weight', 'n_atoms', 'Nombre', 'Classification_y',\n",
            "       'Count_general', 'Count_diff'],\n",
            "      dtype='object')\n"
          ]
        }
      ],
      "source": [
        "#@title Abrir el dataframe\n",
        "\n",
        "import os\n",
        "import pandas as pd\n",
        "\n",
        "input_folder = \"/content/drive/MyDrive/TFM/T2/Analisis_dataframe_final\"\n",
        "input_file = os.path.join(input_folder, \"df_filtro_binana_final.csv\")\n",
        "df_harm = pd.read_csv(input_file, sep = ',')\n",
        "print(df_harm.shape[0],df_harm.columns)"
      ]
    },
    {
      "cell_type": "code",
      "execution_count": null,
      "metadata": {
        "id": "wcod9R3OiCTi"
      },
      "outputs": [],
      "source": [
        "#@title comprobar output USR grupos ligandos de los sitios de unión\n",
        "\n",
        "list_output_USR_ligandos = os.listdir(\"/content/drive/MyDrive/TFM/T2/Ultrafast_Shape_Recognition/USR_sitios_de_union/Output_USR_sitios\")"
      ]
    },
    {
      "cell_type": "code",
      "execution_count": null,
      "metadata": {
        "colab": {
          "base_uri": "https://localhost:8080/"
        },
        "id": "NxnDZzPUiaVD",
        "outputId": "607fcdf3-ed9f-4281-ea69-6b758aaf47d3"
      },
      "outputs": [
        {
          "name": "stdout",
          "output_type": "stream",
          "text": [
            "2880\n"
          ]
        }
      ],
      "source": [
        "print(len(list_output_USR_ligandos))"
      ]
    },
    {
      "cell_type": "code",
      "execution_count": null,
      "metadata": {
        "colab": {
          "base_uri": "https://localhost:8080/"
        },
        "collapsed": true,
        "id": "FMmZXL0iNKj1",
        "outputId": "81170357-4d3f-4650-cc05-2f7b97f0e385"
      },
      "outputs": [],
      "source": [
        "list_output_USR_ligandos"
      ]
    },
    {
      "cell_type": "code",
      "execution_count": null,
      "metadata": {
        "id": "w__InS8_i7eC"
      },
      "outputs": [],
      "source": [
        "list_output_USR_ligandos_1 = [i.replace(\"USR_\",\"\").replace(\"_sitio.csv\",\"\") for i in list_output_USR_ligandos]"
      ]
    },
    {
      "cell_type": "code",
      "execution_count": null,
      "metadata": {
        "colab": {
          "base_uri": "https://localhost:8080/"
        },
        "collapsed": true,
        "id": "DpRS37hajMpy",
        "outputId": "619a1c41-59a5-49b5-a943-aadbbe2add8a"
      },
      "outputs": [],
      "source": [
        "list_output_USR_ligandos_1"
      ]
    },
    {
      "cell_type": "code",
      "execution_count": null,
      "metadata": {
        "colab": {
          "base_uri": "https://localhost:8080/"
        },
        "id": "OIPbegnBitM6",
        "outputId": "435fa3c7-edfc-41fe-ac11-d74f0e29bba5"
      },
      "outputs": [
        {
          "name": "stdout",
          "output_type": "stream",
          "text": [
            "2880\n"
          ]
        }
      ],
      "source": [
        "ligandos_unicos_dataframe = list(set(df_harm['Ligand_id'].tolist()))\n",
        "print(len(ligandos_unicos_dataframe))"
      ]
    },
    {
      "cell_type": "code",
      "execution_count": null,
      "metadata": {
        "colab": {
          "base_uri": "https://localhost:8080/"
        },
        "id": "5P6GCxq_icHy",
        "outputId": "13af6ea1-35c0-431c-b5be-111505415fe2"
      },
      "outputs": [
        {
          "name": "stdout",
          "output_type": "stream",
          "text": [
            "0\n"
          ]
        }
      ],
      "source": [
        "#@title identifiar faltas si hay\n",
        "\n",
        "falta_ligandos = []\n",
        "\n",
        "for ligando in ligandos_unicos_dataframe:\n",
        "  if ligando not in list_output_USR_ligandos_1:\n",
        "    falta_ligandos.append(ligando)\n",
        "\n",
        "print(len(falta_ligandos))"
      ]
    },
    {
      "cell_type": "code",
      "execution_count": null,
      "metadata": {
        "id": "FJlGSjhF0sFZ"
      },
      "outputs": [],
      "source": [
        "# Cargar el CSV\n",
        "data = pd.read_csv('/content/drive/MyDrive/TFM/T2/Ultrafast_Shape_Recognition/USR_sitios_de_union/Output_USR_sitios/USR_ZUG_sitio.csv', sep =\",\")"
      ]
    },
    {
      "cell_type": "code",
      "execution_count": null,
      "metadata": {
        "colab": {
          "base_uri": "https://localhost:8080/",
          "height": 174
        },
        "id": "gZ6QuHNt0twA",
        "outputId": "3805b0ed-8037-4009-e44f-d696b6f17532"
      },
      "outputs": [
        {
          "data": {
            "application/vnd.google.colaboratory.intrinsic+json": {
              "summary": "{\n  \"name\": \"data\",\n  \"rows\": 4,\n  \"fields\": [\n    {\n      \"column\": \"conformation\",\n      \"properties\": {\n        \"dtype\": \"string\",\n        \"num_unique_values\": 4,\n        \"samples\": [\n          \"7HGJ_ZUG_B_103_sitio.pdb\",\n          \"7HZN_ZUG_A_208_sitio.pdb\",\n          \"7H3L_ZUG_A_201_sitio.pdb\"\n        ],\n        \"semantic_type\": \"\",\n        \"description\": \"\"\n      }\n    },\n    {\n      \"column\": \"USR_1\",\n      \"properties\": {\n        \"dtype\": \"number\",\n        \"std\": 1.0342379525363914,\n        \"min\": 4.28797,\n        \"max\": 6.26156,\n        \"num_unique_values\": 4,\n        \"samples\": [\n          6.26156,\n          4.30638,\n          4.28797\n        ],\n        \"semantic_type\": \"\",\n        \"description\": \"\"\n      }\n    },\n    {\n      \"column\": \"USR_2\",\n      \"properties\": {\n        \"dtype\": \"number\",\n        \"std\": 0.30741867921994154,\n        \"min\": 1.55257,\n        \"max\": 2.15711,\n        \"num_unique_values\": 4,\n        \"samples\": [\n          2.01268,\n          1.55257,\n          1.57244\n        ],\n        \"semantic_type\": \"\",\n        \"description\": \"\"\n      }\n    },\n    {\n      \"column\": \"USR_3\",\n      \"properties\": {\n        \"dtype\": \"number\",\n        \"std\": 0.04607176241111977,\n        \"min\": 1.48271,\n        \"max\": 1.5784,\n        \"num_unique_values\": 4,\n        \"samples\": [\n          1.49474,\n          1.48271,\n          1.48332\n        ],\n        \"semantic_type\": \"\",\n        \"description\": \"\"\n      }\n    },\n    {\n      \"column\": \"USR_4\",\n      \"properties\": {\n        \"dtype\": \"number\",\n        \"std\": 1.2003840704089948,\n        \"min\": 4.45934,\n        \"max\": 6.80056,\n        \"num_unique_values\": 4,\n        \"samples\": [\n          6.80056,\n          4.47687,\n          4.45934\n        ],\n        \"semantic_type\": \"\",\n        \"description\": \"\"\n      }\n    },\n    {\n      \"column\": \"USR_5\",\n      \"properties\": {\n        \"dtype\": \"number\",\n        \"std\": 1.408277792317032,\n        \"min\": 3.29498,\n        \"max\": 6.16349,\n        \"num_unique_values\": 4,\n        \"samples\": [\n          6.16349,\n          3.29498,\n          3.3172\n        ],\n        \"semantic_type\": \"\",\n        \"description\": \"\"\n      }\n    },\n    {\n      \"column\": \"USR_6\",\n      \"properties\": {\n        \"dtype\": \"number\",\n        \"std\": 0.08029312652193,\n        \"min\": 1.45722,\n        \"max\": 1.62878,\n        \"num_unique_values\": 4,\n        \"samples\": [\n          1.54729,\n          1.46601,\n          1.45722\n        ],\n        \"semantic_type\": \"\",\n        \"description\": \"\"\n      }\n    },\n    {\n      \"column\": \"USR_7\",\n      \"properties\": {\n        \"dtype\": \"number\",\n        \"std\": 1.6229789369833687,\n        \"min\": 7.53937,\n        \"max\": 10.54089,\n        \"num_unique_values\": 4,\n        \"samples\": [\n          10.54089,\n          7.53937,\n          7.54499\n        ],\n        \"semantic_type\": \"\",\n        \"description\": \"\"\n      }\n    },\n    {\n      \"column\": \"USR_8\",\n      \"properties\": {\n        \"dtype\": \"number\",\n        \"std\": 4.07691851310521,\n        \"min\": 8.87342,\n        \"max\": 16.74374,\n        \"num_unique_values\": 4,\n        \"samples\": [\n          15.16278,\n          8.87342,\n          9.09176\n        ],\n        \"semantic_type\": \"\",\n        \"description\": \"\"\n      }\n    },\n    {\n      \"column\": \"USR_9\",\n      \"properties\": {\n        \"dtype\": \"number\",\n        \"std\": 0.06284047813047473,\n        \"min\": 1.45406,\n        \"max\": 1.5758,\n        \"num_unique_values\": 4,\n        \"samples\": [\n          1.4686,\n          1.5758,\n          1.56279\n        ],\n        \"semantic_type\": \"\",\n        \"description\": \"\"\n      }\n    },\n    {\n      \"column\": \"USR_10\",\n      \"properties\": {\n        \"dtype\": \"number\",\n        \"std\": 1.191569648782647,\n        \"min\": 7.36011,\n        \"max\": 9.47732,\n        \"num_unique_values\": 4,\n        \"samples\": [\n          9.39125,\n          7.36011,\n          7.38266\n        ],\n        \"semantic_type\": \"\",\n        \"description\": \"\"\n      }\n    },\n    {\n      \"column\": \"USR_11\",\n      \"properties\": {\n        \"dtype\": \"number\",\n        \"std\": 3.1807965776463396,\n        \"min\": 10.01929,\n        \"max\": 16.66433,\n        \"num_unique_values\": 4,\n        \"samples\": [\n          13.48251,\n          10.06989,\n          10.01929\n        ],\n        \"semantic_type\": \"\",\n        \"description\": \"\"\n      }\n    },\n    {\n      \"column\": \"USR_12\",\n      \"properties\": {\n        \"dtype\": \"number\",\n        \"std\": 0.0752584039050347,\n        \"min\": 1.36668,\n        \"max\": 1.5257,\n        \"num_unique_values\": 4,\n        \"samples\": [\n          1.51524,\n          1.50869,\n          1.5257\n        ],\n        \"semantic_type\": \"\",\n        \"description\": \"\"\n      }\n    }\n  ]\n}",
              "type": "dataframe",
              "variable_name": "data"
            },
            "text/html": [
              "\n",
              "  <div id=\"df-a67568a2-32c5-41cc-9128-c4334da5e381\" class=\"colab-df-container\">\n",
              "    <div>\n",
              "<style scoped>\n",
              "    .dataframe tbody tr th:only-of-type {\n",
              "        vertical-align: middle;\n",
              "    }\n",
              "\n",
              "    .dataframe tbody tr th {\n",
              "        vertical-align: top;\n",
              "    }\n",
              "\n",
              "    .dataframe thead th {\n",
              "        text-align: right;\n",
              "    }\n",
              "</style>\n",
              "<table border=\"1\" class=\"dataframe\">\n",
              "  <thead>\n",
              "    <tr style=\"text-align: right;\">\n",
              "      <th></th>\n",
              "      <th>conformation</th>\n",
              "      <th>USR_1</th>\n",
              "      <th>USR_2</th>\n",
              "      <th>USR_3</th>\n",
              "      <th>USR_4</th>\n",
              "      <th>USR_5</th>\n",
              "      <th>USR_6</th>\n",
              "      <th>USR_7</th>\n",
              "      <th>USR_8</th>\n",
              "      <th>USR_9</th>\n",
              "      <th>USR_10</th>\n",
              "      <th>USR_11</th>\n",
              "      <th>USR_12</th>\n",
              "    </tr>\n",
              "  </thead>\n",
              "  <tbody>\n",
              "    <tr>\n",
              "      <th>0</th>\n",
              "      <td>7H3L_ZUG_A_201_sitio.pdb</td>\n",
              "      <td>4.28797</td>\n",
              "      <td>1.57244</td>\n",
              "      <td>1.48332</td>\n",
              "      <td>4.45934</td>\n",
              "      <td>3.31720</td>\n",
              "      <td>1.45722</td>\n",
              "      <td>7.54499</td>\n",
              "      <td>9.09176</td>\n",
              "      <td>1.56279</td>\n",
              "      <td>7.38266</td>\n",
              "      <td>10.01929</td>\n",
              "      <td>1.52570</td>\n",
              "    </tr>\n",
              "    <tr>\n",
              "      <th>1</th>\n",
              "      <td>7HGJ_ZUG_B_103_sitio.pdb</td>\n",
              "      <td>6.26156</td>\n",
              "      <td>2.01268</td>\n",
              "      <td>1.49474</td>\n",
              "      <td>6.80056</td>\n",
              "      <td>6.16349</td>\n",
              "      <td>1.54729</td>\n",
              "      <td>10.54089</td>\n",
              "      <td>15.16278</td>\n",
              "      <td>1.46860</td>\n",
              "      <td>9.39125</td>\n",
              "      <td>13.48251</td>\n",
              "      <td>1.51524</td>\n",
              "    </tr>\n",
              "    <tr>\n",
              "      <th>2</th>\n",
              "      <td>7HGJ_ZUG_C_102_sitio.pdb</td>\n",
              "      <td>5.87301</td>\n",
              "      <td>2.15711</td>\n",
              "      <td>1.57840</td>\n",
              "      <td>6.20872</td>\n",
              "      <td>5.08021</td>\n",
              "      <td>1.62878</td>\n",
              "      <td>10.13646</td>\n",
              "      <td>16.74374</td>\n",
              "      <td>1.45406</td>\n",
              "      <td>9.47732</td>\n",
              "      <td>16.66433</td>\n",
              "      <td>1.36668</td>\n",
              "    </tr>\n",
              "    <tr>\n",
              "      <th>3</th>\n",
              "      <td>7HZN_ZUG_A_208_sitio.pdb</td>\n",
              "      <td>4.30638</td>\n",
              "      <td>1.55257</td>\n",
              "      <td>1.48271</td>\n",
              "      <td>4.47687</td>\n",
              "      <td>3.29498</td>\n",
              "      <td>1.46601</td>\n",
              "      <td>7.53937</td>\n",
              "      <td>8.87342</td>\n",
              "      <td>1.57580</td>\n",
              "      <td>7.36011</td>\n",
              "      <td>10.06989</td>\n",
              "      <td>1.50869</td>\n",
              "    </tr>\n",
              "  </tbody>\n",
              "</table>\n",
              "</div>\n",
              "    <div class=\"colab-df-buttons\">\n",
              "\n",
              "  <div class=\"colab-df-container\">\n",
              "    <button class=\"colab-df-convert\" onclick=\"convertToInteractive('df-a67568a2-32c5-41cc-9128-c4334da5e381')\"\n",
              "            title=\"Convert this dataframe to an interactive table.\"\n",
              "            style=\"display:none;\">\n",
              "\n",
              "  <svg xmlns=\"http://www.w3.org/2000/svg\" height=\"24px\" viewBox=\"0 -960 960 960\">\n",
              "    <path d=\"M120-120v-720h720v720H120Zm60-500h600v-160H180v160Zm220 220h160v-160H400v160Zm0 220h160v-160H400v160ZM180-400h160v-160H180v160Zm440 0h160v-160H620v160ZM180-180h160v-160H180v160Zm440 0h160v-160H620v160Z\"/>\n",
              "  </svg>\n",
              "    </button>\n",
              "\n",
              "  <style>\n",
              "    .colab-df-container {\n",
              "      display:flex;\n",
              "      gap: 12px;\n",
              "    }\n",
              "\n",
              "    .colab-df-convert {\n",
              "      background-color: #E8F0FE;\n",
              "      border: none;\n",
              "      border-radius: 50%;\n",
              "      cursor: pointer;\n",
              "      display: none;\n",
              "      fill: #1967D2;\n",
              "      height: 32px;\n",
              "      padding: 0 0 0 0;\n",
              "      width: 32px;\n",
              "    }\n",
              "\n",
              "    .colab-df-convert:hover {\n",
              "      background-color: #E2EBFA;\n",
              "      box-shadow: 0px 1px 2px rgba(60, 64, 67, 0.3), 0px 1px 3px 1px rgba(60, 64, 67, 0.15);\n",
              "      fill: #174EA6;\n",
              "    }\n",
              "\n",
              "    .colab-df-buttons div {\n",
              "      margin-bottom: 4px;\n",
              "    }\n",
              "\n",
              "    [theme=dark] .colab-df-convert {\n",
              "      background-color: #3B4455;\n",
              "      fill: #D2E3FC;\n",
              "    }\n",
              "\n",
              "    [theme=dark] .colab-df-convert:hover {\n",
              "      background-color: #434B5C;\n",
              "      box-shadow: 0px 1px 3px 1px rgba(0, 0, 0, 0.15);\n",
              "      filter: drop-shadow(0px 1px 2px rgba(0, 0, 0, 0.3));\n",
              "      fill: #FFFFFF;\n",
              "    }\n",
              "  </style>\n",
              "\n",
              "    <script>\n",
              "      const buttonEl =\n",
              "        document.querySelector('#df-a67568a2-32c5-41cc-9128-c4334da5e381 button.colab-df-convert');\n",
              "      buttonEl.style.display =\n",
              "        google.colab.kernel.accessAllowed ? 'block' : 'none';\n",
              "\n",
              "      async function convertToInteractive(key) {\n",
              "        const element = document.querySelector('#df-a67568a2-32c5-41cc-9128-c4334da5e381');\n",
              "        const dataTable =\n",
              "          await google.colab.kernel.invokeFunction('convertToInteractive',\n",
              "                                                    [key], {});\n",
              "        if (!dataTable) return;\n",
              "\n",
              "        const docLinkHtml = 'Like what you see? Visit the ' +\n",
              "          '<a target=\"_blank\" href=https://colab.research.google.com/notebooks/data_table.ipynb>data table notebook</a>'\n",
              "          + ' to learn more about interactive tables.';\n",
              "        element.innerHTML = '';\n",
              "        dataTable['output_type'] = 'display_data';\n",
              "        await google.colab.output.renderOutput(dataTable, element);\n",
              "        const docLink = document.createElement('div');\n",
              "        docLink.innerHTML = docLinkHtml;\n",
              "        element.appendChild(docLink);\n",
              "      }\n",
              "    </script>\n",
              "  </div>\n",
              "\n",
              "\n",
              "    <div id=\"df-9b38718e-e60f-4719-a5c4-bbc368fc88ff\">\n",
              "      <button class=\"colab-df-quickchart\" onclick=\"quickchart('df-9b38718e-e60f-4719-a5c4-bbc368fc88ff')\"\n",
              "                title=\"Suggest charts\"\n",
              "                style=\"display:none;\">\n",
              "\n",
              "<svg xmlns=\"http://www.w3.org/2000/svg\" height=\"24px\"viewBox=\"0 0 24 24\"\n",
              "     width=\"24px\">\n",
              "    <g>\n",
              "        <path d=\"M19 3H5c-1.1 0-2 .9-2 2v14c0 1.1.9 2 2 2h14c1.1 0 2-.9 2-2V5c0-1.1-.9-2-2-2zM9 17H7v-7h2v7zm4 0h-2V7h2v10zm4 0h-2v-4h2v4z\"/>\n",
              "    </g>\n",
              "</svg>\n",
              "      </button>\n",
              "\n",
              "<style>\n",
              "  .colab-df-quickchart {\n",
              "      --bg-color: #E8F0FE;\n",
              "      --fill-color: #1967D2;\n",
              "      --hover-bg-color: #E2EBFA;\n",
              "      --hover-fill-color: #174EA6;\n",
              "      --disabled-fill-color: #AAA;\n",
              "      --disabled-bg-color: #DDD;\n",
              "  }\n",
              "\n",
              "  [theme=dark] .colab-df-quickchart {\n",
              "      --bg-color: #3B4455;\n",
              "      --fill-color: #D2E3FC;\n",
              "      --hover-bg-color: #434B5C;\n",
              "      --hover-fill-color: #FFFFFF;\n",
              "      --disabled-bg-color: #3B4455;\n",
              "      --disabled-fill-color: #666;\n",
              "  }\n",
              "\n",
              "  .colab-df-quickchart {\n",
              "    background-color: var(--bg-color);\n",
              "    border: none;\n",
              "    border-radius: 50%;\n",
              "    cursor: pointer;\n",
              "    display: none;\n",
              "    fill: var(--fill-color);\n",
              "    height: 32px;\n",
              "    padding: 0;\n",
              "    width: 32px;\n",
              "  }\n",
              "\n",
              "  .colab-df-quickchart:hover {\n",
              "    background-color: var(--hover-bg-color);\n",
              "    box-shadow: 0 1px 2px rgba(60, 64, 67, 0.3), 0 1px 3px 1px rgba(60, 64, 67, 0.15);\n",
              "    fill: var(--button-hover-fill-color);\n",
              "  }\n",
              "\n",
              "  .colab-df-quickchart-complete:disabled,\n",
              "  .colab-df-quickchart-complete:disabled:hover {\n",
              "    background-color: var(--disabled-bg-color);\n",
              "    fill: var(--disabled-fill-color);\n",
              "    box-shadow: none;\n",
              "  }\n",
              "\n",
              "  .colab-df-spinner {\n",
              "    border: 2px solid var(--fill-color);\n",
              "    border-color: transparent;\n",
              "    border-bottom-color: var(--fill-color);\n",
              "    animation:\n",
              "      spin 1s steps(1) infinite;\n",
              "  }\n",
              "\n",
              "  @keyframes spin {\n",
              "    0% {\n",
              "      border-color: transparent;\n",
              "      border-bottom-color: var(--fill-color);\n",
              "      border-left-color: var(--fill-color);\n",
              "    }\n",
              "    20% {\n",
              "      border-color: transparent;\n",
              "      border-left-color: var(--fill-color);\n",
              "      border-top-color: var(--fill-color);\n",
              "    }\n",
              "    30% {\n",
              "      border-color: transparent;\n",
              "      border-left-color: var(--fill-color);\n",
              "      border-top-color: var(--fill-color);\n",
              "      border-right-color: var(--fill-color);\n",
              "    }\n",
              "    40% {\n",
              "      border-color: transparent;\n",
              "      border-right-color: var(--fill-color);\n",
              "      border-top-color: var(--fill-color);\n",
              "    }\n",
              "    60% {\n",
              "      border-color: transparent;\n",
              "      border-right-color: var(--fill-color);\n",
              "    }\n",
              "    80% {\n",
              "      border-color: transparent;\n",
              "      border-right-color: var(--fill-color);\n",
              "      border-bottom-color: var(--fill-color);\n",
              "    }\n",
              "    90% {\n",
              "      border-color: transparent;\n",
              "      border-bottom-color: var(--fill-color);\n",
              "    }\n",
              "  }\n",
              "</style>\n",
              "\n",
              "      <script>\n",
              "        async function quickchart(key) {\n",
              "          const quickchartButtonEl =\n",
              "            document.querySelector('#' + key + ' button');\n",
              "          quickchartButtonEl.disabled = true;  // To prevent multiple clicks.\n",
              "          quickchartButtonEl.classList.add('colab-df-spinner');\n",
              "          try {\n",
              "            const charts = await google.colab.kernel.invokeFunction(\n",
              "                'suggestCharts', [key], {});\n",
              "          } catch (error) {\n",
              "            console.error('Error during call to suggestCharts:', error);\n",
              "          }\n",
              "          quickchartButtonEl.classList.remove('colab-df-spinner');\n",
              "          quickchartButtonEl.classList.add('colab-df-quickchart-complete');\n",
              "        }\n",
              "        (() => {\n",
              "          let quickchartButtonEl =\n",
              "            document.querySelector('#df-9b38718e-e60f-4719-a5c4-bbc368fc88ff button');\n",
              "          quickchartButtonEl.style.display =\n",
              "            google.colab.kernel.accessAllowed ? 'block' : 'none';\n",
              "        })();\n",
              "      </script>\n",
              "    </div>\n",
              "\n",
              "  <div id=\"id_dd125cbc-b00d-433c-83f5-7d79574fa7c3\">\n",
              "    <style>\n",
              "      .colab-df-generate {\n",
              "        background-color: #E8F0FE;\n",
              "        border: none;\n",
              "        border-radius: 50%;\n",
              "        cursor: pointer;\n",
              "        display: none;\n",
              "        fill: #1967D2;\n",
              "        height: 32px;\n",
              "        padding: 0 0 0 0;\n",
              "        width: 32px;\n",
              "      }\n",
              "\n",
              "      .colab-df-generate:hover {\n",
              "        background-color: #E2EBFA;\n",
              "        box-shadow: 0px 1px 2px rgba(60, 64, 67, 0.3), 0px 1px 3px 1px rgba(60, 64, 67, 0.15);\n",
              "        fill: #174EA6;\n",
              "      }\n",
              "\n",
              "      [theme=dark] .colab-df-generate {\n",
              "        background-color: #3B4455;\n",
              "        fill: #D2E3FC;\n",
              "      }\n",
              "\n",
              "      [theme=dark] .colab-df-generate:hover {\n",
              "        background-color: #434B5C;\n",
              "        box-shadow: 0px 1px 3px 1px rgba(0, 0, 0, 0.15);\n",
              "        filter: drop-shadow(0px 1px 2px rgba(0, 0, 0, 0.3));\n",
              "        fill: #FFFFFF;\n",
              "      }\n",
              "    </style>\n",
              "    <button class=\"colab-df-generate\" onclick=\"generateWithVariable('data')\"\n",
              "            title=\"Generate code using this dataframe.\"\n",
              "            style=\"display:none;\">\n",
              "\n",
              "  <svg xmlns=\"http://www.w3.org/2000/svg\" height=\"24px\"viewBox=\"0 0 24 24\"\n",
              "       width=\"24px\">\n",
              "    <path d=\"M7,19H8.4L18.45,9,17,7.55,7,17.6ZM5,21V16.75L18.45,3.32a2,2,0,0,1,2.83,0l1.4,1.43a1.91,1.91,0,0,1,.58,1.4,1.91,1.91,0,0,1-.58,1.4L9.25,21ZM18.45,9,17,7.55Zm-12,3A5.31,5.31,0,0,0,4.9,8.1,5.31,5.31,0,0,0,1,6.5,5.31,5.31,0,0,0,4.9,4.9,5.31,5.31,0,0,0,6.5,1,5.31,5.31,0,0,0,8.1,4.9,5.31,5.31,0,0,0,12,6.5,5.46,5.46,0,0,0,6.5,12Z\"/>\n",
              "  </svg>\n",
              "    </button>\n",
              "    <script>\n",
              "      (() => {\n",
              "      const buttonEl =\n",
              "        document.querySelector('#id_dd125cbc-b00d-433c-83f5-7d79574fa7c3 button.colab-df-generate');\n",
              "      buttonEl.style.display =\n",
              "        google.colab.kernel.accessAllowed ? 'block' : 'none';\n",
              "\n",
              "      buttonEl.onclick = () => {\n",
              "        google.colab.notebook.generateWithVariable('data');\n",
              "      }\n",
              "      })();\n",
              "    </script>\n",
              "  </div>\n",
              "\n",
              "    </div>\n",
              "  </div>\n"
            ],
            "text/plain": [
              "               conformation    USR_1    USR_2    USR_3    USR_4    USR_5  \\\n",
              "0  7H3L_ZUG_A_201_sitio.pdb  4.28797  1.57244  1.48332  4.45934  3.31720   \n",
              "1  7HGJ_ZUG_B_103_sitio.pdb  6.26156  2.01268  1.49474  6.80056  6.16349   \n",
              "2  7HGJ_ZUG_C_102_sitio.pdb  5.87301  2.15711  1.57840  6.20872  5.08021   \n",
              "3  7HZN_ZUG_A_208_sitio.pdb  4.30638  1.55257  1.48271  4.47687  3.29498   \n",
              "\n",
              "     USR_6     USR_7     USR_8    USR_9   USR_10    USR_11   USR_12  \n",
              "0  1.45722   7.54499   9.09176  1.56279  7.38266  10.01929  1.52570  \n",
              "1  1.54729  10.54089  15.16278  1.46860  9.39125  13.48251  1.51524  \n",
              "2  1.62878  10.13646  16.74374  1.45406  9.47732  16.66433  1.36668  \n",
              "3  1.46601   7.53937   8.87342  1.57580  7.36011  10.06989  1.50869  "
            ]
          },
          "execution_count": 15,
          "metadata": {},
          "output_type": "execute_result"
        }
      ],
      "source": [
        "data"
      ]
    },
    {
      "cell_type": "code",
      "execution_count": null,
      "metadata": {
        "colab": {
          "base_uri": "https://localhost:8080/"
        },
        "collapsed": true,
        "id": "IM1Ztc4Q9c8I",
        "outputId": "14cf5e7a-b712-4c6d-de5d-11274f34315f"
      },
      "outputs": [],
      "source": [
        "#@title Función matrix de similitud\n",
        "\n",
        "import os\n",
        "import pandas as pd\n",
        "import numpy as np\n",
        "\n",
        "input_folder = \"/content/drive/MyDrive/TFM/T2/Ultrafast_Shape_Recognition/USR_sitios_de_union/Output_USR_sitios\"\n",
        "output_folder = \"/content/drive/MyDrive/TFM/T2/Ultrafast_Shape_Recognition/USR_sitios_de_union/Similarity_Matrices\"\n",
        "\n",
        "# Crear carpeta de salida si no existe\n",
        "os.makedirs(output_folder, exist_ok=True)\n",
        "\n",
        "for archivo in os.listdir(input_folder):\n",
        "    archivo_file = os.path.join(input_folder, archivo)\n",
        "    data = pd.read_csv(archivo_file, sep=\",\")\n",
        "\n",
        "    nombre_ligando = archivo.replace(\"USR_\",\"\").replace(\"_sitio.csv\",\"\")\n",
        "\n",
        "    descriptor_cols = [col for col in data.columns if col.startswith('USR_')]\n",
        "\n",
        "    # Función de similitud USR\n",
        "    def usr_similarity(vec1, vec2):\n",
        "        return 1 / (1 + (np.sum(np.abs(vec1 - vec2)) / len(vec1)))\n",
        "\n",
        "    # Calcular la matriz de similitud para todas las conformaciones\n",
        "    descriptors = data[descriptor_cols].values\n",
        "    n = descriptors.shape[0]\n",
        "    sim_matrix = np.zeros((n, n))\n",
        "\n",
        "    for i in range(n):\n",
        "        for j in range(i, n):\n",
        "            sim = usr_similarity(descriptors[i], descriptors[j])\n",
        "            sim_matrix[i, j] = sim\n",
        "            sim_matrix[j, i] = sim  # simétrica\n",
        "\n",
        "    # Guardar la matriz como CSV\n",
        "    sim_df = pd.DataFrame(sim_matrix, index=data['conformation'], columns=data['conformation'])\n",
        "\n",
        "    output_file = os.path.join(output_folder, f\"sim_matrix_{nombre_ligando}.csv\")\n",
        "    sim_df.to_csv(output_file)\n",
        "\n",
        "    print(f\"Guardada matriz de similitud: {output_file}\")\n",
        "\n",
        "\n",
        "\n",
        "\n",
        "\n",
        "\n",
        "\n"
      ]
    },
    {
      "cell_type": "code",
      "execution_count": null,
      "metadata": {
        "colab": {
          "base_uri": "https://localhost:8080/"
        },
        "id": "JMCckrIcBs2D",
        "outputId": "87489eab-21f1-471a-badc-677c3c08375f"
      },
      "outputs": [
        {
          "name": "stdout",
          "output_type": "stream",
          "text": [
            "Resumen guardado en: /content/drive/MyDrive/TFM/T2/Ultrafast_Shape_Recognition/USR_sitios_de_union/similitud_resumen_sitios.csv\n"
          ]
        }
      ],
      "source": [
        "import os\n",
        "import pandas as pd\n",
        "import numpy as np\n",
        "\n",
        "input_folder = \"/content/drive/MyDrive/TFM/T2/Ultrafast_Shape_Recognition/USR_sitios_de_union/Similarity_Matrices\"\n",
        "resultados = []\n",
        "\n",
        "for archivo in os.listdir(input_folder):\n",
        "    if archivo.endswith(\".csv\"):\n",
        "        archivo_file = os.path.join(input_folder, archivo)\n",
        "        df = pd.read_csv(archivo_file, index_col=0)\n",
        "\n",
        "        sim_matrix = df.values\n",
        "\n",
        "        if sim_matrix.shape[0] > 1:\n",
        "            off_diag = sim_matrix[~np.eye(sim_matrix.shape[0], dtype=bool)]\n",
        "            min_sim = np.min(off_diag)\n",
        "            mean_sim = np.mean(off_diag)\n",
        "        else:\n",
        "            min_sim = 1.0\n",
        "            mean_sim = 1.0\n",
        "\n",
        "        resultados.append({\n",
        "            'ligando': archivo.replace(\"sim_matrix_\", \"\"),\n",
        "            'min_sim': min_sim,\n",
        "            'mean_sim': mean_sim\n",
        "        })\n",
        "\n",
        "# Crear DataFrame resumen\n",
        "resultados_df = pd.DataFrame(resultados)\n",
        "\n",
        "# Guardar en CSV\n",
        "output_file = \"/content/drive/MyDrive/TFM/T2/Ultrafast_Shape_Recognition/USR_sitios_de_union/similitud_resumen_sitios.csv\"\n",
        "resultados_df.to_csv(output_file, index=False)\n",
        "\n",
        "print(f\"Resumen guardado en: {output_file}\")\n"
      ]
    },
    {
      "cell_type": "code",
      "execution_count": null,
      "metadata": {
        "id": "PWRnWwD4FBIw"
      },
      "outputs": [],
      "source": [
        "df_resumen = pd.read_csv(\"/content/drive/MyDrive/TFM/T2/Ultrafast_Shape_Recognition/USR_sitios_de_union/similitud_resumen_sitios.csv\",sep = ',')"
      ]
    },
    {
      "cell_type": "code",
      "execution_count": null,
      "metadata": {
        "id": "CvNEpKvfFIB2"
      },
      "outputs": [],
      "source": [
        "df_resumen['ligando'] = df_resumen['ligando'].str.replace('.csv', '', regex=False)"
      ]
    },
    {
      "cell_type": "code",
      "execution_count": null,
      "metadata": {
        "colab": {
          "base_uri": "https://localhost:8080/",
          "height": 206
        },
        "id": "zF9t2uccFTRP",
        "outputId": "689a767d-d6eb-4081-e10f-8c1ea3bef2cf"
      },
      "outputs": [
        {
          "data": {
            "application/vnd.google.colaboratory.intrinsic+json": {
              "summary": "{\n  \"name\": \"df_resumen\",\n  \"rows\": 2880,\n  \"fields\": [\n    {\n      \"column\": \"ligando\",\n      \"properties\": {\n        \"dtype\": \"string\",\n        \"num_unique_values\": 2880,\n        \"samples\": [\n          \"QKZ\",\n          \"TAG\",\n          \"DMG\"\n        ],\n        \"semantic_type\": \"\",\n        \"description\": \"\"\n      }\n    },\n    {\n      \"column\": \"min_sim\",\n      \"properties\": {\n        \"dtype\": \"number\",\n        \"std\": 0.15164471789290193,\n        \"min\": 0.0204470742562594,\n        \"max\": 1.0,\n        \"num_unique_values\": 2879,\n        \"samples\": [\n          0.4793925138065044,\n          0.4332133091792846,\n          0.242351145402003\n        ],\n        \"semantic_type\": \"\",\n        \"description\": \"\"\n      }\n    },\n    {\n      \"column\": \"mean_sim\",\n      \"properties\": {\n        \"dtype\": \"number\",\n        \"std\": 0.12808836967235102,\n        \"min\": 0.08665757195449,\n        \"max\": 1.0,\n        \"num_unique_values\": 2879,\n        \"samples\": [\n          0.4793925138065044,\n          0.5269258949903443,\n          0.4788797126629016\n        ],\n        \"semantic_type\": \"\",\n        \"description\": \"\"\n      }\n    }\n  ]\n}",
              "type": "dataframe",
              "variable_name": "df_resumen"
            },
            "text/html": [
              "\n",
              "  <div id=\"df-d1ca1d03-87a0-4ff4-bf5d-59efe308e969\" class=\"colab-df-container\">\n",
              "    <div>\n",
              "<style scoped>\n",
              "    .dataframe tbody tr th:only-of-type {\n",
              "        vertical-align: middle;\n",
              "    }\n",
              "\n",
              "    .dataframe tbody tr th {\n",
              "        vertical-align: top;\n",
              "    }\n",
              "\n",
              "    .dataframe thead th {\n",
              "        text-align: right;\n",
              "    }\n",
              "</style>\n",
              "<table border=\"1\" class=\"dataframe\">\n",
              "  <thead>\n",
              "    <tr style=\"text-align: right;\">\n",
              "      <th></th>\n",
              "      <th>ligando</th>\n",
              "      <th>min_sim</th>\n",
              "      <th>mean_sim</th>\n",
              "    </tr>\n",
              "  </thead>\n",
              "  <tbody>\n",
              "    <tr>\n",
              "      <th>0</th>\n",
              "      <td>L46</td>\n",
              "      <td>0.256704</td>\n",
              "      <td>0.256704</td>\n",
              "    </tr>\n",
              "    <tr>\n",
              "      <th>1</th>\n",
              "      <td>SAC</td>\n",
              "      <td>0.240576</td>\n",
              "      <td>0.376354</td>\n",
              "    </tr>\n",
              "    <tr>\n",
              "      <th>2</th>\n",
              "      <td>DA2</td>\n",
              "      <td>0.469981</td>\n",
              "      <td>0.529869</td>\n",
              "    </tr>\n",
              "    <tr>\n",
              "      <th>3</th>\n",
              "      <td>28E</td>\n",
              "      <td>0.171179</td>\n",
              "      <td>0.443484</td>\n",
              "    </tr>\n",
              "    <tr>\n",
              "      <th>4</th>\n",
              "      <td>22L</td>\n",
              "      <td>0.202518</td>\n",
              "      <td>0.393649</td>\n",
              "    </tr>\n",
              "  </tbody>\n",
              "</table>\n",
              "</div>\n",
              "    <div class=\"colab-df-buttons\">\n",
              "\n",
              "  <div class=\"colab-df-container\">\n",
              "    <button class=\"colab-df-convert\" onclick=\"convertToInteractive('df-d1ca1d03-87a0-4ff4-bf5d-59efe308e969')\"\n",
              "            title=\"Convert this dataframe to an interactive table.\"\n",
              "            style=\"display:none;\">\n",
              "\n",
              "  <svg xmlns=\"http://www.w3.org/2000/svg\" height=\"24px\" viewBox=\"0 -960 960 960\">\n",
              "    <path d=\"M120-120v-720h720v720H120Zm60-500h600v-160H180v160Zm220 220h160v-160H400v160Zm0 220h160v-160H400v160ZM180-400h160v-160H180v160Zm440 0h160v-160H620v160ZM180-180h160v-160H180v160Zm440 0h160v-160H620v160Z\"/>\n",
              "  </svg>\n",
              "    </button>\n",
              "\n",
              "  <style>\n",
              "    .colab-df-container {\n",
              "      display:flex;\n",
              "      gap: 12px;\n",
              "    }\n",
              "\n",
              "    .colab-df-convert {\n",
              "      background-color: #E8F0FE;\n",
              "      border: none;\n",
              "      border-radius: 50%;\n",
              "      cursor: pointer;\n",
              "      display: none;\n",
              "      fill: #1967D2;\n",
              "      height: 32px;\n",
              "      padding: 0 0 0 0;\n",
              "      width: 32px;\n",
              "    }\n",
              "\n",
              "    .colab-df-convert:hover {\n",
              "      background-color: #E2EBFA;\n",
              "      box-shadow: 0px 1px 2px rgba(60, 64, 67, 0.3), 0px 1px 3px 1px rgba(60, 64, 67, 0.15);\n",
              "      fill: #174EA6;\n",
              "    }\n",
              "\n",
              "    .colab-df-buttons div {\n",
              "      margin-bottom: 4px;\n",
              "    }\n",
              "\n",
              "    [theme=dark] .colab-df-convert {\n",
              "      background-color: #3B4455;\n",
              "      fill: #D2E3FC;\n",
              "    }\n",
              "\n",
              "    [theme=dark] .colab-df-convert:hover {\n",
              "      background-color: #434B5C;\n",
              "      box-shadow: 0px 1px 3px 1px rgba(0, 0, 0, 0.15);\n",
              "      filter: drop-shadow(0px 1px 2px rgba(0, 0, 0, 0.3));\n",
              "      fill: #FFFFFF;\n",
              "    }\n",
              "  </style>\n",
              "\n",
              "    <script>\n",
              "      const buttonEl =\n",
              "        document.querySelector('#df-d1ca1d03-87a0-4ff4-bf5d-59efe308e969 button.colab-df-convert');\n",
              "      buttonEl.style.display =\n",
              "        google.colab.kernel.accessAllowed ? 'block' : 'none';\n",
              "\n",
              "      async function convertToInteractive(key) {\n",
              "        const element = document.querySelector('#df-d1ca1d03-87a0-4ff4-bf5d-59efe308e969');\n",
              "        const dataTable =\n",
              "          await google.colab.kernel.invokeFunction('convertToInteractive',\n",
              "                                                    [key], {});\n",
              "        if (!dataTable) return;\n",
              "\n",
              "        const docLinkHtml = 'Like what you see? Visit the ' +\n",
              "          '<a target=\"_blank\" href=https://colab.research.google.com/notebooks/data_table.ipynb>data table notebook</a>'\n",
              "          + ' to learn more about interactive tables.';\n",
              "        element.innerHTML = '';\n",
              "        dataTable['output_type'] = 'display_data';\n",
              "        await google.colab.output.renderOutput(dataTable, element);\n",
              "        const docLink = document.createElement('div');\n",
              "        docLink.innerHTML = docLinkHtml;\n",
              "        element.appendChild(docLink);\n",
              "      }\n",
              "    </script>\n",
              "  </div>\n",
              "\n",
              "\n",
              "    <div id=\"df-f2ce7f08-baab-47de-9ceb-7f66571c35b2\">\n",
              "      <button class=\"colab-df-quickchart\" onclick=\"quickchart('df-f2ce7f08-baab-47de-9ceb-7f66571c35b2')\"\n",
              "                title=\"Suggest charts\"\n",
              "                style=\"display:none;\">\n",
              "\n",
              "<svg xmlns=\"http://www.w3.org/2000/svg\" height=\"24px\"viewBox=\"0 0 24 24\"\n",
              "     width=\"24px\">\n",
              "    <g>\n",
              "        <path d=\"M19 3H5c-1.1 0-2 .9-2 2v14c0 1.1.9 2 2 2h14c1.1 0 2-.9 2-2V5c0-1.1-.9-2-2-2zM9 17H7v-7h2v7zm4 0h-2V7h2v10zm4 0h-2v-4h2v4z\"/>\n",
              "    </g>\n",
              "</svg>\n",
              "      </button>\n",
              "\n",
              "<style>\n",
              "  .colab-df-quickchart {\n",
              "      --bg-color: #E8F0FE;\n",
              "      --fill-color: #1967D2;\n",
              "      --hover-bg-color: #E2EBFA;\n",
              "      --hover-fill-color: #174EA6;\n",
              "      --disabled-fill-color: #AAA;\n",
              "      --disabled-bg-color: #DDD;\n",
              "  }\n",
              "\n",
              "  [theme=dark] .colab-df-quickchart {\n",
              "      --bg-color: #3B4455;\n",
              "      --fill-color: #D2E3FC;\n",
              "      --hover-bg-color: #434B5C;\n",
              "      --hover-fill-color: #FFFFFF;\n",
              "      --disabled-bg-color: #3B4455;\n",
              "      --disabled-fill-color: #666;\n",
              "  }\n",
              "\n",
              "  .colab-df-quickchart {\n",
              "    background-color: var(--bg-color);\n",
              "    border: none;\n",
              "    border-radius: 50%;\n",
              "    cursor: pointer;\n",
              "    display: none;\n",
              "    fill: var(--fill-color);\n",
              "    height: 32px;\n",
              "    padding: 0;\n",
              "    width: 32px;\n",
              "  }\n",
              "\n",
              "  .colab-df-quickchart:hover {\n",
              "    background-color: var(--hover-bg-color);\n",
              "    box-shadow: 0 1px 2px rgba(60, 64, 67, 0.3), 0 1px 3px 1px rgba(60, 64, 67, 0.15);\n",
              "    fill: var(--button-hover-fill-color);\n",
              "  }\n",
              "\n",
              "  .colab-df-quickchart-complete:disabled,\n",
              "  .colab-df-quickchart-complete:disabled:hover {\n",
              "    background-color: var(--disabled-bg-color);\n",
              "    fill: var(--disabled-fill-color);\n",
              "    box-shadow: none;\n",
              "  }\n",
              "\n",
              "  .colab-df-spinner {\n",
              "    border: 2px solid var(--fill-color);\n",
              "    border-color: transparent;\n",
              "    border-bottom-color: var(--fill-color);\n",
              "    animation:\n",
              "      spin 1s steps(1) infinite;\n",
              "  }\n",
              "\n",
              "  @keyframes spin {\n",
              "    0% {\n",
              "      border-color: transparent;\n",
              "      border-bottom-color: var(--fill-color);\n",
              "      border-left-color: var(--fill-color);\n",
              "    }\n",
              "    20% {\n",
              "      border-color: transparent;\n",
              "      border-left-color: var(--fill-color);\n",
              "      border-top-color: var(--fill-color);\n",
              "    }\n",
              "    30% {\n",
              "      border-color: transparent;\n",
              "      border-left-color: var(--fill-color);\n",
              "      border-top-color: var(--fill-color);\n",
              "      border-right-color: var(--fill-color);\n",
              "    }\n",
              "    40% {\n",
              "      border-color: transparent;\n",
              "      border-right-color: var(--fill-color);\n",
              "      border-top-color: var(--fill-color);\n",
              "    }\n",
              "    60% {\n",
              "      border-color: transparent;\n",
              "      border-right-color: var(--fill-color);\n",
              "    }\n",
              "    80% {\n",
              "      border-color: transparent;\n",
              "      border-right-color: var(--fill-color);\n",
              "      border-bottom-color: var(--fill-color);\n",
              "    }\n",
              "    90% {\n",
              "      border-color: transparent;\n",
              "      border-bottom-color: var(--fill-color);\n",
              "    }\n",
              "  }\n",
              "</style>\n",
              "\n",
              "      <script>\n",
              "        async function quickchart(key) {\n",
              "          const quickchartButtonEl =\n",
              "            document.querySelector('#' + key + ' button');\n",
              "          quickchartButtonEl.disabled = true;  // To prevent multiple clicks.\n",
              "          quickchartButtonEl.classList.add('colab-df-spinner');\n",
              "          try {\n",
              "            const charts = await google.colab.kernel.invokeFunction(\n",
              "                'suggestCharts', [key], {});\n",
              "          } catch (error) {\n",
              "            console.error('Error during call to suggestCharts:', error);\n",
              "          }\n",
              "          quickchartButtonEl.classList.remove('colab-df-spinner');\n",
              "          quickchartButtonEl.classList.add('colab-df-quickchart-complete');\n",
              "        }\n",
              "        (() => {\n",
              "          let quickchartButtonEl =\n",
              "            document.querySelector('#df-f2ce7f08-baab-47de-9ceb-7f66571c35b2 button');\n",
              "          quickchartButtonEl.style.display =\n",
              "            google.colab.kernel.accessAllowed ? 'block' : 'none';\n",
              "        })();\n",
              "      </script>\n",
              "    </div>\n",
              "\n",
              "    </div>\n",
              "  </div>\n"
            ],
            "text/plain": [
              "  ligando   min_sim  mean_sim\n",
              "0     L46  0.256704  0.256704\n",
              "1     SAC  0.240576  0.376354\n",
              "2     DA2  0.469981  0.529869\n",
              "3     28E  0.171179  0.443484\n",
              "4     22L  0.202518  0.393649"
            ]
          },
          "execution_count": 30,
          "metadata": {},
          "output_type": "execute_result"
        }
      ],
      "source": [
        "df_resumen.head()"
      ]
    },
    {
      "cell_type": "code",
      "execution_count": null,
      "metadata": {
        "colab": {
          "base_uri": "https://localhost:8080/"
        },
        "id": "YIXkVQ4pFf_R",
        "outputId": "904b0acf-b2e3-41bd-c9d6-3591ade283eb"
      },
      "outputs": [
        {
          "data": {
            "text/plain": [
              "2880"
            ]
          },
          "execution_count": 31,
          "metadata": {},
          "output_type": "execute_result"
        }
      ],
      "source": [
        "df_resumen.shape[0]"
      ]
    },
    {
      "cell_type": "code",
      "execution_count": null,
      "metadata": {
        "colab": {
          "base_uri": "https://localhost:8080/"
        },
        "id": "8B-P9ca6FjU4",
        "outputId": "bf775e31-34d1-4284-d704-dff444867cb9"
      },
      "outputs": [
        {
          "name": "stdout",
          "output_type": "stream",
          "text": [
            "2880\n"
          ]
        }
      ],
      "source": [
        "print(len(ligandos_unicos_dataframe))"
      ]
    },
    {
      "cell_type": "code",
      "execution_count": null,
      "metadata": {
        "colab": {
          "base_uri": "https://localhost:8080/"
        },
        "id": "ItLjFe-cFriI",
        "outputId": "c8f32312-b4d5-4462-d40b-6a4528a6770a"
      },
      "outputs": [
        {
          "data": {
            "text/plain": [
              "2880"
            ]
          },
          "execution_count": 33,
          "metadata": {},
          "output_type": "execute_result"
        }
      ],
      "source": [
        "df_resumen_1 = df_resumen[df_resumen['ligando'].isin(ligandos_unicos_dataframe)]\n",
        "df_resumen_1.shape[0]"
      ]
    },
    {
      "cell_type": "code",
      "execution_count": null,
      "metadata": {
        "collapsed": true,
        "id": "Jo4g42rsFzhn"
      },
      "outputs": [],
      "source": [
        "df_resumen_1.to_csv(\"/content/drive/MyDrive/TFM/T2/Ultrafast_Shape_Recognition/similitud_resumen_df.csv\",sep = ',', index = False)"
      ]
    },
    {
      "cell_type": "code",
      "execution_count": null,
      "metadata": {
        "id": "5q1aGS8dybb0"
      },
      "outputs": [],
      "source": [
        "import pandas as pd\n",
        "\n",
        "df_resumen = pd.read_csv(\"/content/drive/MyDrive/TFM/T2/Ultrafast_Shape_Recognition/similitud_resumen_df.csv\",sep = ',')"
      ]
    },
    {
      "cell_type": "code",
      "execution_count": null,
      "metadata": {
        "colab": {
          "base_uri": "https://localhost:8080/"
        },
        "id": "MZyxxlrX0tiM",
        "outputId": "2fc1c37e-e29c-4712-a86a-4429f4f43fb6"
      },
      "outputs": [
        {
          "data": {
            "text/plain": [
              "2884"
            ]
          },
          "execution_count": 4,
          "metadata": {},
          "output_type": "execute_result"
        }
      ],
      "source": [
        "df_resumen.shape[0]"
      ]
    },
    {
      "cell_type": "code",
      "execution_count": null,
      "metadata": {
        "colab": {
          "base_uri": "https://localhost:8080/",
          "height": 1000
        },
        "id": "TWNqVZE2MIJC",
        "outputId": "338e650e-d148-4e6f-b10d-20519a849589"
      },
      "outputs": [
        {
          "data": {
            "image/png": "[encoded data removed]",
            "text/plain": [
              "<Figure size 1200x600 with 1 Axes>"
            ]
          },
          "metadata": {},
          "output_type": "display_data"
        },
        {
          "data": {
            "image/png": "[encoded data removed]",
            "text/plain": [
              "<Figure size 800x400 with 1 Axes>"
            ]
          },
          "metadata": {},
          "output_type": "display_data"
        },
        {
          "data": {
            "image/png": "[encoded data removed]",
            "text/plain": [
              "<Figure size 800x400 with 1 Axes>"
            ]
          },
          "metadata": {},
          "output_type": "display_data"
        }
      ],
      "source": [
        "import pandas as pd\n",
        "import matplotlib.pyplot as plt\n",
        "\n",
        "# Supongamos que ya tienes el DataFrame cargado como df\n",
        "\n",
        "# Histograma conjunto\n",
        "plt.figure(figsize=(12, 6))\n",
        "plt.hist(df_resumen['min_sim'], bins=50, alpha=0.6, label='min_sim')\n",
        "plt.hist(df_resumen['mean_sim'], bins=50, alpha=0.6, label='mean_sim')\n",
        "plt.xlabel('Similarity Value')\n",
        "plt.ylabel('Frequency')\n",
        "plt.title('Histograma conjunto de min_sim y mean_sim')\n",
        "plt.legend()\n",
        "plt.grid(True)\n",
        "plt.show()\n",
        "\n",
        "# Histograma individual para min_sim\n",
        "plt.figure(figsize=(8, 4))\n",
        "plt.hist(df_resumen['min_sim'], bins=50, color='skyblue')\n",
        "plt.xlabel('min_sim')\n",
        "plt.ylabel('Frequency')\n",
        "plt.title('Histograma de min_sim')\n",
        "plt.grid(True)\n",
        "plt.show()\n",
        "\n",
        "# Histograma individual para mean_sim\n",
        "plt.figure(figsize=(8, 4))\n",
        "plt.hist(df_resumen['mean_sim'], bins=50, color='salmon')\n",
        "plt.xlabel('mean_sim')\n",
        "plt.ylabel('Frequency')\n",
        "plt.title('Histograma de mean_sim')\n",
        "plt.grid(True)\n",
        "plt.show()\n"
      ]
    }
  ],
  "metadata": {
    "colab": {
      "provenance": []
    },
    "kernelspec": {
      "display_name": "Python 3",
      "name": "python3"
    },
    "language_info": {
      "name": "python"
    }
  },
  "nbformat": 4,
  "nbformat_minor": 0
}
