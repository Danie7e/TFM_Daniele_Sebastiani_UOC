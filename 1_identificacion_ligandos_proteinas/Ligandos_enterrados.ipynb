{
  "nbformat": 4,
  "nbformat_minor": 0,
  "metadata": {
    "colab": {
      "provenance": []
    },
    "kernelspec": {
      "name": "python3",
      "display_name": "Python 3"
    },
    "language_info": {
      "name": "python"
    }
  },
  "cells": [
    {
      "cell_type": "markdown",
      "source": [
        "# Descartar los ligandos enterrados\n",
        "\n",
        "Puedo utilizar el módulo `ShrakeRupley` de `Bio.PDB.SASA` de `Biopython`.\n",
        "\n",
        "https://biopython.org/docs/dev/api/Bio.PDB.SASA.html\n",
        "\n",
        "La idea sería:\n",
        "\n",
        "- Parsear la estructura\n",
        "- Crear una copia del ligando libre\n",
        "- Calcular la superficie accesible al solvente de ligando libre\n",
        "- Calcular la superficie accesible al solvente del ligando unido\n",
        "- Calcular la fracción de superficie solvente accesible enterrada\n",
        "- Descartar las entradas con una fracción de superficie accesible al solvente < 0.2."
      ],
      "metadata": {
        "id": "t8_EyQ1i621g"
      }
    },
    {
      "cell_type": "code",
      "execution_count": null,
      "metadata": {
        "id": "cyoWTwQF61-U"
      },
      "outputs": [],
      "source": [
        "from google.colab import drive\n",
        "drive.mount('/content/drive')"
      ]
    },
    {
      "cell_type": "code",
      "source": [
        "!pip install biopython"
      ],
      "metadata": {
        "id": "_0ODlS5P6_Yn"
      },
      "execution_count": null,
      "outputs": []
    },
    {
      "cell_type": "code",
      "source": [
        "#@title Abrir el dataframe\n",
        "\n",
        "import os\n",
        "import pandas as pd\n",
        "\n",
        "input_folder = \"/content/drive/MyDrive/TMF/T1/LIGANDO_ENTERRADO\" # Ruta del df armonizado sin entradas covalentes\n",
        "input_file = os.path.join(input_folder, \"df_sin_covalentes.csv\") # Nombre df armonizado sin entradas covalentes\n",
        "df_harm = pd.read_csv(input_file, sep = ',')\n",
        "print(df_harm.shape[0],df_harm.columns)"
      ],
      "metadata": {
        "id": "GMTbITD_7AxH"
      },
      "execution_count": null,
      "outputs": []
    },
    {
      "cell_type": "code",
      "source": [
        "#@title Calcular Fracción Accesible al solvente\n",
        "\n",
        "import os\n",
        "from Bio.PDB import MMCIFParser\n",
        "from Bio.PDB.SASA import ShrakeRupley\n",
        "from Bio.PDB import MMCIFParser\n",
        "import pandas as pd\n",
        "\n",
        "sr_ligand_free = ShrakeRupley()\n",
        "sr_ligand_bind = ShrakeRupley()\n",
        "\n",
        "id_pdb_correct_1 = []\n",
        "id_pdb_remove_1 = []\n",
        "entradas_coordenadas = {}\n",
        "\n",
        "parser = MMCIFParser(QUIET=True)\n",
        "input_path = \"/content/drive/MyDrive/TMF/T1/ENLACE_COVALENTE/PDB-CAT/PDB-CAT/cif/9\"\n",
        "\n",
        "for index,pdb_id_armonizado in enumerate(df_harm['PDB_entry_id']):\n",
        "  cif_file = os.path.join(input_path, f\"{pdb_id_armonizado.lower()}.cif\")\n",
        "\n",
        "  if os.path.exists(cif_file):\n",
        "    estructura = parser.get_structure(f\"estructura_{pdb_id_armonizado.lower()}\",cif_file)\n",
        "\n",
        "  # Encontrar el ligando\n",
        "    for modelo in estructura:\n",
        "      for cadena in modelo:\n",
        "        for residuo in cadena:\n",
        "          if residuo.resname == df_harm.loc[index,'Ligand_id']:\n",
        "            ligand = residuo\n",
        "          #print(f\"Entrada PDB: {pdb_id_armonizado}, Nombre ligando: {ligand.resname}\")\n",
        "\n",
        "          # Calcular la sasa del ligando libre\n",
        "            sr_ligand_free.compute(ligand)\n",
        "            sasa_ligand_free = sum(atom.sasa for atom in ligand.get_atoms())\n",
        "          #print(\"SASA del ligando libre:\", sasa_ligand_free)\n",
        "\n",
        "          # Calcular la sasa del ligando unido\n",
        "            sr_ligand_bind.compute(estructura)\n",
        "            sasa_ligand_bind = sum(atom.sasa for atom in ligand.get_atoms())\n",
        "          #print(\"SASA del ligando unido:\", sasa_ligand_bind)\n",
        "\n",
        "            fraccion_enterrada = (sasa_ligand_bind/sasa_ligand_free*100)\n",
        "          #print(f\"Fracción enterrada: {fraccion_enterrada.round(2)}%\")\n",
        "            if fraccion_enterrada >= 20.0:\n",
        "            #print('Correcto')\n",
        "              id_pdb_correct_1.append(pdb_id_armonizado)\n",
        "\n",
        "              if pdb_id_armonizado not in entradas_coordenadas:\n",
        "                entradas_coordenadas[pdb_id_armonizado] = []\n",
        "                coordenadas = [cadena.id, residuo.id[1]]\n",
        "                if coordenadas not in entradas_coordenadas[pdb_id_armonizado]:\n",
        "                  entradas_coordenadas[pdb_id_armonizado].append(coordenadas)\n",
        "\n",
        "                  print(f\"{fraccion_enterrada.round(2)}, {pdb_id_armonizado}: Correcto\")\n",
        "                  print(entradas_coordenadas)\n",
        "\n",
        "            else:\n",
        "            #print('Descartar')\n",
        "              id_pdb_remove_1.append(pdb_id_armonizado)\n",
        "              print(f\"{fraccion_enterrada.round(2)}, {pdb_id_armonizado}: Descartar\")\n",
        "              #print(\"\\n\")\n",
        "df_enterrado_8 = pd.DataFrame(entradas_coordenadas)\n",
        "output_file = os.path.join(input_folder,\"df_enterrado_9.csv\")\n",
        "df_enterrado_8.to_csv(output_file, index=False, sep = ',')"
      ],
      "metadata": {
        "id": "v2rP5vBi7Cro"
      },
      "execution_count": null,
      "outputs": []
    }
  ]
}