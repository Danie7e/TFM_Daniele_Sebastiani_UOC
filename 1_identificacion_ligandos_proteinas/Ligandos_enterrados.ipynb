{
  "cells": [
    {
      "cell_type": "markdown",
      "metadata": {
        "id": "t8_EyQ1i621g"
      },
      "source": [
        "# Descartar los ligandos enterrados\n",
        "\n",
        "Puedo utilizar el módulo `ShrakeRupley` de `Bio.PDB.SASA` de `Biopython`.\n",
        "\n",
        "https://biopython.org/docs/dev/api/Bio.PDB.SASA.html\n",
        "\n",
        "La idea sería:\n",
        "\n",
        "- Parsear la estructura\n",
        "- Crear una copia del ligando libre\n",
        "- Calcular la superficie accesible al solvente de ligando libre\n",
        "- Calcular la superficie accesible al solvente del ligando unido\n",
        "- Calcular la fracción de superficie solvente accesible enterrada\n",
        "- Descartar las entradas con una fracción de superficie accesible al solvente < 0.2."
      ]
    },
    {
      "cell_type": "code",
      "execution_count": null,
      "metadata": {
        "id": "cyoWTwQF61-U"
      },
      "outputs": [],
      "source": [
        "from google.colab import drive\n",
        "drive.mount('/content/drive')"
      ]
    },
    {
      "cell_type": "code",
      "execution_count": null,
      "metadata": {
        "id": "_0ODlS5P6_Yn"
      },
      "outputs": [],
      "source": [
        "!pip install biopython"
      ]
    },
    {
      "cell_type": "code",
      "execution_count": null,
      "metadata": {
        "id": "GMTbITD_7AxH"
      },
      "outputs": [],
      "source": [
        "#@title Abrir el dataframe\n",
        "\n",
        "import os\n",
        "import pandas as pd\n",
        "\n",
        "input_folder = \"/content/drive/MyDrive/TMF/T1/LIGANDO_ENTERRADO\" # Ruta del df armonizado sin entradas covalentes\n",
        "input_file = os.path.join(input_folder, \"df_sin_covalentes.csv\") # Nombre df armonizado sin entradas covalentes\n",
        "df_harm = pd.read_csv(input_file, sep = ',')\n",
        "print(df_harm.shape[0],df_harm.columns)"
      ]
    },
    {
      "cell_type": "code",
      "execution_count": null,
      "metadata": {
        "id": "v2rP5vBi7Cro"
      },
      "outputs": [],
      "source": [
        "#@title Calcular Fracción Accesible al solvente\n",
        "\n",
        "import os\n",
        "from Bio.PDB.Polypeptide import is_aa\n",
        "from Bio.PDB import MMCIFParser\n",
        "from Bio.PDB.SASA import ShrakeRupley\n",
        "from Bio.PDB import MMCIFParser\n",
        "import pandas as pd\n",
        "\n",
        "sr_ligand_free = ShrakeRupley()\n",
        "sr_ligand_bind = ShrakeRupley()\n",
        "\n",
        "id_pdb_correct_1 = []\n",
        "id_pdb_remove_1 = []\n",
        "entradas_coordenadas = {}\n",
        "\n",
        "parser = MMCIFParser(QUIET=True)\n",
        "input_path = \"/content/drive/MyDrive/TMF/T1/ENLACE_COVALENTE/PDB-CAT/PDB-CAT/cif/9\"\n",
        "\n",
        "for index,pdb_id_armonizado in enumerate(df_harm['PDB_entry_id']):\n",
        "  cif_file = os.path.join(input_path, f\"{pdb_id_armonizado.lower()}.cif\")\n",
        "\n",
        "  if os.path.exists(cif_file):\n",
        "    estructura = parser.get_structure(f\"estructura_{pdb_id_armonizado.lower()}\",cif_file)\n",
        "\n",
        "  # Encontrar el ligando\n",
        "    for modelo in estructura:\n",
        "      for cadena in modelo:\n",
        "        for residuo in cadena:\n",
        "          if residuo.resname == df_harm.loc[index,'Ligand_id']:\n",
        "            ligand = residuo\n",
        "          #print(f\"Entrada PDB: {pdb_id_armonizado}, Nombre ligando: {ligand.resname}\")\n",
        "\n",
        "          # Calcular la sasa del ligando libre\n",
        "            sr_ligand_free.compute(ligand)\n",
        "            sasa_ligand_free = sum(atom.sasa for atom in ligand.get_atoms())\n",
        "          #print(\"SASA del ligando libre:\", sasa_ligand_free)\n",
        "\n",
        "          # Calcular la sasa del ligando unido\n",
        "            sr_ligand_bind.compute(estructura)\n",
        "            sasa_ligand_bind = sum(atom.sasa for atom in ligand.get_atoms())\n",
        "          #print(\"SASA del ligando unido:\", sasa_ligand_bind)\n",
        "\n",
        "            fraccion_enterrada = (sasa_ligand_bind/sasa_ligand_free*100)\n",
        "          #print(f\"Fracción enterrada: {fraccion_enterrada.round(2)}%\")\n",
        "            if fraccion_enterrada >= 20.0:\n",
        "            #print('Correcto')\n",
        "              id_pdb_correct_1.append(pdb_id_armonizado)\n",
        "\n",
        "              if pdb_id_armonizado not in entradas_coordenadas:\n",
        "                entradas_coordenadas[pdb_id_armonizado] = []\n",
        "                coordenadas = [cadena.id, residuo.id[1]]\n",
        "                if coordenadas not in entradas_coordenadas[pdb_id_armonizado]:\n",
        "                  entradas_coordenadas[pdb_id_armonizado].append(coordenadas)\n",
        "\n",
        "                  print(f\"{fraccion_enterrada.round(2)}, {pdb_id_armonizado}: Correcto\")\n",
        "                  print(entradas_coordenadas)\n",
        "\n",
        "            else:\n",
        "            #print('Descartar')\n",
        "              id_pdb_remove_1.append(pdb_id_armonizado)\n",
        "              print(f\"{fraccion_enterrada.round(2)}, {pdb_id_armonizado}: Descartar\")\n",
        "              #print(\"\\n\")\n",
        "df_enterrado_8 = pd.DataFrame(entradas_coordenadas)\n",
        "output_file = os.path.join(input_folder,\"df_enterrado_9.csv\")\n",
        "df_enterrado_8.to_csv(output_file, index=False, sep = ',')"
      ]
    },
    {
      "cell_type": "code",
      "execution_count": null,
      "metadata": {},
      "outputs": [],
      "source": [
        "def recalcular_fraccion_enterrada_proteica(row, path):\n",
        "    from Bio.PDB.Polypeptide import is_aa\n",
        "    import os\n",
        "    from Bio.PDB import MMCIFParser\n",
        "    from Bio.PDB.SASA import ShrakeRupley\n",
        "    from Bio.PDB import MMCIFParser\n",
        "    import pandas as pd\n",
        "    from pandarallel import pandarallel\n",
        "    from Bio.PDB import Model\n",
        "\n",
        "    entrada = row['PDB_entry_id']\n",
        "    ligand_id = row['Ligand_id']\n",
        "    coords = row['Coordenadas']\n",
        "\n",
        "    if coords is None or len(coords) != 4:\n",
        "        return None\n",
        "\n",
        "    modelo_id, cadena_id, residuo_num = coords[1], coords[2], coords[3]\n",
        "    cif_file = os.path.join(path, f\"{entrada.lower()}.cif\")\n",
        "\n",
        "    if not os.path.isfile(cif_file):\n",
        "        return None\n",
        "\n",
        "    parser = MMCIFParser(QUIET=True)\n",
        "    estructura = parser.get_structure(f\"estructura_{entrada.lower()}\", cif_file)\n",
        "\n",
        "    try:\n",
        "        modelo = estructura[modelo_id]\n",
        "        cadena = modelo[cadena_id]\n",
        "        residuo = cadena[('H_' + ligand_id, residuo_num, ' ')]  # Ligandos son heteroátomos\n",
        "    except KeyError:\n",
        "        return None\n",
        "\n",
        "    sr = ShrakeRupley()\n",
        "\n",
        "    # Calcular SASA del ligando libre\n",
        "    sr.compute(residuo)\n",
        "    sasa_ligand_free = sum(atom.sasa for atom in residuo.get_atoms())\n",
        "    if sasa_ligand_free == 0:\n",
        "        return None\n",
        "\n",
        "    # Crear nuevo modelo solo con proteína y ligando\n",
        "    nuevo_modelo = Model.Model(0)\n",
        "    cadenas_agregadas = set()\n",
        "\n",
        "    for c in modelo:\n",
        "        if any(is_aa(r, standard=True) for r in c):\n",
        "            nuevo_modelo.add(c)\n",
        "            cadenas_agregadas.add(c.id)\n",
        "\n",
        "    # Agregar la cadena del ligando si NO está ya incluida\n",
        "    if cadena_id not in cadenas_agregadas:\n",
        "        nuevo_modelo.add(cadena)\n",
        "\n",
        "    # Calcular SASA del ligando en entorno proteico\n",
        "    sr.compute(nuevo_modelo)\n",
        "    sasa_ligand_bind = sum(atom.sasa for atom in residuo.get_atoms())\n",
        "\n",
        "    # Fracción enterrada\n",
        "    fraccion_enterrada = (1 - sasa_ligand_bind / sasa_ligand_free) * 100\n",
        "    fraccion_enterrada = round(fraccion_enterrada, 2)\n",
        "\n",
        "    return fraccion_enterrada"
      ]
    },
    {
      "cell_type": "code",
      "execution_count": null,
      "metadata": {},
      "outputs": [],
      "source": [
        "path_to_cif_files = \"/content/drive/MyDrive/TFM/T2/CIF_DF\""
      ]
    },
    {
      "cell_type": "code",
      "execution_count": null,
      "metadata": {},
      "outputs": [],
      "source": [
        "from pandarallel import pandarallel\n",
        "\n",
        "pandarallel.initialize(nb_workers= 2, progress_bar= True)\n",
        "\n",
        "df_harm['Fraccion_enterrada'] = df_harm.parallel_apply(\n",
        "        lambda row: recalcular_fraccion_enterrada_proteica_1(row, path_to_cif_files), axis=1)"
      ]
    },
    {
      "cell_type": "code",
      "execution_count": null,
      "metadata": {},
      "outputs": [],
      "source": []
    }
  ],
  "metadata": {
    "colab": {
      "provenance": []
    },
    "kernelspec": {
      "display_name": "Python 3",
      "name": "python3"
    },
    "language_info": {
      "name": "python"
    }
  },
  "nbformat": 4,
  "nbformat_minor": 0
}
