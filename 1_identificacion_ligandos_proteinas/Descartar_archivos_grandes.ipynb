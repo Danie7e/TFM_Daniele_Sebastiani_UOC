{
  "nbformat": 4,
  "nbformat_minor": 0,
  "metadata": {
    "colab": {
      "provenance": []
    },
    "kernelspec": {
      "name": "python3",
      "display_name": "Python 3"
    },
    "language_info": {
      "name": "python"
    }
  },
  "cells": [
    {
      "cell_type": "markdown",
      "source": [
        "# Descartar archivos con un tamaño mayor a 3 Mega"
      ],
      "metadata": {
        "id": "VY3v420six8e"
      }
    },
    {
      "cell_type": "code",
      "execution_count": null,
      "metadata": {
        "colab": {
          "base_uri": "https://localhost:8080/"
        },
        "id": "1rLjVRfzioZE",
        "outputId": "f858bfab-37d5-44a9-de77-4bd4285a1363"
      },
      "outputs": [
        {
          "output_type": "stream",
          "name": "stdout",
          "text": [
            "Mounted at /content/drive\n"
          ]
        }
      ],
      "source": [
        "from google.colab import drive\n",
        "drive.mount('/content/drive')"
      ]
    },
    {
      "cell_type": "code",
      "source": [
        "!pip install biopython\n",
        "!pip install pandarallel"
      ],
      "metadata": {
        "colab": {
          "base_uri": "https://localhost:8080/"
        },
        "collapsed": true,
        "id": "gBQ1mmngi66k",
        "outputId": "c4d0b8e6-780b-4812-9bec-b32b084497d4"
      },
      "execution_count": null,
      "outputs": [
        {
          "output_type": "stream",
          "name": "stdout",
          "text": [
            "Collecting biopython\n",
            "  Downloading biopython-1.85-cp311-cp311-manylinux_2_17_x86_64.manylinux2014_x86_64.whl.metadata (13 kB)\n",
            "Requirement already satisfied: numpy in /usr/local/lib/python3.11/dist-packages (from biopython) (2.0.2)\n",
            "Downloading biopython-1.85-cp311-cp311-manylinux_2_17_x86_64.manylinux2014_x86_64.whl (3.3 MB)\n",
            "\u001b[2K   \u001b[90m━━━━━━━━━━━━━━━━━━━━━━━━━━━━━━━━━━━━━━━━\u001b[0m \u001b[32m3.3/3.3 MB\u001b[0m \u001b[31m29.7 MB/s\u001b[0m eta \u001b[36m0:00:00\u001b[0m\n",
            "\u001b[?25hInstalling collected packages: biopython\n",
            "Successfully installed biopython-1.85\n",
            "Collecting pandarallel\n",
            "  Downloading pandarallel-1.6.5.tar.gz (14 kB)\n",
            "  Preparing metadata (setup.py) ... \u001b[?25l\u001b[?25hdone\n",
            "Collecting dill>=0.3.1 (from pandarallel)\n",
            "  Downloading dill-0.3.9-py3-none-any.whl.metadata (10 kB)\n",
            "Requirement already satisfied: pandas>=1 in /usr/local/lib/python3.11/dist-packages (from pandarallel) (2.2.2)\n",
            "Requirement already satisfied: psutil in /usr/local/lib/python3.11/dist-packages (from pandarallel) (5.9.5)\n",
            "Requirement already satisfied: numpy>=1.23.2 in /usr/local/lib/python3.11/dist-packages (from pandas>=1->pandarallel) (2.0.2)\n",
            "Requirement already satisfied: python-dateutil>=2.8.2 in /usr/local/lib/python3.11/dist-packages (from pandas>=1->pandarallel) (2.8.2)\n",
            "Requirement already satisfied: pytz>=2020.1 in /usr/local/lib/python3.11/dist-packages (from pandas>=1->pandarallel) (2025.1)\n",
            "Requirement already satisfied: tzdata>=2022.7 in /usr/local/lib/python3.11/dist-packages (from pandas>=1->pandarallel) (2025.1)\n",
            "Requirement already satisfied: six>=1.5 in /usr/local/lib/python3.11/dist-packages (from python-dateutil>=2.8.2->pandas>=1->pandarallel) (1.17.0)\n",
            "Downloading dill-0.3.9-py3-none-any.whl (119 kB)\n",
            "\u001b[2K   \u001b[90m━━━━━━━━━━━━━━━━━━━━━━━━━━━━━━━━━━━━━━━━\u001b[0m \u001b[32m119.4/119.4 kB\u001b[0m \u001b[31m3.0 MB/s\u001b[0m eta \u001b[36m0:00:00\u001b[0m\n",
            "\u001b[?25hBuilding wheels for collected packages: pandarallel\n",
            "  Building wheel for pandarallel (setup.py) ... \u001b[?25l\u001b[?25hdone\n",
            "  Created wheel for pandarallel: filename=pandarallel-1.6.5-py3-none-any.whl size=16674 sha256=953afcf61a3f34e6f3883b7964292936504db21fb0c5d3c61bd3c1fa90448d27\n",
            "  Stored in directory: /root/.cache/pip/wheels/b9/c6/5a/829298789e94348b81af52ab42c19d49da007306bbcc983827\n",
            "Successfully built pandarallel\n",
            "Installing collected packages: dill, pandarallel\n",
            "Successfully installed dill-0.3.9 pandarallel-1.6.5\n"
          ]
        }
      ]
    },
    {
      "cell_type": "code",
      "source": [
        "#@title Abrir el dataframe\n",
        "\n",
        "import os\n",
        "import pandas as pd\n",
        "\n",
        "input_folder = \"/content/drive/MyDrive/TMF/T1/Filtro_tamaño_archivos\" # Ruta del df armonizado sin entradas covalentes\n",
        "input_file = os.path.join(input_folder, \"df_harm_filtro_4_1.csv\") # Nombre df armonizado sin entradas covalentes\n",
        "df_harm = pd.read_csv(input_file, sep = ',')\n",
        "print(df_harm.shape[0],df_harm.columns)"
      ],
      "metadata": {
        "colab": {
          "base_uri": "https://localhost:8080/"
        },
        "id": "C4s2jBmfjAEs",
        "outputId": "f588acc1-db66-4208-ecae-3a3172c07ad7"
      },
      "execution_count": null,
      "outputs": [
        {
          "output_type": "stream",
          "name": "stdout",
          "text": [
            "90457 Index(['index', 'PDB_entry_id', 'Classification', 'Organism', 'Uniprot_id',\n",
            "       'Ligand_id', 'Ligand_InChi', 'Experimental_method', 'Resolution',\n",
            "       'Adding_Classification', 'Affinity'],\n",
            "      dtype='object')\n"
          ]
        }
      ]
    },
    {
      "cell_type": "code",
      "source": [
        "df_harm_1 = df_harm[df_harm['PDB_entry_id'].str.startswith(\"1\")]\n",
        "print(f\"df_harm_1: {df_harm_1.shape[0]}\")\n",
        "df_harm_2 = df_harm[df_harm['PDB_entry_id'].str.startswith(\"2\")]\n",
        "print(f\"df_harm_2: {df_harm_2.shape[0]}\")\n",
        "df_harm_3 = df_harm[df_harm['PDB_entry_id'].str.startswith(\"3\")]\n",
        "print(f\"df_harm_3: {df_harm_3.shape[0]}\")\n",
        "df_harm_4 = df_harm[df_harm['PDB_entry_id'].str.startswith(\"4\")]\n",
        "print(f\"df_harm_4: {df_harm_4.shape[0]}\")\n",
        "df_harm_5 = df_harm[df_harm['PDB_entry_id'].str.startswith(\"5\")]\n",
        "print(f\"df_harm_5: {df_harm_5.shape[0]}\")\n",
        "df_harm_6 = df_harm[df_harm['PDB_entry_id'].str.startswith(\"6\")]\n",
        "print(f\"df_harm_6: {df_harm_6.shape[0]}\")\n",
        "df_harm_7 = df_harm[df_harm['PDB_entry_id'].str.startswith(\"7\")]\n",
        "print(f\"df_harm_7: {df_harm_7.shape[0]}\")\n",
        "df_harm_8 = df_harm[df_harm['PDB_entry_id'].str.startswith(\"8\")]\n",
        "print(f\"df_harm_8: {df_harm_8.shape[0]}\")\n",
        "df_harm_9 = df_harm[df_harm['PDB_entry_id'].str.startswith(\"9\")]\n",
        "print(f\"df_harm_9: {df_harm_9.shape[0]}\")\n",
        "\n"
      ],
      "metadata": {
        "colab": {
          "base_uri": "https://localhost:8080/"
        },
        "id": "oUJ4MWEhjgss",
        "outputId": "a120be02-69b6-4b23-cb2d-4282f17af651"
      },
      "execution_count": null,
      "outputs": [
        {
          "output_type": "stream",
          "name": "stdout",
          "text": [
            "df_harm_1: 9154\n",
            "df_harm_2: 8303\n",
            "df_harm_3: 8634\n",
            "df_harm_4: 13007\n",
            "df_harm_5: 13153\n",
            "df_harm_6: 13775\n",
            "df_harm_7: 13155\n",
            "df_harm_8: 9529\n",
            "df_harm_9: 1747\n"
          ]
        }
      ]
    },
    {
      "cell_type": "code",
      "source": [
        "#@title Función filtro tamaño archivo\n",
        "\n",
        "def filter_size(df, path):\n",
        "    \"\"\"\n",
        "    Para cada entrada en el DataFrame, si el archivo CIF correspondiente\n",
        "    (en la carpeta 'path') tiene un tamaño menor a 3 MB, se añade a la lista.\n",
        "    Devuelve la lista de 'PDB_entry_id' que cumplen este criterio.\n",
        "    \"\"\"\n",
        "    umbral = 3145728  # 3 MB en bytes\n",
        "    entradas_allowed = []\n",
        "\n",
        "    for entrada in df['PDB_entry_id']:\n",
        "        archivo_cif = os.path.join(path, f\"{entrada.lower()}.cif\")\n",
        "        if os.path.isfile(archivo_cif):\n",
        "            if os.path.getsize(archivo_cif) < umbral:\n",
        "                entradas_allowed.append(entrada)\n",
        "\n",
        "    return entradas_allowed\n",
        "\n",
        "\n",
        "\n",
        "\n",
        "\n"
      ],
      "metadata": {
        "id": "fzZkEt0Jj2U9"
      },
      "execution_count": null,
      "outputs": []
    },
    {
      "cell_type": "code",
      "source": [
        "path_1 = '/content/drive/MyDrive/TMF/T1/ENLACE_COVALENTE/PDB-CAT/PDB-CAT/cif/1'\n",
        "lista_entrada_1 = filter_size(df_harm_1,path_1)\n",
        "print(len(lista_entrada_1))"
      ],
      "metadata": {
        "id": "57EoipMMlwK2"
      },
      "execution_count": null,
      "outputs": []
    },
    {
      "cell_type": "code",
      "source": [
        "path_2 = '/content/drive/MyDrive/TMF/T1/ENLACE_COVALENTE/PDB-CAT/PDB-CAT/cif/2'\n",
        "lista_entrada_2 = filter_size(df_harm_2,path_2)\n",
        "print(len(lista_entrada_2))"
      ],
      "metadata": {
        "colab": {
          "base_uri": "https://localhost:8080/"
        },
        "id": "7JwsbknSzJp-",
        "outputId": "bc3bc4b2-8b96-455a-8c43-e7c57b4d0b1b"
      },
      "execution_count": null,
      "outputs": [
        {
          "output_type": "stream",
          "name": "stdout",
          "text": [
            "2895\n"
          ]
        }
      ]
    },
    {
      "cell_type": "code",
      "source": [
        "path_2_1 = '/content/drive/MyDrive/TMF/T1/ENLACE_COVALENTE/PDB-CAT/PDB-CAT/cif/2_1'\n",
        "lista_entrada_2_1 = filter_size(df_harm_2,path_2_1)\n",
        "print(len(lista_entrada_2_1))"
      ],
      "metadata": {
        "colab": {
          "base_uri": "https://localhost:8080/"
        },
        "id": "xkV1Xlje0ijH",
        "outputId": "82933470-7960-4205-e4c1-527a954b9cb9"
      },
      "execution_count": null,
      "outputs": [
        {
          "output_type": "stream",
          "name": "stdout",
          "text": [
            "5195\n"
          ]
        }
      ]
    },
    {
      "cell_type": "code",
      "source": [
        "path_3 = '/content/drive/MyDrive/TMF/T1/ENLACE_COVALENTE/PDB-CAT/PDB-CAT/cif/3'\n",
        "lista_entrada_3 = filter_size(df_harm_3,path_3)\n",
        "print(len(lista_entrada_3))"
      ],
      "metadata": {
        "colab": {
          "base_uri": "https://localhost:8080/"
        },
        "id": "hT9PLzOY0idW",
        "outputId": "b898e387-5cbd-4e89-f586-153cf2eb3b69"
      },
      "execution_count": null,
      "outputs": [
        {
          "output_type": "stream",
          "name": "stdout",
          "text": [
            "7433\n"
          ]
        }
      ]
    },
    {
      "cell_type": "code",
      "source": [
        "path_3_1 = '/content/drive/MyDrive/TMF/T1/ENLACE_COVALENTE/PDB-CAT/PDB-CAT/cif/3_1'\n",
        "lista_entrada_3_1 = filter_size(df_harm_3,path_3_1)\n",
        "print(len(lista_entrada_3_1))"
      ],
      "metadata": {
        "colab": {
          "base_uri": "https://localhost:8080/"
        },
        "id": "gCuZwUi-0iYG",
        "outputId": "a0d60720-7e34-475e-af69-945267402101"
      },
      "execution_count": null,
      "outputs": [
        {
          "output_type": "stream",
          "name": "stdout",
          "text": [
            "890\n"
          ]
        }
      ]
    },
    {
      "cell_type": "code",
      "source": [
        "path_4 = '/content/drive/MyDrive/TMF/T1/ENLACE_COVALENTE/PDB-CAT/PDB-CAT/cif/4'\n",
        "lista_entrada_4 = filter_size(df_harm_4,path_4)\n",
        "print(len(lista_entrada_4))"
      ],
      "metadata": {
        "colab": {
          "base_uri": "https://localhost:8080/"
        },
        "id": "8E4DAMWH0iTx",
        "outputId": "1f82b785-a10a-4554-9fdf-629e41815723"
      },
      "execution_count": null,
      "outputs": [
        {
          "output_type": "stream",
          "name": "stdout",
          "text": [
            "12440\n"
          ]
        }
      ]
    },
    {
      "cell_type": "code",
      "source": [
        "path_5 = '/content/drive/MyDrive/TMF/T1/ENLACE_COVALENTE/PDB-CAT/PDB-CAT/cif/5'\n",
        "lista_entrada_5 = filter_size(df_harm_5,path_5)\n",
        "print(len(lista_entrada_5))"
      ],
      "metadata": {
        "colab": {
          "base_uri": "https://localhost:8080/"
        },
        "id": "uHGi1M490iOW",
        "outputId": "4afeb0b8-93b9-4b78-9cdb-26fbf815b70f"
      },
      "execution_count": null,
      "outputs": [
        {
          "output_type": "stream",
          "name": "stdout",
          "text": [
            "9366\n"
          ]
        }
      ]
    },
    {
      "cell_type": "code",
      "source": [
        "path_5_1 = '/content/drive/MyDrive/TMF/T1/ENLACE_COVALENTE/PDB-CAT/PDB-CAT/cif/5_1'\n",
        "lista_entrada_5_1 = filter_size(df_harm_5,path_5_1)\n",
        "print(len(lista_entrada_5_1))"
      ],
      "metadata": {
        "colab": {
          "base_uri": "https://localhost:8080/"
        },
        "id": "G5dfRhVE0iJX",
        "outputId": "17d7192e-a153-4088-ad7a-531a43fbe569"
      },
      "execution_count": null,
      "outputs": [
        {
          "output_type": "stream",
          "name": "stdout",
          "text": [
            "2791\n"
          ]
        }
      ]
    },
    {
      "cell_type": "code",
      "source": [
        "path_6 = '/content/drive/MyDrive/TMF/T1/ENLACE_COVALENTE/PDB-CAT/PDB-CAT/cif/6'\n",
        "lista_entrada_6 = filter_size(df_harm_6,path_6)\n",
        "print(len(lista_entrada_6))"
      ],
      "metadata": {
        "colab": {
          "base_uri": "https://localhost:8080/"
        },
        "id": "hgjzfb850iDt",
        "outputId": "96096eaa-16df-41da-c706-b4475d411d52"
      },
      "execution_count": null,
      "outputs": [
        {
          "output_type": "stream",
          "name": "stdout",
          "text": [
            "9099\n"
          ]
        }
      ]
    },
    {
      "cell_type": "code",
      "source": [
        "path_6_1 = '/content/drive/MyDrive/TMF/T1/ENLACE_COVALENTE/PDB-CAT/PDB-CAT/cif/6_1'\n",
        "lista_entrada_6_1 = filter_size(df_harm_6,path_6_1)\n",
        "print(len(lista_entrada_6_1))"
      ],
      "metadata": {
        "colab": {
          "base_uri": "https://localhost:8080/"
        },
        "id": "NnX9CFLr0h_O",
        "outputId": "d0b7e52e-9af2-418f-b66c-88f59a4d2337"
      },
      "execution_count": null,
      "outputs": [
        {
          "output_type": "stream",
          "name": "stdout",
          "text": [
            "3615\n"
          ]
        }
      ]
    },
    {
      "cell_type": "code",
      "source": [
        "path_7 = '/content/drive/MyDrive/TMF/T1/ENLACE_COVALENTE/PDB-CAT/PDB-CAT/cif/7'\n",
        "lista_entrada_7 = filter_size(df_harm_7,path_7)\n",
        "print(len(lista_entrada_7))"
      ],
      "metadata": {
        "colab": {
          "base_uri": "https://localhost:8080/"
        },
        "id": "8N07GIKn0h3-",
        "outputId": "7e23a008-40c8-466b-81a5-b519948c6001"
      },
      "execution_count": null,
      "outputs": [
        {
          "output_type": "stream",
          "name": "stdout",
          "text": [
            "11767\n"
          ]
        }
      ]
    },
    {
      "cell_type": "code",
      "source": [
        "path_8 = '/content/drive/MyDrive/TMF/T1/ENLACE_COVALENTE/PDB-CAT/PDB-CAT/cif/8'\n",
        "lista_entrada_8 = filter_size(df_harm_8,path_8)\n",
        "print(len(lista_entrada_8))"
      ],
      "metadata": {
        "colab": {
          "base_uri": "https://localhost:8080/"
        },
        "id": "KsVRQWAm0hw-",
        "outputId": "3a595b2f-60ac-4213-eedf-38c2c10cef61"
      },
      "execution_count": null,
      "outputs": [
        {
          "output_type": "stream",
          "name": "stdout",
          "text": [
            "7898\n"
          ]
        }
      ]
    },
    {
      "cell_type": "code",
      "source": [
        "path_9 = '/content/drive/MyDrive/TMF/T1/ENLACE_COVALENTE/PDB-CAT/PDB-CAT/cif/9'\n",
        "lista_entrada_9 = filter_size(df_harm_9,path_9)\n",
        "print(len(lista_entrada_9))"
      ],
      "metadata": {
        "colab": {
          "base_uri": "https://localhost:8080/"
        },
        "id": "CDgy4RKu0hlX",
        "outputId": "a1bbe1f1-371c-47b0-8509-e55db874e207"
      },
      "execution_count": null,
      "outputs": [
        {
          "output_type": "stream",
          "name": "stdout",
          "text": [
            "1504\n"
          ]
        }
      ]
    },
    {
      "cell_type": "markdown",
      "source": [
        "## Unir las listas en una lista única y descartar las entradas cuyo archivo tiene un tamaño mayor a 3 MegaByte."
      ],
      "metadata": {
        "id": "YzWXnYoz1nUP"
      }
    },
    {
      "cell_type": "code",
      "source": [
        "lista_unica = lista_entrada_1+lista_entrada_2+lista_entrada_2_1+lista_entrada_3+lista_entrada_3_1+lista_entrada_4+lista_entrada_5+lista_entrada_5_1+lista_entrada_6+lista_entrada_6_1+lista_entrada_7+lista_entrada_8+lista_entrada_9\n",
        "print(len(lista_unica))"
      ],
      "metadata": {
        "colab": {
          "base_uri": "https://localhost:8080/"
        },
        "id": "Q92IESmH1xV2",
        "outputId": "63f6d985-339b-4511-c0fc-dad3dfbd717e"
      },
      "execution_count": null,
      "outputs": [
        {
          "output_type": "stream",
          "name": "stdout",
          "text": [
            "83876\n"
          ]
        }
      ]
    },
    {
      "cell_type": "code",
      "source": [
        "print(f\"Dataframe antes del filtro: {df_harm.shape[0]}\")\n",
        "df_filtro_tamano = df_harm[df_harm['PDB_entry_id'].isin(lista_unica)]\n",
        "print(f\"Dataframe después del filtro: {df_filtro_tamano.shape[0]}\")\n",
        "\n",
        "print(f\"Se han descartado {df_harm.shape[0]-df_filtro_tamano.shape[0]} entradas grandes\")"
      ],
      "metadata": {
        "colab": {
          "base_uri": "https://localhost:8080/"
        },
        "id": "4Wv7DQz62KIu",
        "outputId": "730146a2-97a7-4161-edbb-21f34fc013c0"
      },
      "execution_count": null,
      "outputs": [
        {
          "output_type": "stream",
          "name": "stdout",
          "text": [
            "Dataframe antes del filtro: 90457\n",
            "Dataframe después del filtro: 83876\n",
            "Se han descartado 6581 entradas grandes\n"
          ]
        }
      ]
    },
    {
      "cell_type": "code",
      "source": [
        "output_path = \"/content/drive/MyDrive/TMF/T1/Filtro_tamaño_archivos\"\n",
        "output_file = os.path.join(output_path,\"df_harm_filtro_5.csv\")\n",
        "df_filtro_tamano.to_csv(output_file, sep = ',', index = False)"
      ],
      "metadata": {
        "id": "6bI3KhcV3Dqe"
      },
      "execution_count": null,
      "outputs": []
    }
  ]
}