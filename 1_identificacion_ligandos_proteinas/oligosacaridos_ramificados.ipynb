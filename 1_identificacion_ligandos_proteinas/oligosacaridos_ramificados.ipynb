{
 "cells": [
  {
   "cell_type": "markdown",
   "metadata": {
    "id": "N4DWCb_WmysX"
   },
   "source": [
    "#Controlar la presencia de oligosacáridos ramificados"
   ]
  },
  {
   "cell_type": "code",
   "execution_count": null,
   "metadata": {
    "colab": {
     "base_uri": "https://localhost:8080/"
    },
    "id": "PpPZ1UOVACSL",
    "outputId": "865e6578-adc9-4c0e-faba-e2520269532e"
   },
   "outputs": [
    {
     "name": "stdout",
     "output_type": "stream",
     "text": [
      "Mounted at /content/drive\n"
     ]
    }
   ],
   "source": [
    "from google.colab import drive\n",
    "drive.mount('/content/drive')"
   ]
  },
  {
   "cell_type": "code",
   "execution_count": null,
   "metadata": {
    "colab": {
     "base_uri": "https://localhost:8080/"
    },
    "collapsed": true,
    "id": "ZOq33W0XAJ9D",
    "outputId": "838f49b0-6b0f-47e6-af03-f4161c549433"
   },
   "outputs": [],
   "source": [
    "!pip install Biopython\n",
    "!pip install pandarallel"
   ]
  },
  {
   "cell_type": "code",
   "execution_count": null,
   "metadata": {
    "id": "tM-w7rJSAOhj"
   },
   "outputs": [],
   "source": [
    "#@title Importar archivos\n",
    "\n",
    "import pandas as pd\n",
    "import os\n",
    "\n",
    "input_folder = \"/content/drive/MyDrive/TFM/T1/oligosacaridos_ramificados\"\n",
    "input_file = os.path.join(input_folder,\"df_harm_filtro_3.csv\")\n",
    "df_harm_1 = pd.read_csv(input_file, sep = ',')"
   ]
  },
  {
   "cell_type": "code",
   "execution_count": null,
   "metadata": {
    "id": "nrZTzJPsGR9t"
   },
   "outputs": [],
   "source": [
    "#@title Función para comprobar si hay o no oligosacáridos ramificados\n",
    "\n",
    "def check_oligosacaridos(row):\n",
    "    entrada = row['PDB_entry_id']\n",
    "    if entrada[0] in ['3']:\n",
    "      subfolder = entrada[0]\n",
    "      cif_file = os.path.join(input_folder, subfolder, f\"{entrada.lower()}.cif\")\n",
    "\n",
    "      try:\n",
    "          cif_dict = MMCIF2Dict(cif_file)\n",
    "          if \"_pdbx_entity_branch.type\" in cif_dict:\n",
    "              return True  # Contiene oligosacárido ramificado\n",
    "      except Exception as e:\n",
    "          print(f\"Error con {entrada}: {e}\")\n",
    "          entrada_no_encontrada.append(entrada)\n",
    "\n",
    "      return False"
   ]
  },
  {
   "cell_type": "code",
   "execution_count": null,
   "metadata": {
    "colab": {
     "base_uri": "https://localhost:8080/"
    },
    "id": "kKD3fm2zoTnP",
    "outputId": "082d262d-0282-4922-ae03-027e1bbb96b8"
   },
   "outputs": [
    {
     "name": "stdout",
     "output_type": "stream",
     "text": [
      "9068\n"
     ]
    }
   ],
   "source": [
    "#@title Dataframe con las entradas a analizar\n",
    "\n",
    "df_lista_3 = df_harm_1[df_harm_1['PDB_entry_id'].str.startswith('3')].copy()\n",
    "print(len(df_lista_3))"
   ]
  },
  {
   "cell_type": "code",
   "execution_count": null,
   "metadata": {
    "colab": {
     "base_uri": "https://localhost:8080/",
     "height": 1000,
     "referenced_widgets": [
      "7ff3f592f3b54ead8778f144f304ea46",
      "4f1c50f6da6743b9a74050e75e361ef5",
      "e16fdcdc18214a12968a5f3f5dd9e536",
      "7b205d3aa56f4a8784c2e16656ca42bb",
      "c3e17554e0d0493eb01db95719317e58",
      "cbfb227a057f41c1abf2aabde02d7a30",
      "c3a636b08e84482eacc040c37e26e9d1",
      "3b47580f66434901b34a5954580061f1",
      "547b5937193d4df999e2a6d091d09b0a",
      "5f8d2d18f42c45bc8e4e8b80c10a3751",
      "4621c1ee8ed3491d86f40d74a4dfdf19",
      "dc7da95d8c3d4d7eb87f88cd397fda33",
      "d488ab1d6a96411e94dfc997d4a9855f",
      "c3d2865a92064710859845a2c90bfb10",
      "e0637e4318d34128b5db5ba12d7d33bb",
      "6c8ba2bb952e47dabfde59395296c37e",
      "aedd804871744840bbfd92c805f23469",
      "9c8548f83a7341d99e8375a29fbe23c0"
     ]
    },
    "id": "-XiN5t5KoXj2",
    "outputId": "34e324e3-c272-4b9e-fff4-f5dce1a49435"
   },
   "outputs": [],
   "source": [
    "#@title Aplicar la función al dataframe y crear el dataframe de output con solo los oligosacaridos ramificados\n",
    "\n",
    "# Inicializar pandarallel (ajusta workers si tienes más núcleos)\n",
    "pandarallel.initialize(nb_workers=2, progress_bar=True)\n",
    "\n",
    "df_lista_3['es_oligosacarido_ramificado'] = df_lista_3.parallel_apply(check_oligosacaridos, axis=1)\n",
    "\n",
    "# Evitar error de NaN\n",
    "df_lista_3['es_oligosacarido_ramificado'] = df_lista_3['es_oligosacarido_ramificado'].fillna(False)\n",
    "\n",
    "df_oligos = df_lista_3[df_lista_3['es_oligosacarido_ramificado']]\n",
    "print(f\"Total encontrados: {len(df_oligos)}\")\n",
    "\n",
    "output_file = os.path.join(input_folder, \"oligosacaridos_ramificados.csv\")\n",
    "df_oligos.to_csv(output_file, index=False)"
   ]
  }
 ],
 "metadata": {
  "colab": {
   "provenance": [],
   "toc_visible": true
  },
  "kernelspec": {
   "display_name": "Python 3",
   "name": "python3"
  },
  "language_info": {
   "name": "python"
  }
 },
 "nbformat": 4,
 "nbformat_minor": 0
}
